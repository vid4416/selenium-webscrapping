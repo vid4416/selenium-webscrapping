{
 "cells": [
  {
   "cell_type": "code",
   "execution_count": 89,
   "id": "08f4badb",
   "metadata": {},
   "outputs": [
    {
     "name": "stdout",
     "output_type": "stream",
     "text": [
      "Requirement already satisfied: selenium in c:\\users\\vidhya\\anaconda3\\lib\\site-packages (4.1.0)\n",
      "Requirement already satisfied: trio-websocket~=0.9 in c:\\users\\vidhya\\anaconda3\\lib\\site-packages (from selenium) (0.9.2)\n",
      "Requirement already satisfied: urllib3[secure]~=1.26 in c:\\users\\vidhya\\anaconda3\\lib\\site-packages (from selenium) (1.26.4)\n",
      "Requirement already satisfied: trio~=0.17 in c:\\users\\vidhya\\anaconda3\\lib\\site-packages (from selenium) (0.19.0)\n",
      "Requirement already satisfied: sortedcontainers in c:\\users\\vidhya\\anaconda3\\lib\\site-packages (from trio~=0.17->selenium) (2.3.0)\n",
      "Requirement already satisfied: cffi>=1.14 in c:\\users\\vidhya\\anaconda3\\lib\\site-packages (from trio~=0.17->selenium) (1.14.5)\n",
      "Requirement already satisfied: sniffio in c:\\users\\vidhya\\anaconda3\\lib\\site-packages (from trio~=0.17->selenium) (1.2.0)\n",
      "Requirement already satisfied: outcome in c:\\users\\vidhya\\anaconda3\\lib\\site-packages (from trio~=0.17->selenium) (1.1.0)\n",
      "Requirement already satisfied: async-generator>=1.9 in c:\\users\\vidhya\\anaconda3\\lib\\site-packages (from trio~=0.17->selenium) (1.10)\n",
      "Requirement already satisfied: attrs>=19.2.0 in c:\\users\\vidhya\\anaconda3\\lib\\site-packages (from trio~=0.17->selenium) (20.3.0)\n",
      "Requirement already satisfied: idna in c:\\users\\vidhya\\anaconda3\\lib\\site-packages (from trio~=0.17->selenium) (2.10)\n",
      "Requirement already satisfied: pycparser in c:\\users\\vidhya\\anaconda3\\lib\\site-packages (from cffi>=1.14->trio~=0.17->selenium) (2.20)\n",
      "Requirement already satisfied: wsproto>=0.14 in c:\\users\\vidhya\\anaconda3\\lib\\site-packages (from trio-websocket~=0.9->selenium) (1.0.0)\n",
      "Requirement already satisfied: cryptography>=1.3.4 in c:\\users\\vidhya\\anaconda3\\lib\\site-packages (from urllib3[secure]~=1.26->selenium) (3.4.7)\n",
      "Requirement already satisfied: pyOpenSSL>=0.14 in c:\\users\\vidhya\\anaconda3\\lib\\site-packages (from urllib3[secure]~=1.26->selenium) (20.0.1)\n",
      "Requirement already satisfied: certifi in c:\\users\\vidhya\\anaconda3\\lib\\site-packages (from urllib3[secure]~=1.26->selenium) (2020.12.5)\n",
      "Requirement already satisfied: six>=1.5.2 in c:\\users\\vidhya\\anaconda3\\lib\\site-packages (from pyOpenSSL>=0.14->urllib3[secure]~=1.26->selenium) (1.15.0)\n",
      "Requirement already satisfied: h11<1,>=0.9.0 in c:\\users\\vidhya\\anaconda3\\lib\\site-packages (from wsproto>=0.14->trio-websocket~=0.9->selenium) (0.12.0)\n"
     ]
    }
   ],
   "source": [
    "! pip install selenium"
   ]
  },
  {
   "cell_type": "code",
   "execution_count": 668,
   "id": "a13296bb",
   "metadata": {},
   "outputs": [],
   "source": [
    "import selenium\n",
    "import pandas as pd\n",
    "from selenium import webdriver"
   ]
  },
  {
   "cell_type": "code",
   "execution_count": 106,
   "id": "59a2b1d5",
   "metadata": {},
   "outputs": [],
   "source": [
    "#1st program"
   ]
  },
  {
   "cell_type": "code",
   "execution_count": 162,
   "id": "bdfc6b33",
   "metadata": {},
   "outputs": [],
   "source": [
    "driver = webdriver.Chrome(r\"C:/Users/Vidhya/Downloads/chromedriver_win32/chromedriver.exe\")"
   ]
  },
  {
   "cell_type": "code",
   "execution_count": 93,
   "id": "9abe9d75",
   "metadata": {},
   "outputs": [],
   "source": [
    "import warnings\n",
    "warnings.filterwarnings('ignore') "
   ]
  },
  {
   "cell_type": "code",
   "execution_count": 172,
   "id": "c101862f",
   "metadata": {},
   "outputs": [],
   "source": [
    "driver.get('https://www.naukri.com/')"
   ]
  },
  {
   "cell_type": "code",
   "execution_count": 173,
   "id": "d245340d",
   "metadata": {},
   "outputs": [],
   "source": [
    "search_job=driver.find_element_by_id('qsb-keyword-sugg')\n",
    "search_job.send_keys(\"Data Analyst\")\n",
    "search_loc=driver.find_element_by_xpath(\"//input[@id='qsb-location-sugg']\")\n",
    "search_loc.send_keys(\"Bangalore\")"
   ]
  },
  {
   "cell_type": "code",
   "execution_count": 174,
   "id": "8df91734",
   "metadata": {},
   "outputs": [],
   "source": [
    "search_btn=driver.find_element_by_xpath(\"//div[@class='search-btn']/button\")\n",
    "search_btn.click()"
   ]
  },
  {
   "cell_type": "code",
   "execution_count": 175,
   "id": "261de12e",
   "metadata": {},
   "outputs": [],
   "source": [
    "job_titles=[]\n",
    "job_location=[]\n",
    "company_names=[]\n",
    "experience_required=[]"
   ]
  },
  {
   "cell_type": "code",
   "execution_count": 176,
   "id": "82e48aa6",
   "metadata": {},
   "outputs": [
    {
     "data": {
      "text/plain": [
       "[<selenium.webdriver.remote.webelement.WebElement (session=\"163e289bbbaa5de8460b09cf74f4db7a\", element=\"0ca15444-f1a9-4a4f-9f31-740dff8fdd6f\")>,\n",
       " <selenium.webdriver.remote.webelement.WebElement (session=\"163e289bbbaa5de8460b09cf74f4db7a\", element=\"ff9a3bc6-bfb3-4b52-bb0b-a01fa215d05f\")>,\n",
       " <selenium.webdriver.remote.webelement.WebElement (session=\"163e289bbbaa5de8460b09cf74f4db7a\", element=\"e6771f07-c8ad-4938-8b30-a57084925bfb\")>,\n",
       " <selenium.webdriver.remote.webelement.WebElement (session=\"163e289bbbaa5de8460b09cf74f4db7a\", element=\"6eb66ee7-6a01-42a1-950f-25d0c216add1\")>,\n",
       " <selenium.webdriver.remote.webelement.WebElement (session=\"163e289bbbaa5de8460b09cf74f4db7a\", element=\"a449900d-a2f0-411c-b840-8781b986cedd\")>,\n",
       " <selenium.webdriver.remote.webelement.WebElement (session=\"163e289bbbaa5de8460b09cf74f4db7a\", element=\"3720f04d-a33c-4662-bc6c-3a00e591e4b4\")>,\n",
       " <selenium.webdriver.remote.webelement.WebElement (session=\"163e289bbbaa5de8460b09cf74f4db7a\", element=\"2690f202-f119-4342-85a1-695a76543809\")>,\n",
       " <selenium.webdriver.remote.webelement.WebElement (session=\"163e289bbbaa5de8460b09cf74f4db7a\", element=\"6d6af47f-0f41-4d7b-9e1e-75aaab1640a8\")>,\n",
       " <selenium.webdriver.remote.webelement.WebElement (session=\"163e289bbbaa5de8460b09cf74f4db7a\", element=\"97833ab8-a45c-46c0-8dcf-960996d331f5\")>,\n",
       " <selenium.webdriver.remote.webelement.WebElement (session=\"163e289bbbaa5de8460b09cf74f4db7a\", element=\"ac33f0c4-c111-40d5-9ad6-dfc00bfd0fe8\")>]"
      ]
     },
     "execution_count": 176,
     "metadata": {},
     "output_type": "execute_result"
    }
   ],
   "source": [
    "titles_tags=driver.find_elements_by_xpath(\"//a[@class='title fw500 ellipsis']\")\n",
    "titles_tags[0:10]"
   ]
  },
  {
   "cell_type": "code",
   "execution_count": 177,
   "id": "e5211a5b",
   "metadata": {},
   "outputs": [
    {
     "data": {
      "text/plain": [
       "['Hiring -Data Analyst, Business Analyst, MIS Analyst -3rd Party Payroll',\n",
       " 'Business Analyst/ Data Analyst- Capital Market & SQL (Mandatory)',\n",
       " 'Data Analyst',\n",
       " 'Data Analyst',\n",
       " 'Senior Data Analyst',\n",
       " 'Senior Data Analyst for HANA Platform',\n",
       " 'Assistant/deputy Manager - Geo-spatial Data Analyst',\n",
       " 'Data Analyst',\n",
       " 'DG - Business Analyst - Data Visualization & Analytics',\n",
       " 'Hiring Business Data Analyst +ETL- Tech Mahindra, Bangalore']"
      ]
     },
     "execution_count": 177,
     "metadata": {},
     "output_type": "execute_result"
    }
   ],
   "source": [
    "for i in titles_tags:\n",
    "    title=i.text\n",
    "    job_titles.append(title)\n",
    "job_titles[0:10]"
   ]
  },
  {
   "cell_type": "code",
   "execution_count": 178,
   "id": "7bf4e650",
   "metadata": {},
   "outputs": [
    {
     "data": {
      "text/plain": [
       "[<selenium.webdriver.remote.webelement.WebElement (session=\"163e289bbbaa5de8460b09cf74f4db7a\", element=\"8cdbdf89-8aa6-47f3-8e70-2b75fca37462\")>,\n",
       " <selenium.webdriver.remote.webelement.WebElement (session=\"163e289bbbaa5de8460b09cf74f4db7a\", element=\"e34ef512-47cb-4c76-9ec5-6c1404ddc4d5\")>,\n",
       " <selenium.webdriver.remote.webelement.WebElement (session=\"163e289bbbaa5de8460b09cf74f4db7a\", element=\"224140e5-95c2-4078-8337-1418b1b08a79\")>,\n",
       " <selenium.webdriver.remote.webelement.WebElement (session=\"163e289bbbaa5de8460b09cf74f4db7a\", element=\"ebdcbedc-9a70-4899-9fc5-76792c008be6\")>,\n",
       " <selenium.webdriver.remote.webelement.WebElement (session=\"163e289bbbaa5de8460b09cf74f4db7a\", element=\"773f1e15-8da8-4b9a-9581-e2d4194449c1\")>,\n",
       " <selenium.webdriver.remote.webelement.WebElement (session=\"163e289bbbaa5de8460b09cf74f4db7a\", element=\"8d4b0fb6-ed02-43c5-ab2e-c415048f4e06\")>,\n",
       " <selenium.webdriver.remote.webelement.WebElement (session=\"163e289bbbaa5de8460b09cf74f4db7a\", element=\"8e5d7a8f-74a2-4c79-bc5a-61d3f395b26a\")>,\n",
       " <selenium.webdriver.remote.webelement.WebElement (session=\"163e289bbbaa5de8460b09cf74f4db7a\", element=\"314e8fc5-1c03-4a74-81c0-80eabdcfcb35\")>,\n",
       " <selenium.webdriver.remote.webelement.WebElement (session=\"163e289bbbaa5de8460b09cf74f4db7a\", element=\"44b43e59-eae2-4a05-86ad-cba105af7199\")>,\n",
       " <selenium.webdriver.remote.webelement.WebElement (session=\"163e289bbbaa5de8460b09cf74f4db7a\", element=\"96f9d6d7-ede6-45e5-9ad0-9593c213ec33\")>]"
      ]
     },
     "execution_count": 178,
     "metadata": {},
     "output_type": "execute_result"
    }
   ],
   "source": [
    "companies_tags=driver.find_elements_by_xpath(\"//a[@class='subTitle ellipsis fleft']\")\n",
    "companies_tags[0:10]"
   ]
  },
  {
   "cell_type": "code",
   "execution_count": 179,
   "id": "104643a0",
   "metadata": {},
   "outputs": [
    {
     "data": {
      "text/plain": [
       "['Flipkart',\n",
       " 'Genpact',\n",
       " 'GlaxoSmithKline Pharmaceuticals Limited',\n",
       " 'Schneider Electric',\n",
       " 'Flipkart',\n",
       " 'Intel',\n",
       " 'Maruti Suzuki India',\n",
       " 'Slice',\n",
       " 'ExecBoardinAsia',\n",
       " 'Tech Mahindra']"
      ]
     },
     "execution_count": 179,
     "metadata": {},
     "output_type": "execute_result"
    }
   ],
   "source": [
    "for i in companies_tags:\n",
    "    company_name=i.text\n",
    "    company_names.append(company_name)\n",
    "company_names[0:10]"
   ]
  },
  {
   "cell_type": "code",
   "execution_count": 180,
   "id": "fd905818",
   "metadata": {},
   "outputs": [
    {
     "data": {
      "text/plain": [
       "[<selenium.webdriver.remote.webelement.WebElement (session=\"163e289bbbaa5de8460b09cf74f4db7a\", element=\"92c65e45-d155-40d8-b73a-2f2aa10612cd\")>,\n",
       " <selenium.webdriver.remote.webelement.WebElement (session=\"163e289bbbaa5de8460b09cf74f4db7a\", element=\"e6b8204b-41e8-46b4-95db-39a9792230bb\")>,\n",
       " <selenium.webdriver.remote.webelement.WebElement (session=\"163e289bbbaa5de8460b09cf74f4db7a\", element=\"0551fe86-13d3-42e0-8519-6f7810f602bb\")>,\n",
       " <selenium.webdriver.remote.webelement.WebElement (session=\"163e289bbbaa5de8460b09cf74f4db7a\", element=\"3a7d4cd6-dde4-4011-88e4-9a839e56b4bb\")>,\n",
       " <selenium.webdriver.remote.webelement.WebElement (session=\"163e289bbbaa5de8460b09cf74f4db7a\", element=\"3433d4ee-058a-416b-bfa7-eae5d53ef11d\")>,\n",
       " <selenium.webdriver.remote.webelement.WebElement (session=\"163e289bbbaa5de8460b09cf74f4db7a\", element=\"d353ecf2-25a0-423e-b9f5-a8a66068ef21\")>,\n",
       " <selenium.webdriver.remote.webelement.WebElement (session=\"163e289bbbaa5de8460b09cf74f4db7a\", element=\"a05081c4-40f3-4235-97d5-2401d4b54943\")>,\n",
       " <selenium.webdriver.remote.webelement.WebElement (session=\"163e289bbbaa5de8460b09cf74f4db7a\", element=\"a7a1acfb-43c6-46d4-ad2e-472bd9f1f674\")>,\n",
       " <selenium.webdriver.remote.webelement.WebElement (session=\"163e289bbbaa5de8460b09cf74f4db7a\", element=\"d0f54629-1b52-487f-b0c1-a7d9eb4982ef\")>,\n",
       " <selenium.webdriver.remote.webelement.WebElement (session=\"163e289bbbaa5de8460b09cf74f4db7a\", element=\"f2030d0a-1f16-46e5-a8ae-e61075c504cb\")>]"
      ]
     },
     "execution_count": 180,
     "metadata": {},
     "output_type": "execute_result"
    }
   ],
   "source": [
    "experience_tags=driver.find_elements_by_xpath(\"//li[@class='fleft grey-text br2 placeHolderLi experience']/span[1]\")\n",
    "experience_tags[0:10]"
   ]
  },
  {
   "cell_type": "code",
   "execution_count": 181,
   "id": "2e0f8133",
   "metadata": {},
   "outputs": [
    {
     "data": {
      "text/plain": [
       "['1-6 Yrs',\n",
       " '7-12 Yrs',\n",
       " '3-8 Yrs',\n",
       " '2-5 Yrs',\n",
       " '3-7 Yrs',\n",
       " '5-10 Yrs',\n",
       " '3-5 Yrs',\n",
       " '0-2 Yrs',\n",
       " '5-10 Yrs',\n",
       " '6-10 Yrs']"
      ]
     },
     "execution_count": 181,
     "metadata": {},
     "output_type": "execute_result"
    }
   ],
   "source": [
    "for i in experience_tags:\n",
    "    experience=i.text\n",
    "    experience_required.append(experience)\n",
    "experience_required[0:10]"
   ]
  },
  {
   "cell_type": "code",
   "execution_count": 182,
   "id": "9ac7e4bd",
   "metadata": {},
   "outputs": [
    {
     "data": {
      "text/plain": [
       "[<selenium.webdriver.remote.webelement.WebElement (session=\"163e289bbbaa5de8460b09cf74f4db7a\", element=\"a6d2ef10-7c5e-4bfc-8136-292b10306c36\")>,\n",
       " <selenium.webdriver.remote.webelement.WebElement (session=\"163e289bbbaa5de8460b09cf74f4db7a\", element=\"7de4c265-d3dd-40d7-ae45-cc4226033a44\")>,\n",
       " <selenium.webdriver.remote.webelement.WebElement (session=\"163e289bbbaa5de8460b09cf74f4db7a\", element=\"752c5430-a18d-4dcd-9deb-611cbca24f45\")>,\n",
       " <selenium.webdriver.remote.webelement.WebElement (session=\"163e289bbbaa5de8460b09cf74f4db7a\", element=\"1dbaab17-fb81-4981-b228-ddf68dbfb210\")>,\n",
       " <selenium.webdriver.remote.webelement.WebElement (session=\"163e289bbbaa5de8460b09cf74f4db7a\", element=\"5281d723-ba85-4c8e-b09b-e22a677a39c2\")>,\n",
       " <selenium.webdriver.remote.webelement.WebElement (session=\"163e289bbbaa5de8460b09cf74f4db7a\", element=\"3d8f6fcb-0ec9-44a2-bc07-4b644e1c1c19\")>,\n",
       " <selenium.webdriver.remote.webelement.WebElement (session=\"163e289bbbaa5de8460b09cf74f4db7a\", element=\"57512c65-049c-4b47-92bd-5380e0aee443\")>,\n",
       " <selenium.webdriver.remote.webelement.WebElement (session=\"163e289bbbaa5de8460b09cf74f4db7a\", element=\"f9c57df7-39e9-4513-8863-4bd5401dc7b0\")>,\n",
       " <selenium.webdriver.remote.webelement.WebElement (session=\"163e289bbbaa5de8460b09cf74f4db7a\", element=\"2fb9234b-e22d-473f-a58f-a67390d37637\")>,\n",
       " <selenium.webdriver.remote.webelement.WebElement (session=\"163e289bbbaa5de8460b09cf74f4db7a\", element=\"525ddb21-3237-4dcb-8322-87fb7b9e8ff6\")>]"
      ]
     },
     "execution_count": 182,
     "metadata": {},
     "output_type": "execute_result"
    }
   ],
   "source": [
    "location_tags=driver.find_elements_by_xpath(\"//li[@class='fleft grey-text br2 placeHolderLi location']/span[1]\")\n",
    "location_tags[0:10]"
   ]
  },
  {
   "cell_type": "code",
   "execution_count": 183,
   "id": "07c1fb1b",
   "metadata": {},
   "outputs": [
    {
     "data": {
      "text/plain": [
       "['Bangalore/Bengaluru',\n",
       " 'Pune, Bangalore/Bengaluru',\n",
       " 'Bangalore/Bengaluru',\n",
       " 'Bangalore/Bengaluru',\n",
       " 'Bangalore/Bengaluru',\n",
       " 'Bangalore/Bengaluru',\n",
       " 'Gurgaon/Gurugram, bangalore',\n",
       " 'Bangalore/Bengaluru',\n",
       " 'Bangalore/Bengaluru',\n",
       " 'Bangalore/Bengaluru']"
      ]
     },
     "execution_count": 183,
     "metadata": {},
     "output_type": "execute_result"
    }
   ],
   "source": [
    "for i in location_tags:\n",
    "    location=i.text\n",
    "    job_location.append(location)\n",
    "job_location[0:10]"
   ]
  },
  {
   "cell_type": "code",
   "execution_count": 184,
   "id": "11c2eb54",
   "metadata": {},
   "outputs": [
    {
     "name": "stdout",
     "output_type": "stream",
     "text": [
      "20 20 20 20\n"
     ]
    }
   ],
   "source": [
    "print(len(job_titles),len(job_location),len(company_names),len(experience_required))"
   ]
  },
  {
   "cell_type": "code",
   "execution_count": 185,
   "id": "d1ecf886",
   "metadata": {},
   "outputs": [],
   "source": [
    "jobs=pd.DataFrame({})\n",
    "jobs[\"title\"]=job_titles\n",
    "jobs[\"location\"]=job_location\n",
    "jobs[\"company_names\"]=company_names\n",
    "jobs[\"experience_required\"]=experience_required"
   ]
  },
  {
   "cell_type": "code",
   "execution_count": 186,
   "id": "b85cfcb1",
   "metadata": {},
   "outputs": [
    {
     "data": {
      "text/html": [
       "<div>\n",
       "<style scoped>\n",
       "    .dataframe tbody tr th:only-of-type {\n",
       "        vertical-align: middle;\n",
       "    }\n",
       "\n",
       "    .dataframe tbody tr th {\n",
       "        vertical-align: top;\n",
       "    }\n",
       "\n",
       "    .dataframe thead th {\n",
       "        text-align: right;\n",
       "    }\n",
       "</style>\n",
       "<table border=\"1\" class=\"dataframe\">\n",
       "  <thead>\n",
       "    <tr style=\"text-align: right;\">\n",
       "      <th></th>\n",
       "      <th>title</th>\n",
       "      <th>location</th>\n",
       "      <th>company_names</th>\n",
       "      <th>experience_required</th>\n",
       "    </tr>\n",
       "  </thead>\n",
       "  <tbody>\n",
       "    <tr>\n",
       "      <th>0</th>\n",
       "      <td>Hiring -Data Analyst, Business Analyst, MIS An...</td>\n",
       "      <td>Bangalore/Bengaluru</td>\n",
       "      <td>Flipkart</td>\n",
       "      <td>1-6 Yrs</td>\n",
       "    </tr>\n",
       "    <tr>\n",
       "      <th>1</th>\n",
       "      <td>Business Analyst/ Data Analyst- Capital Market...</td>\n",
       "      <td>Pune, Bangalore/Bengaluru</td>\n",
       "      <td>Genpact</td>\n",
       "      <td>7-12 Yrs</td>\n",
       "    </tr>\n",
       "    <tr>\n",
       "      <th>2</th>\n",
       "      <td>Data Analyst</td>\n",
       "      <td>Bangalore/Bengaluru</td>\n",
       "      <td>GlaxoSmithKline Pharmaceuticals Limited</td>\n",
       "      <td>3-8 Yrs</td>\n",
       "    </tr>\n",
       "    <tr>\n",
       "      <th>3</th>\n",
       "      <td>Data Analyst</td>\n",
       "      <td>Bangalore/Bengaluru</td>\n",
       "      <td>Schneider Electric</td>\n",
       "      <td>2-5 Yrs</td>\n",
       "    </tr>\n",
       "    <tr>\n",
       "      <th>4</th>\n",
       "      <td>Senior Data Analyst</td>\n",
       "      <td>Bangalore/Bengaluru</td>\n",
       "      <td>Flipkart</td>\n",
       "      <td>3-7 Yrs</td>\n",
       "    </tr>\n",
       "    <tr>\n",
       "      <th>5</th>\n",
       "      <td>Senior Data Analyst for HANA Platform</td>\n",
       "      <td>Bangalore/Bengaluru</td>\n",
       "      <td>Intel</td>\n",
       "      <td>5-10 Yrs</td>\n",
       "    </tr>\n",
       "    <tr>\n",
       "      <th>6</th>\n",
       "      <td>Assistant/deputy Manager - Geo-spatial Data An...</td>\n",
       "      <td>Gurgaon/Gurugram, bangalore</td>\n",
       "      <td>Maruti Suzuki India</td>\n",
       "      <td>3-5 Yrs</td>\n",
       "    </tr>\n",
       "    <tr>\n",
       "      <th>7</th>\n",
       "      <td>Data Analyst</td>\n",
       "      <td>Bangalore/Bengaluru</td>\n",
       "      <td>Slice</td>\n",
       "      <td>0-2 Yrs</td>\n",
       "    </tr>\n",
       "    <tr>\n",
       "      <th>8</th>\n",
       "      <td>DG - Business Analyst - Data Visualization &amp; A...</td>\n",
       "      <td>Bangalore/Bengaluru</td>\n",
       "      <td>ExecBoardinAsia</td>\n",
       "      <td>5-10 Yrs</td>\n",
       "    </tr>\n",
       "    <tr>\n",
       "      <th>9</th>\n",
       "      <td>Hiring Business Data Analyst +ETL- Tech Mahind...</td>\n",
       "      <td>Bangalore/Bengaluru</td>\n",
       "      <td>Tech Mahindra</td>\n",
       "      <td>6-10 Yrs</td>\n",
       "    </tr>\n",
       "    <tr>\n",
       "      <th>10</th>\n",
       "      <td>Senior Data Analyst</td>\n",
       "      <td>Bangalore/Bengaluru</td>\n",
       "      <td>Rapido</td>\n",
       "      <td>1-6 Yrs</td>\n",
       "    </tr>\n",
       "    <tr>\n",
       "      <th>11</th>\n",
       "      <td>Senior Data Analyst</td>\n",
       "      <td>Kolkata, Hyderabad/Secunderabad, Pune, Ahmedab...</td>\n",
       "      <td>SYREN TECHNOLOGIES PRIVATE LIMITED</td>\n",
       "      <td>5-10 Yrs</td>\n",
       "    </tr>\n",
       "    <tr>\n",
       "      <th>12</th>\n",
       "      <td>Senior Data Analyst</td>\n",
       "      <td>Bengaluru/Bangalore</td>\n",
       "      <td>Flipkart</td>\n",
       "      <td>4-5 Yrs</td>\n",
       "    </tr>\n",
       "    <tr>\n",
       "      <th>13</th>\n",
       "      <td>Data Analyst</td>\n",
       "      <td>Bangalore/Bengaluru</td>\n",
       "      <td>Truecaller</td>\n",
       "      <td>2-4 Yrs</td>\n",
       "    </tr>\n",
       "    <tr>\n",
       "      <th>14</th>\n",
       "      <td>Data Analyst</td>\n",
       "      <td>Bangalore/Bengaluru</td>\n",
       "      <td>Atlassian</td>\n",
       "      <td>3-6 Yrs</td>\n",
       "    </tr>\n",
       "    <tr>\n",
       "      <th>15</th>\n",
       "      <td>Data Analyst (On Contract)</td>\n",
       "      <td>Bangalore/Bengaluru</td>\n",
       "      <td>Rupeek Fintech Pvt Ltd</td>\n",
       "      <td>0-2 Yrs</td>\n",
       "    </tr>\n",
       "    <tr>\n",
       "      <th>16</th>\n",
       "      <td>Manager - Data Analyst</td>\n",
       "      <td>Bangalore/Bengaluru</td>\n",
       "      <td>Genpact</td>\n",
       "      <td>5-10 Yrs</td>\n",
       "    </tr>\n",
       "    <tr>\n",
       "      <th>17</th>\n",
       "      <td>Data Analyst</td>\n",
       "      <td>Bangalore/Bengaluru</td>\n",
       "      <td>GlaxoSmithKline Pharmaceuticals Limited</td>\n",
       "      <td>3-8 Yrs</td>\n",
       "    </tr>\n",
       "    <tr>\n",
       "      <th>18</th>\n",
       "      <td>Data Analyst / Engineer</td>\n",
       "      <td>Chennai, Bangalore/Bengaluru</td>\n",
       "      <td>Animaker India Private Limited</td>\n",
       "      <td>4-9 Yrs</td>\n",
       "    </tr>\n",
       "    <tr>\n",
       "      <th>19</th>\n",
       "      <td>Data Analyst</td>\n",
       "      <td>Bangalore/Bengaluru</td>\n",
       "      <td>GlaxoSmithKline Pharmaceuticals Limited</td>\n",
       "      <td>2-5 Yrs</td>\n",
       "    </tr>\n",
       "  </tbody>\n",
       "</table>\n",
       "</div>"
      ],
      "text/plain": [
       "                                                title  \\\n",
       "0   Hiring -Data Analyst, Business Analyst, MIS An...   \n",
       "1   Business Analyst/ Data Analyst- Capital Market...   \n",
       "2                                        Data Analyst   \n",
       "3                                        Data Analyst   \n",
       "4                                 Senior Data Analyst   \n",
       "5               Senior Data Analyst for HANA Platform   \n",
       "6   Assistant/deputy Manager - Geo-spatial Data An...   \n",
       "7                                        Data Analyst   \n",
       "8   DG - Business Analyst - Data Visualization & A...   \n",
       "9   Hiring Business Data Analyst +ETL- Tech Mahind...   \n",
       "10                                Senior Data Analyst   \n",
       "11                                Senior Data Analyst   \n",
       "12                                Senior Data Analyst   \n",
       "13                                       Data Analyst   \n",
       "14                                       Data Analyst   \n",
       "15                         Data Analyst (On Contract)   \n",
       "16                             Manager - Data Analyst   \n",
       "17                                       Data Analyst   \n",
       "18                            Data Analyst / Engineer   \n",
       "19                                       Data Analyst   \n",
       "\n",
       "                                             location  \\\n",
       "0                                 Bangalore/Bengaluru   \n",
       "1                           Pune, Bangalore/Bengaluru   \n",
       "2                                 Bangalore/Bengaluru   \n",
       "3                                 Bangalore/Bengaluru   \n",
       "4                                 Bangalore/Bengaluru   \n",
       "5                                 Bangalore/Bengaluru   \n",
       "6                         Gurgaon/Gurugram, bangalore   \n",
       "7                                 Bangalore/Bengaluru   \n",
       "8                                 Bangalore/Bengaluru   \n",
       "9                                 Bangalore/Bengaluru   \n",
       "10                                Bangalore/Bengaluru   \n",
       "11  Kolkata, Hyderabad/Secunderabad, Pune, Ahmedab...   \n",
       "12                                Bengaluru/Bangalore   \n",
       "13                                Bangalore/Bengaluru   \n",
       "14                                Bangalore/Bengaluru   \n",
       "15                                Bangalore/Bengaluru   \n",
       "16                                Bangalore/Bengaluru   \n",
       "17                                Bangalore/Bengaluru   \n",
       "18                       Chennai, Bangalore/Bengaluru   \n",
       "19                                Bangalore/Bengaluru   \n",
       "\n",
       "                              company_names experience_required  \n",
       "0                                  Flipkart             1-6 Yrs  \n",
       "1                                   Genpact            7-12 Yrs  \n",
       "2   GlaxoSmithKline Pharmaceuticals Limited             3-8 Yrs  \n",
       "3                        Schneider Electric             2-5 Yrs  \n",
       "4                                  Flipkart             3-7 Yrs  \n",
       "5                                     Intel            5-10 Yrs  \n",
       "6                       Maruti Suzuki India             3-5 Yrs  \n",
       "7                                     Slice             0-2 Yrs  \n",
       "8                           ExecBoardinAsia            5-10 Yrs  \n",
       "9                             Tech Mahindra            6-10 Yrs  \n",
       "10                                   Rapido             1-6 Yrs  \n",
       "11       SYREN TECHNOLOGIES PRIVATE LIMITED            5-10 Yrs  \n",
       "12                                 Flipkart             4-5 Yrs  \n",
       "13                               Truecaller             2-4 Yrs  \n",
       "14                                Atlassian             3-6 Yrs  \n",
       "15                   Rupeek Fintech Pvt Ltd             0-2 Yrs  \n",
       "16                                  Genpact            5-10 Yrs  \n",
       "17  GlaxoSmithKline Pharmaceuticals Limited             3-8 Yrs  \n",
       "18           Animaker India Private Limited             4-9 Yrs  \n",
       "19  GlaxoSmithKline Pharmaceuticals Limited             2-5 Yrs  "
      ]
     },
     "execution_count": 186,
     "metadata": {},
     "output_type": "execute_result"
    }
   ],
   "source": [
    "jobs"
   ]
  },
  {
   "cell_type": "code",
   "execution_count": null,
   "id": "45b8391f",
   "metadata": {},
   "outputs": [],
   "source": [
    "#2nd program"
   ]
  },
  {
   "cell_type": "code",
   "execution_count": 288,
   "id": "c5823707",
   "metadata": {},
   "outputs": [],
   "source": [
    "driver = webdriver.Chrome(r\"C:/Users/Vidhya/Downloads/chromedriver_win32/chromedriver.exe\")"
   ]
  },
  {
   "cell_type": "code",
   "execution_count": 289,
   "id": "9b24ebd1",
   "metadata": {},
   "outputs": [],
   "source": [
    "driver.get('https://www.naukri.com/')"
   ]
  },
  {
   "cell_type": "code",
   "execution_count": 290,
   "id": "798fb8d3",
   "metadata": {},
   "outputs": [],
   "source": [
    "search_job=driver.find_element_by_id('qsb-keyword-sugg')\n",
    "search_job.send_keys(\"Data Scientist\")\n",
    "search_loc=driver.find_element_by_xpath(\"//input[@id='qsb-location-sugg']\")\n",
    "search_loc.send_keys(\"Bangalore\")"
   ]
  },
  {
   "cell_type": "code",
   "execution_count": 291,
   "id": "41aa7aed",
   "metadata": {},
   "outputs": [],
   "source": [
    "search_btn=driver.find_element_by_xpath(\"//div[@class='search-btn']/button\")\n",
    "search_btn.click()"
   ]
  },
  {
   "cell_type": "code",
   "execution_count": 296,
   "id": "0d46c83d",
   "metadata": {},
   "outputs": [],
   "source": [
    "job_titles=[]\n",
    "job_location=[]\n",
    "company_name=[]"
   ]
  },
  {
   "cell_type": "code",
   "execution_count": 297,
   "id": "eaec49c6",
   "metadata": {},
   "outputs": [
    {
     "data": {
      "text/plain": [
       "[<selenium.webdriver.remote.webelement.WebElement (session=\"3624c0d2074612c48071d911a598ac7f\", element=\"094448a0-0d4f-4a06-b63b-2f644fb3c5fa\")>,\n",
       " <selenium.webdriver.remote.webelement.WebElement (session=\"3624c0d2074612c48071d911a598ac7f\", element=\"ae1a0e4a-fdae-4d78-aa00-27dc3fc4e6c9\")>,\n",
       " <selenium.webdriver.remote.webelement.WebElement (session=\"3624c0d2074612c48071d911a598ac7f\", element=\"fefad4a2-cc5c-4dab-9b6b-27680b3ad717\")>,\n",
       " <selenium.webdriver.remote.webelement.WebElement (session=\"3624c0d2074612c48071d911a598ac7f\", element=\"ce3f9aa8-f1c8-4c17-a3d9-e04c2b4b7b1f\")>,\n",
       " <selenium.webdriver.remote.webelement.WebElement (session=\"3624c0d2074612c48071d911a598ac7f\", element=\"306281c7-8a20-47ee-8cac-0de1a66f8d0d\")>,\n",
       " <selenium.webdriver.remote.webelement.WebElement (session=\"3624c0d2074612c48071d911a598ac7f\", element=\"a90854c1-f191-430a-aea0-5ba2911ae807\")>,\n",
       " <selenium.webdriver.remote.webelement.WebElement (session=\"3624c0d2074612c48071d911a598ac7f\", element=\"73e0cf2c-dd94-4237-823a-fca5ca800164\")>,\n",
       " <selenium.webdriver.remote.webelement.WebElement (session=\"3624c0d2074612c48071d911a598ac7f\", element=\"363c21e6-0d28-4d32-afa4-7de507a2e3e9\")>,\n",
       " <selenium.webdriver.remote.webelement.WebElement (session=\"3624c0d2074612c48071d911a598ac7f\", element=\"3a03e6d9-5a05-4705-a300-8b28e9b6319f\")>,\n",
       " <selenium.webdriver.remote.webelement.WebElement (session=\"3624c0d2074612c48071d911a598ac7f\", element=\"b4cc99a9-3a0a-4739-8ebc-ff0b2c9570de\")>]"
      ]
     },
     "execution_count": 297,
     "metadata": {},
     "output_type": "execute_result"
    }
   ],
   "source": [
    "title_tags=driver.find_elements_by_xpath(\"//a[@class='title fw500 ellipsis']\")\n",
    "title_tags[0:10]"
   ]
  },
  {
   "cell_type": "code",
   "execution_count": 298,
   "id": "b8fab832",
   "metadata": {},
   "outputs": [
    {
     "data": {
      "text/plain": [
       "['Data Scientist',\n",
       " 'Deputy Manager - Data Scientist',\n",
       " 'Data Scientist: Advanced Analytics',\n",
       " 'Tcs Hiring For Azure ML Data Scientist',\n",
       " 'Data Science - Senior Data Scientist',\n",
       " 'Senior Data Scientist',\n",
       " 'Senior Data Scientist',\n",
       " 'Lead/Senior Data Scientist (NLP)',\n",
       " 'Data scientist',\n",
       " 'Data Scientist']"
      ]
     },
     "execution_count": 298,
     "metadata": {},
     "output_type": "execute_result"
    }
   ],
   "source": [
    "for i in title_tags:\n",
    "    title=i.text\n",
    "    job_titles.append(title)\n",
    "job_titles[0:10]"
   ]
  },
  {
   "cell_type": "code",
   "execution_count": 299,
   "id": "27840f9b",
   "metadata": {},
   "outputs": [
    {
     "data": {
      "text/plain": [
       "[<selenium.webdriver.remote.webelement.WebElement (session=\"3624c0d2074612c48071d911a598ac7f\", element=\"d67dfe38-f50f-4080-a3e1-2faa405e5143\")>,\n",
       " <selenium.webdriver.remote.webelement.WebElement (session=\"3624c0d2074612c48071d911a598ac7f\", element=\"7d65c2cb-f482-4386-b4c2-1573f3f20e20\")>,\n",
       " <selenium.webdriver.remote.webelement.WebElement (session=\"3624c0d2074612c48071d911a598ac7f\", element=\"6fc3f933-0352-411d-95f6-616ef9ea9f1d\")>,\n",
       " <selenium.webdriver.remote.webelement.WebElement (session=\"3624c0d2074612c48071d911a598ac7f\", element=\"b6cc8d40-0b2d-4bfc-82f3-3016d6c1e799\")>,\n",
       " <selenium.webdriver.remote.webelement.WebElement (session=\"3624c0d2074612c48071d911a598ac7f\", element=\"427d456e-19b4-4a33-9a90-f3e203f7cde0\")>,\n",
       " <selenium.webdriver.remote.webelement.WebElement (session=\"3624c0d2074612c48071d911a598ac7f\", element=\"9dd79257-1693-4eb2-b316-0c5288cf8021\")>,\n",
       " <selenium.webdriver.remote.webelement.WebElement (session=\"3624c0d2074612c48071d911a598ac7f\", element=\"e0732008-590e-41f8-8399-5143457d33d8\")>,\n",
       " <selenium.webdriver.remote.webelement.WebElement (session=\"3624c0d2074612c48071d911a598ac7f\", element=\"da194c2d-6730-4b2e-a8a9-7c8ca9b75d29\")>,\n",
       " <selenium.webdriver.remote.webelement.WebElement (session=\"3624c0d2074612c48071d911a598ac7f\", element=\"41ea37bd-edfa-4e06-99ab-652c365439ea\")>,\n",
       " <selenium.webdriver.remote.webelement.WebElement (session=\"3624c0d2074612c48071d911a598ac7f\", element=\"1c80824c-6ff3-495b-a0a7-34c0b3898bf8\")>]"
      ]
     },
     "execution_count": 299,
     "metadata": {},
     "output_type": "execute_result"
    }
   ],
   "source": [
    "companies_tags=driver.find_elements_by_xpath(\"//a[@class='subTitle ellipsis fleft']\")\n",
    "companies_tags[0:10]"
   ]
  },
  {
   "cell_type": "code",
   "execution_count": 300,
   "id": "8c8ae9f3",
   "metadata": {},
   "outputs": [
    {
     "data": {
      "text/plain": [
       "['Flipkart',\n",
       " 'Genpact',\n",
       " 'GlaxoSmithKline Pharmaceuticals Limited',\n",
       " 'Schneider Electric',\n",
       " 'Flipkart',\n",
       " 'Intel',\n",
       " 'Maruti Suzuki India',\n",
       " 'Slice',\n",
       " 'ExecBoardinAsia',\n",
       " 'Tech Mahindra']"
      ]
     },
     "execution_count": 300,
     "metadata": {},
     "output_type": "execute_result"
    }
   ],
   "source": [
    "for i in companies_tags:\n",
    "    company_name=i.text\n",
    "    company_names.append(company_name)\n",
    "company_names[0:10]"
   ]
  },
  {
   "cell_type": "code",
   "execution_count": 301,
   "id": "d49b8aa5",
   "metadata": {},
   "outputs": [
    {
     "data": {
      "text/plain": [
       "[<selenium.webdriver.remote.webelement.WebElement (session=\"3624c0d2074612c48071d911a598ac7f\", element=\"c6e411ea-a499-4916-9c40-d43b94657b56\")>,\n",
       " <selenium.webdriver.remote.webelement.WebElement (session=\"3624c0d2074612c48071d911a598ac7f\", element=\"33433cbf-89f2-4aee-ad27-c15a56507efb\")>,\n",
       " <selenium.webdriver.remote.webelement.WebElement (session=\"3624c0d2074612c48071d911a598ac7f\", element=\"7c6b8f82-fd26-40fb-9333-dcbc01980018\")>,\n",
       " <selenium.webdriver.remote.webelement.WebElement (session=\"3624c0d2074612c48071d911a598ac7f\", element=\"f17a46fa-2fb1-4eff-ac73-eac1edf3c53d\")>,\n",
       " <selenium.webdriver.remote.webelement.WebElement (session=\"3624c0d2074612c48071d911a598ac7f\", element=\"21e0e518-c2df-4b78-88e3-79e63422fe8c\")>,\n",
       " <selenium.webdriver.remote.webelement.WebElement (session=\"3624c0d2074612c48071d911a598ac7f\", element=\"564ae936-d670-4eed-a047-05c3adcf4b6b\")>,\n",
       " <selenium.webdriver.remote.webelement.WebElement (session=\"3624c0d2074612c48071d911a598ac7f\", element=\"55a4b61c-f9f5-417f-ae05-872e3c75d4f6\")>,\n",
       " <selenium.webdriver.remote.webelement.WebElement (session=\"3624c0d2074612c48071d911a598ac7f\", element=\"16f41efe-b6bb-4d21-96a5-45809d0c2e94\")>,\n",
       " <selenium.webdriver.remote.webelement.WebElement (session=\"3624c0d2074612c48071d911a598ac7f\", element=\"e6d866f2-6edc-4d9c-87b1-b19010933ee5\")>,\n",
       " <selenium.webdriver.remote.webelement.WebElement (session=\"3624c0d2074612c48071d911a598ac7f\", element=\"a20c46f5-61f3-4e9c-af68-f19cff55439e\")>]"
      ]
     },
     "execution_count": 301,
     "metadata": {},
     "output_type": "execute_result"
    }
   ],
   "source": [
    "location_tags=driver.find_elements_by_xpath(\"//li[@class='fleft grey-text br2 placeHolderLi location']/span[1]\")\n",
    "location_tags[0:10]"
   ]
  },
  {
   "cell_type": "code",
   "execution_count": 302,
   "id": "c98b8359",
   "metadata": {},
   "outputs": [
    {
     "data": {
      "text/plain": [
       "['Bangalore/Bengaluru',\n",
       " 'Bangalore/Bengaluru',\n",
       " 'Bengaluru/Bangalore',\n",
       " 'Hyderabad/Secunderabad, Bangalore/Bengaluru, Mumbai (All Areas)',\n",
       " 'Noida, Bangalore/Bengaluru',\n",
       " 'Bangalore/Bengaluru',\n",
       " 'Bangalore/Bengaluru',\n",
       " 'Bangalore/Bengaluru',\n",
       " 'Bangalore/Bengaluru',\n",
       " 'Bangalore/Bengaluru']"
      ]
     },
     "execution_count": 302,
     "metadata": {},
     "output_type": "execute_result"
    }
   ],
   "source": [
    "for i in location_tags:\n",
    "    location=i.text\n",
    "    job_location.append(location)\n",
    "job_location[0:10]"
   ]
  },
  {
   "cell_type": "code",
   "execution_count": 303,
   "id": "51d80667",
   "metadata": {},
   "outputs": [
    {
     "name": "stdout",
     "output_type": "stream",
     "text": [
      "20 20 6\n"
     ]
    }
   ],
   "source": [
    "print(len(job_titles),len(job_location),len(company_name))"
   ]
  },
  {
   "cell_type": "code",
   "execution_count": 304,
   "id": "22d3c07a",
   "metadata": {},
   "outputs": [],
   "source": [
    "jobs=pd.DataFrame({})\n",
    "jobs[\"Title\"]=job_titles\n",
    "jobs[\"Location\"]=job_location\n",
    "jobs[\"Company_Name\"]=company_name"
   ]
  },
  {
   "cell_type": "code",
   "execution_count": 305,
   "id": "7c343939",
   "metadata": {},
   "outputs": [
    {
     "data": {
      "text/html": [
       "<div>\n",
       "<style scoped>\n",
       "    .dataframe tbody tr th:only-of-type {\n",
       "        vertical-align: middle;\n",
       "    }\n",
       "\n",
       "    .dataframe tbody tr th {\n",
       "        vertical-align: top;\n",
       "    }\n",
       "\n",
       "    .dataframe thead th {\n",
       "        text-align: right;\n",
       "    }\n",
       "</style>\n",
       "<table border=\"1\" class=\"dataframe\">\n",
       "  <thead>\n",
       "    <tr style=\"text-align: right;\">\n",
       "      <th></th>\n",
       "      <th>Title</th>\n",
       "      <th>Location</th>\n",
       "      <th>Company_Name</th>\n",
       "    </tr>\n",
       "  </thead>\n",
       "  <tbody>\n",
       "    <tr>\n",
       "      <th>0</th>\n",
       "      <td>Data Scientist</td>\n",
       "      <td>Bangalore/Bengaluru</td>\n",
       "      <td>Unisys</td>\n",
       "    </tr>\n",
       "    <tr>\n",
       "      <th>1</th>\n",
       "      <td>Deputy Manager - Data Scientist</td>\n",
       "      <td>Bangalore/Bengaluru</td>\n",
       "      <td>Unisys</td>\n",
       "    </tr>\n",
       "    <tr>\n",
       "      <th>2</th>\n",
       "      <td>Data Scientist: Advanced Analytics</td>\n",
       "      <td>Bengaluru/Bangalore</td>\n",
       "      <td>Unisys</td>\n",
       "    </tr>\n",
       "    <tr>\n",
       "      <th>3</th>\n",
       "      <td>Tcs Hiring For Azure ML Data Scientist</td>\n",
       "      <td>Hyderabad/Secunderabad, Bangalore/Bengaluru, M...</td>\n",
       "      <td>Unisys</td>\n",
       "    </tr>\n",
       "    <tr>\n",
       "      <th>4</th>\n",
       "      <td>Data Science - Senior Data Scientist</td>\n",
       "      <td>Noida, Bangalore/Bengaluru</td>\n",
       "      <td>Unisys</td>\n",
       "    </tr>\n",
       "    <tr>\n",
       "      <th>5</th>\n",
       "      <td>Senior Data Scientist</td>\n",
       "      <td>Bangalore/Bengaluru</td>\n",
       "      <td>Unisys</td>\n",
       "    </tr>\n",
       "    <tr>\n",
       "      <th>6</th>\n",
       "      <td>Senior Data Scientist</td>\n",
       "      <td>Bangalore/Bengaluru</td>\n",
       "      <td>Unisys</td>\n",
       "    </tr>\n",
       "    <tr>\n",
       "      <th>7</th>\n",
       "      <td>Lead/Senior Data Scientist (NLP)</td>\n",
       "      <td>Bangalore/Bengaluru</td>\n",
       "      <td>Unisys</td>\n",
       "    </tr>\n",
       "    <tr>\n",
       "      <th>8</th>\n",
       "      <td>Data scientist</td>\n",
       "      <td>Bangalore/Bengaluru</td>\n",
       "      <td>Unisys</td>\n",
       "    </tr>\n",
       "    <tr>\n",
       "      <th>9</th>\n",
       "      <td>Data Scientist</td>\n",
       "      <td>Bangalore/Bengaluru</td>\n",
       "      <td>Unisys</td>\n",
       "    </tr>\n",
       "    <tr>\n",
       "      <th>10</th>\n",
       "      <td>Data Scientist</td>\n",
       "      <td>Bangalore/Bengaluru</td>\n",
       "      <td>Unisys</td>\n",
       "    </tr>\n",
       "    <tr>\n",
       "      <th>11</th>\n",
       "      <td>Data Scientist</td>\n",
       "      <td>Bangalore/Bengaluru</td>\n",
       "      <td>Unisys</td>\n",
       "    </tr>\n",
       "    <tr>\n",
       "      <th>12</th>\n",
       "      <td>Data Scientist - Risk Platform</td>\n",
       "      <td>Bangalore/Bengaluru</td>\n",
       "      <td>Unisys</td>\n",
       "    </tr>\n",
       "    <tr>\n",
       "      <th>13</th>\n",
       "      <td>Data Scientist - Risk Platform</td>\n",
       "      <td>Bangalore/Bengaluru</td>\n",
       "      <td>Unisys</td>\n",
       "    </tr>\n",
       "    <tr>\n",
       "      <th>14</th>\n",
       "      <td>Data Scientist</td>\n",
       "      <td>Bangalore/Bengaluru</td>\n",
       "      <td>Unisys</td>\n",
       "    </tr>\n",
       "    <tr>\n",
       "      <th>15</th>\n",
       "      <td>Advanced Analytics Expert - Data Scientist</td>\n",
       "      <td>Bangalore/Bengaluru, Bangalore</td>\n",
       "      <td>Unisys</td>\n",
       "    </tr>\n",
       "    <tr>\n",
       "      <th>16</th>\n",
       "      <td>Data Scientist</td>\n",
       "      <td>Bangalore Rural, Bangalore/Bengaluru</td>\n",
       "      <td>Unisys</td>\n",
       "    </tr>\n",
       "    <tr>\n",
       "      <th>17</th>\n",
       "      <td>Machine Learning AI Data Scientist</td>\n",
       "      <td>Bangalore/Bengaluru</td>\n",
       "      <td>Unisys</td>\n",
       "    </tr>\n",
       "    <tr>\n",
       "      <th>18</th>\n",
       "      <td>Sr. Associate Consultant Data Scientist</td>\n",
       "      <td>Bangalore/Bengaluru</td>\n",
       "      <td>Unisys</td>\n",
       "    </tr>\n",
       "    <tr>\n",
       "      <th>19</th>\n",
       "      <td>Senior Engineer - AIML - Data Scientist</td>\n",
       "      <td>Bangalore/Bengaluru</td>\n",
       "      <td>Unisys</td>\n",
       "    </tr>\n",
       "  </tbody>\n",
       "</table>\n",
       "</div>"
      ],
      "text/plain": [
       "                                         Title  \\\n",
       "0                               Data Scientist   \n",
       "1              Deputy Manager - Data Scientist   \n",
       "2           Data Scientist: Advanced Analytics   \n",
       "3       Tcs Hiring For Azure ML Data Scientist   \n",
       "4         Data Science - Senior Data Scientist   \n",
       "5                        Senior Data Scientist   \n",
       "6                        Senior Data Scientist   \n",
       "7             Lead/Senior Data Scientist (NLP)   \n",
       "8                               Data scientist   \n",
       "9                               Data Scientist   \n",
       "10                              Data Scientist   \n",
       "11                              Data Scientist   \n",
       "12              Data Scientist - Risk Platform   \n",
       "13              Data Scientist - Risk Platform   \n",
       "14                              Data Scientist   \n",
       "15  Advanced Analytics Expert - Data Scientist   \n",
       "16                              Data Scientist   \n",
       "17          Machine Learning AI Data Scientist   \n",
       "18     Sr. Associate Consultant Data Scientist   \n",
       "19     Senior Engineer - AIML - Data Scientist   \n",
       "\n",
       "                                             Location Company_Name  \n",
       "0                                 Bangalore/Bengaluru       Unisys  \n",
       "1                                 Bangalore/Bengaluru       Unisys  \n",
       "2                                 Bengaluru/Bangalore       Unisys  \n",
       "3   Hyderabad/Secunderabad, Bangalore/Bengaluru, M...       Unisys  \n",
       "4                          Noida, Bangalore/Bengaluru       Unisys  \n",
       "5                                 Bangalore/Bengaluru       Unisys  \n",
       "6                                 Bangalore/Bengaluru       Unisys  \n",
       "7                                 Bangalore/Bengaluru       Unisys  \n",
       "8                                 Bangalore/Bengaluru       Unisys  \n",
       "9                                 Bangalore/Bengaluru       Unisys  \n",
       "10                                Bangalore/Bengaluru       Unisys  \n",
       "11                                Bangalore/Bengaluru       Unisys  \n",
       "12                                Bangalore/Bengaluru       Unisys  \n",
       "13                                Bangalore/Bengaluru       Unisys  \n",
       "14                                Bangalore/Bengaluru       Unisys  \n",
       "15                     Bangalore/Bengaluru, Bangalore       Unisys  \n",
       "16               Bangalore Rural, Bangalore/Bengaluru       Unisys  \n",
       "17                                Bangalore/Bengaluru       Unisys  \n",
       "18                                Bangalore/Bengaluru       Unisys  \n",
       "19                                Bangalore/Bengaluru       Unisys  "
      ]
     },
     "execution_count": 305,
     "metadata": {},
     "output_type": "execute_result"
    }
   ],
   "source": [
    "jobs"
   ]
  },
  {
   "cell_type": "code",
   "execution_count": null,
   "id": "e0f942b9",
   "metadata": {},
   "outputs": [],
   "source": [
    "#3rd program"
   ]
  },
  {
   "cell_type": "code",
   "execution_count": 353,
   "id": "67cfa4fb",
   "metadata": {},
   "outputs": [],
   "source": [
    "import selenium\n",
    "import pandas as pd\n",
    "from selenium import webdriver"
   ]
  },
  {
   "cell_type": "code",
   "execution_count": 354,
   "id": "70003ba9",
   "metadata": {},
   "outputs": [],
   "source": [
    "driver = webdriver.Chrome(r\"C:/Users/Vidhya/Downloads/chromedriver_win32/chromedriver.exe\")"
   ]
  },
  {
   "cell_type": "code",
   "execution_count": 355,
   "id": "1d344ddd",
   "metadata": {},
   "outputs": [],
   "source": [
    "driver.get('https://www.naukri.com/')"
   ]
  },
  {
   "cell_type": "code",
   "execution_count": 356,
   "id": "06e94276",
   "metadata": {},
   "outputs": [],
   "source": [
    "search_job=driver.find_element_by_id('qsb-keyword-sugg')\n",
    "search_job.send_keys(\"Data Scientist\")"
   ]
  },
  {
   "cell_type": "code",
   "execution_count": 357,
   "id": "1328fb85",
   "metadata": {},
   "outputs": [],
   "source": [
    "search_btn=driver.find_element_by_xpath(\"//div[@class='search-btn']/button\")\n",
    "search_btn.click()"
   ]
  },
  {
   "cell_type": "code",
   "execution_count": 365,
   "id": "75434ef3",
   "metadata": {},
   "outputs": [],
   "source": [
    "location_filters=[]\n",
    "salary_filters=[]"
   ]
  },
  {
   "cell_type": "code",
   "execution_count": 366,
   "id": "e2efd2f1",
   "metadata": {},
   "outputs": [
    {
     "data": {
      "text/plain": [
       "[]"
      ]
     },
     "execution_count": 366,
     "metadata": {},
     "output_type": "execute_result"
    }
   ],
   "source": [
    "location_tags=driver.find_elements_by_xpath(\"//div[@class='/html/body/div[1]/div[3]/div[2]/section[1]/div[2]/div[3]/div[2]']\")\n",
    "location_tags[0:10]"
   ]
  },
  {
   "cell_type": "code",
   "execution_count": 364,
   "id": "fccbdffc",
   "metadata": {},
   "outputs": [
    {
     "data": {
      "text/plain": [
       "[]"
      ]
     },
     "execution_count": 364,
     "metadata": {},
     "output_type": "execute_result"
    }
   ],
   "source": [
    "for i in location_tags:\n",
    "    location=i.text\n",
    "    location_filters.append(location)\n",
    "location_filters[0:10]"
   ]
  },
  {
   "cell_type": "code",
   "execution_count": null,
   "id": "554a7017",
   "metadata": {},
   "outputs": [],
   "source": []
  },
  {
   "cell_type": "code",
   "execution_count": 370,
   "id": "17740701",
   "metadata": {},
   "outputs": [
    {
     "data": {
      "text/plain": [
       "[<selenium.webdriver.remote.webelement.WebElement (session=\"cf23fc9859ab35bbc3f671e31286511e\", element=\"388fb0e6-a648-4736-baf8-710206a573cf\")>,\n",
       " <selenium.webdriver.remote.webelement.WebElement (session=\"cf23fc9859ab35bbc3f671e31286511e\", element=\"893f4a5c-6d88-4d16-baab-b646abc16fc3\")>,\n",
       " <selenium.webdriver.remote.webelement.WebElement (session=\"cf23fc9859ab35bbc3f671e31286511e\", element=\"812a4627-6db8-4c37-ab9d-956ef5c9d6a9\")>,\n",
       " <selenium.webdriver.remote.webelement.WebElement (session=\"cf23fc9859ab35bbc3f671e31286511e\", element=\"494649d9-0218-4cdb-8dc8-e41488710291\")>,\n",
       " <selenium.webdriver.remote.webelement.WebElement (session=\"cf23fc9859ab35bbc3f671e31286511e\", element=\"09aa4385-7f4f-4590-9ad5-74a346405814\")>,\n",
       " <selenium.webdriver.remote.webelement.WebElement (session=\"cf23fc9859ab35bbc3f671e31286511e\", element=\"7964bae1-53fc-41b6-b80a-717c9b6d54fe\")>,\n",
       " <selenium.webdriver.remote.webelement.WebElement (session=\"cf23fc9859ab35bbc3f671e31286511e\", element=\"270f581e-06b4-456b-9f4c-f031ab4e8259\")>,\n",
       " <selenium.webdriver.remote.webelement.WebElement (session=\"cf23fc9859ab35bbc3f671e31286511e\", element=\"69559f16-b648-4b0f-902f-c3a54a1ff41d\")>,\n",
       " <selenium.webdriver.remote.webelement.WebElement (session=\"cf23fc9859ab35bbc3f671e31286511e\", element=\"e523ab00-e6e7-42ad-9619-13fc34c4f00a\")>,\n",
       " <selenium.webdriver.remote.webelement.WebElement (session=\"cf23fc9859ab35bbc3f671e31286511e\", element=\"c0ce3e7e-5955-47be-bba1-47d9fa2675d8\")>]"
      ]
     },
     "execution_count": 370,
     "metadata": {},
     "output_type": "execute_result"
    }
   ],
   "source": [
    "salary_tags=driver.find_elements_by_xpath(\"//div[@class='filterOptns']\")\n",
    "salary_tags[0:10]"
   ]
  },
  {
   "cell_type": "code",
   "execution_count": 371,
   "id": "f4b658f1",
   "metadata": {},
   "outputs": [
    {
     "data": {
      "text/plain": [
       "['',\n",
       " 'WFH during Covid\\n(705)',\n",
       " 'Remote\\n(183)\\nBangalore/Bengaluru\\n(5443)\\nDelhi / NCR\\n(2477)\\nPune\\n(2139)\\n+ 22 More',\n",
       " '0-3 Lakhs\\n(1085)\\n3-6 Lakhs\\n(3935)\\n6-10 Lakhs\\n(7529)\\n10-15 Lakhs\\n(7002)\\n+ 5 More',\n",
       " 'Any\\n0 Yrs\\nAny',\n",
       " 'Premium Engg\\n(3543)\\nPremium MBA\\n(178)\\nInternational\\n(99)\\nPSU/Government\\n(2)\\n+ 2 More',\n",
       " 'Company Jobs\\n(11027)\\nConsultant Jobs\\n(2515)',\n",
       " 'Accenture\\n(866)\\nIBM India\\n(342)\\nGenpact\\n(106)\\nDell International\\n(57)\\n+ 25 More',\n",
       " 'Any Postgraduate\\n(5021)\\nPost Graduation Not Required\\n(3296)\\nAny Graduate\\n(8346)\\nB.Tech/B.E.\\n(4742)\\n+ 18 More',\n",
       " 'IT Services & Consulting\\n(7371)\\nRecruitment / Staffing\\n(967)\\nInternet\\n(503)\\nBanking\\n(502)\\n+ 21 More']"
      ]
     },
     "execution_count": 371,
     "metadata": {},
     "output_type": "execute_result"
    }
   ],
   "source": [
    "for i in salary_tags:\n",
    "    salary=i.text\n",
    "    salary_filters.append(salary)\n",
    "salary_filters[0:10]"
   ]
  },
  {
   "cell_type": "code",
   "execution_count": null,
   "id": "b13a1b82",
   "metadata": {},
   "outputs": [],
   "source": [
    "#4th program"
   ]
  },
  {
   "cell_type": "code",
   "execution_count": 669,
   "id": "043c98e6",
   "metadata": {},
   "outputs": [],
   "source": [
    "driver = webdriver.Chrome(r\"C:/Users/Vidhya/Downloads/chromedriver_win32/chromedriver.exe\")"
   ]
  },
  {
   "cell_type": "code",
   "execution_count": 670,
   "id": "5aef9faf",
   "metadata": {},
   "outputs": [],
   "source": [
    "driver.get('https://www.flipkart.com/')"
   ]
  },
  {
   "cell_type": "code",
   "execution_count": 374,
   "id": "f537a036",
   "metadata": {},
   "outputs": [],
   "source": [
    "search_glasses=driver.find_element_by_xpath(\"//input[@class='_3704LK']\")\n",
    "search_glasses.send_keys(\"sunglasses\")"
   ]
  },
  {
   "cell_type": "code",
   "execution_count": 389,
   "id": "fe0867ad",
   "metadata": {},
   "outputs": [],
   "source": [
    "url=\"https://www.flipkart.com/search?q=sunglasses&otracker=search&otracker1=search&marketplace=FLIPKART&as-show=off&as=off\""
   ]
  },
  {
   "cell_type": "code",
   "execution_count": 390,
   "id": "ee8507b1",
   "metadata": {},
   "outputs": [],
   "source": [
    "driver.get(url)"
   ]
  },
  {
   "cell_type": "code",
   "execution_count": 664,
   "id": "ad035bc9",
   "metadata": {},
   "outputs": [],
   "source": [
    "brand=[]\n",
    "product_description=[]\n",
    "price=[]\n",
    "discount=[]"
   ]
  },
  {
   "cell_type": "code",
   "execution_count": 393,
   "id": "f4174db7",
   "metadata": {},
   "outputs": [
    {
     "data": {
      "text/plain": [
       "[<selenium.webdriver.remote.webelement.WebElement (session=\"b7932ea1c2260de25fe7bddf906f5172\", element=\"58986e37-e2e8-4fdd-a917-764243d96a12\")>,\n",
       " <selenium.webdriver.remote.webelement.WebElement (session=\"b7932ea1c2260de25fe7bddf906f5172\", element=\"e83b8bae-f20d-42c6-af1d-af9bd03a0f6a\")>,\n",
       " <selenium.webdriver.remote.webelement.WebElement (session=\"b7932ea1c2260de25fe7bddf906f5172\", element=\"d3bcef57-4dc3-40dc-9afb-0278c88e5af7\")>,\n",
       " <selenium.webdriver.remote.webelement.WebElement (session=\"b7932ea1c2260de25fe7bddf906f5172\", element=\"c9eb716d-7d3d-434d-be88-17a9e9875605\")>,\n",
       " <selenium.webdriver.remote.webelement.WebElement (session=\"b7932ea1c2260de25fe7bddf906f5172\", element=\"2baeaa09-69a8-437e-b8e5-dce50fe17795\")>,\n",
       " <selenium.webdriver.remote.webelement.WebElement (session=\"b7932ea1c2260de25fe7bddf906f5172\", element=\"bf9c0900-0fec-495e-ba35-7dfaf49f6efe\")>,\n",
       " <selenium.webdriver.remote.webelement.WebElement (session=\"b7932ea1c2260de25fe7bddf906f5172\", element=\"06b4dfa7-7ca7-42e7-bcb5-34ab1b905159\")>,\n",
       " <selenium.webdriver.remote.webelement.WebElement (session=\"b7932ea1c2260de25fe7bddf906f5172\", element=\"200b2398-769a-4a79-8b03-23737fa0b9d4\")>,\n",
       " <selenium.webdriver.remote.webelement.WebElement (session=\"b7932ea1c2260de25fe7bddf906f5172\", element=\"7203dc16-8aef-402b-87e8-009f6ad424cc\")>,\n",
       " <selenium.webdriver.remote.webelement.WebElement (session=\"b7932ea1c2260de25fe7bddf906f5172\", element=\"95ce9bec-9127-4bf3-8dcb-9562fe320246\")>,\n",
       " <selenium.webdriver.remote.webelement.WebElement (session=\"b7932ea1c2260de25fe7bddf906f5172\", element=\"d406b84d-3275-41b8-a887-2f5686933f0d\")>,\n",
       " <selenium.webdriver.remote.webelement.WebElement (session=\"b7932ea1c2260de25fe7bddf906f5172\", element=\"90124e0a-1a0d-4230-b56d-9a525c97a0df\")>,\n",
       " <selenium.webdriver.remote.webelement.WebElement (session=\"b7932ea1c2260de25fe7bddf906f5172\", element=\"e7aefddb-5cf2-4e43-a508-238c3dc8779f\")>,\n",
       " <selenium.webdriver.remote.webelement.WebElement (session=\"b7932ea1c2260de25fe7bddf906f5172\", element=\"c421b1f6-f1c1-4165-bf8a-9b2fdcff5ecc\")>,\n",
       " <selenium.webdriver.remote.webelement.WebElement (session=\"b7932ea1c2260de25fe7bddf906f5172\", element=\"725c2825-3da6-4559-b575-c6612f46eb51\")>,\n",
       " <selenium.webdriver.remote.webelement.WebElement (session=\"b7932ea1c2260de25fe7bddf906f5172\", element=\"3827a7c0-bb8d-44cc-91f7-8d2fb41c3329\")>,\n",
       " <selenium.webdriver.remote.webelement.WebElement (session=\"b7932ea1c2260de25fe7bddf906f5172\", element=\"3689b083-a47c-4d73-9593-7b8e80a9b9db\")>,\n",
       " <selenium.webdriver.remote.webelement.WebElement (session=\"b7932ea1c2260de25fe7bddf906f5172\", element=\"e25eecd2-b405-481f-b9e9-c4f4e3684d90\")>,\n",
       " <selenium.webdriver.remote.webelement.WebElement (session=\"b7932ea1c2260de25fe7bddf906f5172\", element=\"697bdab0-b30a-43cf-8123-144db99d8be0\")>,\n",
       " <selenium.webdriver.remote.webelement.WebElement (session=\"b7932ea1c2260de25fe7bddf906f5172\", element=\"bd92fc2c-8686-48ef-b17e-7d7ac9e518f6\")>,\n",
       " <selenium.webdriver.remote.webelement.WebElement (session=\"b7932ea1c2260de25fe7bddf906f5172\", element=\"47c668d5-fdd8-4c00-9f36-489b14b801bb\")>,\n",
       " <selenium.webdriver.remote.webelement.WebElement (session=\"b7932ea1c2260de25fe7bddf906f5172\", element=\"924874cc-bfdb-4abd-8505-49dd0abe1cfb\")>,\n",
       " <selenium.webdriver.remote.webelement.WebElement (session=\"b7932ea1c2260de25fe7bddf906f5172\", element=\"7ecc989a-7e6a-442f-bba8-6be95cffca7f\")>,\n",
       " <selenium.webdriver.remote.webelement.WebElement (session=\"b7932ea1c2260de25fe7bddf906f5172\", element=\"d0bdbdd4-a187-4d4a-b37a-067bf6c76a84\")>,\n",
       " <selenium.webdriver.remote.webelement.WebElement (session=\"b7932ea1c2260de25fe7bddf906f5172\", element=\"df105f54-e087-4faa-8aa2-48b2fb26631c\")>,\n",
       " <selenium.webdriver.remote.webelement.WebElement (session=\"b7932ea1c2260de25fe7bddf906f5172\", element=\"c003c849-cc29-44d9-af4b-b4c39f059839\")>,\n",
       " <selenium.webdriver.remote.webelement.WebElement (session=\"b7932ea1c2260de25fe7bddf906f5172\", element=\"ce9902d6-cae6-45a6-87d0-062cc373aac3\")>,\n",
       " <selenium.webdriver.remote.webelement.WebElement (session=\"b7932ea1c2260de25fe7bddf906f5172\", element=\"bff05789-4a1d-459b-869f-0ab43fa6dcb4\")>,\n",
       " <selenium.webdriver.remote.webelement.WebElement (session=\"b7932ea1c2260de25fe7bddf906f5172\", element=\"22fe3c6f-4442-4884-8fbd-08f8267d8406\")>,\n",
       " <selenium.webdriver.remote.webelement.WebElement (session=\"b7932ea1c2260de25fe7bddf906f5172\", element=\"5df6f4dd-e336-4c6d-99e1-eaaf8c1043fe\")>,\n",
       " <selenium.webdriver.remote.webelement.WebElement (session=\"b7932ea1c2260de25fe7bddf906f5172\", element=\"18ee9a91-b8f9-42e0-aab2-00c894904221\")>,\n",
       " <selenium.webdriver.remote.webelement.WebElement (session=\"b7932ea1c2260de25fe7bddf906f5172\", element=\"423d56a4-d182-4970-84e3-75ec7c2c31c2\")>,\n",
       " <selenium.webdriver.remote.webelement.WebElement (session=\"b7932ea1c2260de25fe7bddf906f5172\", element=\"15bfa1bf-1621-4532-b97e-fa9eecc81fdd\")>,\n",
       " <selenium.webdriver.remote.webelement.WebElement (session=\"b7932ea1c2260de25fe7bddf906f5172\", element=\"3b3ae0af-8ad8-4013-8821-b39b6cf9a333\")>,\n",
       " <selenium.webdriver.remote.webelement.WebElement (session=\"b7932ea1c2260de25fe7bddf906f5172\", element=\"86e3d900-0ead-4b87-8a15-1bd5ce0ec626\")>,\n",
       " <selenium.webdriver.remote.webelement.WebElement (session=\"b7932ea1c2260de25fe7bddf906f5172\", element=\"b939500d-b8b5-4338-b9fe-21ade1ddfc53\")>,\n",
       " <selenium.webdriver.remote.webelement.WebElement (session=\"b7932ea1c2260de25fe7bddf906f5172\", element=\"3852d2b5-71c9-4a0a-adfb-6b6708bbc444\")>,\n",
       " <selenium.webdriver.remote.webelement.WebElement (session=\"b7932ea1c2260de25fe7bddf906f5172\", element=\"ef187f4e-f245-436c-acdb-5a9c2d70d7f4\")>,\n",
       " <selenium.webdriver.remote.webelement.WebElement (session=\"b7932ea1c2260de25fe7bddf906f5172\", element=\"a22e7119-a9d0-4b5b-8d49-56deccc728e6\")>,\n",
       " <selenium.webdriver.remote.webelement.WebElement (session=\"b7932ea1c2260de25fe7bddf906f5172\", element=\"4f5d567a-cb7d-4f55-92c2-270a2a4976fe\")>]"
      ]
     },
     "execution_count": 393,
     "metadata": {},
     "output_type": "execute_result"
    }
   ],
   "source": [
    "title_tags=driver.find_elements_by_xpath(\"//div[@class='_2WkVRV']\")\n",
    "title_tags[0:40]"
   ]
  },
  {
   "cell_type": "code",
   "execution_count": 395,
   "id": "3140e741",
   "metadata": {},
   "outputs": [
    {
     "data": {
      "text/plain": [
       "['ROZZETTA CRAFT',\n",
       " 'VINCENT CHASE',\n",
       " 'SRPM',\n",
       " 'PIRASO',\n",
       " 'PIRASO',\n",
       " 'Elligator',\n",
       " 'kingsunglasses',\n",
       " 'LOUIS KOUROS',\n",
       " 'Fastrack',\n",
       " 'kingsunglasses',\n",
       " 'New Specs',\n",
       " 'VINCENT CHASE',\n",
       " 'ROZZETTA CRAFT',\n",
       " 'ROZZETTA CRAFT',\n",
       " 'PIRASO',\n",
       " 'Sewell',\n",
       " 'ROYAL SON',\n",
       " 'Rich Club',\n",
       " 'SUNBEE',\n",
       " 'Anemone',\n",
       " 'kingsunglasses',\n",
       " 'PIRASO',\n",
       " 'PHENOMENAL',\n",
       " 'Anemone',\n",
       " 'ROYAL SON',\n",
       " 'Rich Club',\n",
       " 'hipe',\n",
       " 'VINCENT CHASE',\n",
       " 'Rich Club',\n",
       " 'agera',\n",
       " 'New Specs',\n",
       " 'Singco India',\n",
       " 'PIRASO',\n",
       " 'Singco India',\n",
       " 'PHENOMENAL',\n",
       " 'VINCENT CHASE',\n",
       " 'Fastrack',\n",
       " 'PHENOMENAL',\n",
       " 'kingsunglasses',\n",
       " 'VINCENT CHASE']"
      ]
     },
     "execution_count": 395,
     "metadata": {},
     "output_type": "execute_result"
    }
   ],
   "source": [
    "for i in title_tags:\n",
    "    title=i.text\n",
    "    brand.append(title)\n",
    "brand[0:40]"
   ]
  },
  {
   "cell_type": "code",
   "execution_count": 399,
   "id": "5e3d0a9f",
   "metadata": {},
   "outputs": [
    {
     "data": {
      "text/plain": [
       "[<selenium.webdriver.remote.webelement.WebElement (session=\"b7932ea1c2260de25fe7bddf906f5172\", element=\"de985f3e-015b-41b0-810c-20a0ab158309\")>,\n",
       " <selenium.webdriver.remote.webelement.WebElement (session=\"b7932ea1c2260de25fe7bddf906f5172\", element=\"cc14c7dd-3b9e-457c-a5b9-cdb3f6327396\")>,\n",
       " <selenium.webdriver.remote.webelement.WebElement (session=\"b7932ea1c2260de25fe7bddf906f5172\", element=\"b5bd894c-4f57-4bfc-a00f-4882eb9ede3e\")>,\n",
       " <selenium.webdriver.remote.webelement.WebElement (session=\"b7932ea1c2260de25fe7bddf906f5172\", element=\"de814a41-841c-4ec1-a85a-eb02f2428db0\")>,\n",
       " <selenium.webdriver.remote.webelement.WebElement (session=\"b7932ea1c2260de25fe7bddf906f5172\", element=\"0bf52d88-e737-4ea7-bfc0-0e123646d60a\")>,\n",
       " <selenium.webdriver.remote.webelement.WebElement (session=\"b7932ea1c2260de25fe7bddf906f5172\", element=\"2bc652c9-1676-4433-b98a-cdd0beac148c\")>,\n",
       " <selenium.webdriver.remote.webelement.WebElement (session=\"b7932ea1c2260de25fe7bddf906f5172\", element=\"7eecddf2-6fe0-492a-bf04-ab6623b7b3e1\")>,\n",
       " <selenium.webdriver.remote.webelement.WebElement (session=\"b7932ea1c2260de25fe7bddf906f5172\", element=\"a70ad785-fa2e-4d8a-a3fb-92c6f4a9579a\")>,\n",
       " <selenium.webdriver.remote.webelement.WebElement (session=\"b7932ea1c2260de25fe7bddf906f5172\", element=\"6c56f2d5-0ef2-4fdb-bf6c-c95a62bd3c69\")>,\n",
       " <selenium.webdriver.remote.webelement.WebElement (session=\"b7932ea1c2260de25fe7bddf906f5172\", element=\"e17cd017-2195-4297-afa0-eb6d3f68b38b\")>,\n",
       " <selenium.webdriver.remote.webelement.WebElement (session=\"b7932ea1c2260de25fe7bddf906f5172\", element=\"005964a7-390a-4d5a-8a16-5821af083eec\")>,\n",
       " <selenium.webdriver.remote.webelement.WebElement (session=\"b7932ea1c2260de25fe7bddf906f5172\", element=\"8b62cc3a-1502-410d-921d-6844360f3529\")>,\n",
       " <selenium.webdriver.remote.webelement.WebElement (session=\"b7932ea1c2260de25fe7bddf906f5172\", element=\"eb8990b5-e6c9-4342-a3e4-72a150263ffd\")>,\n",
       " <selenium.webdriver.remote.webelement.WebElement (session=\"b7932ea1c2260de25fe7bddf906f5172\", element=\"e2b31509-da29-4a0b-a6c9-5f3aaf22ffb0\")>,\n",
       " <selenium.webdriver.remote.webelement.WebElement (session=\"b7932ea1c2260de25fe7bddf906f5172\", element=\"cc8fe0b2-40ec-49ce-b534-b920ebed4ff9\")>,\n",
       " <selenium.webdriver.remote.webelement.WebElement (session=\"b7932ea1c2260de25fe7bddf906f5172\", element=\"60831bdc-213b-418a-9a74-854ce5465e48\")>,\n",
       " <selenium.webdriver.remote.webelement.WebElement (session=\"b7932ea1c2260de25fe7bddf906f5172\", element=\"3c53d1d6-a6d5-4490-967f-1f406953268c\")>,\n",
       " <selenium.webdriver.remote.webelement.WebElement (session=\"b7932ea1c2260de25fe7bddf906f5172\", element=\"549ebe1d-5f2f-4e52-ae6a-fe334cdef0e4\")>,\n",
       " <selenium.webdriver.remote.webelement.WebElement (session=\"b7932ea1c2260de25fe7bddf906f5172\", element=\"0cba7ceb-4020-40dd-99ab-778bb4f5201d\")>,\n",
       " <selenium.webdriver.remote.webelement.WebElement (session=\"b7932ea1c2260de25fe7bddf906f5172\", element=\"c473e57d-5316-4a37-830a-15211b78a72d\")>,\n",
       " <selenium.webdriver.remote.webelement.WebElement (session=\"b7932ea1c2260de25fe7bddf906f5172\", element=\"f3f527a0-4151-4c5c-9c17-f3f02dc9bcd6\")>,\n",
       " <selenium.webdriver.remote.webelement.WebElement (session=\"b7932ea1c2260de25fe7bddf906f5172\", element=\"5d47b1f9-265d-4234-822d-110f283de7f8\")>,\n",
       " <selenium.webdriver.remote.webelement.WebElement (session=\"b7932ea1c2260de25fe7bddf906f5172\", element=\"86991e47-fda0-4173-a17f-42116e11dd7f\")>,\n",
       " <selenium.webdriver.remote.webelement.WebElement (session=\"b7932ea1c2260de25fe7bddf906f5172\", element=\"6ba84883-ccd7-49b1-8324-65cb5b740123\")>,\n",
       " <selenium.webdriver.remote.webelement.WebElement (session=\"b7932ea1c2260de25fe7bddf906f5172\", element=\"f0bbea64-03ca-4b1b-9a26-9f7fc4d49f3b\")>,\n",
       " <selenium.webdriver.remote.webelement.WebElement (session=\"b7932ea1c2260de25fe7bddf906f5172\", element=\"b33bc80f-77f5-4d82-8e07-cf3b76e4cfd8\")>,\n",
       " <selenium.webdriver.remote.webelement.WebElement (session=\"b7932ea1c2260de25fe7bddf906f5172\", element=\"6dfb5e6e-0b47-44b9-a86d-c04bd0557356\")>,\n",
       " <selenium.webdriver.remote.webelement.WebElement (session=\"b7932ea1c2260de25fe7bddf906f5172\", element=\"e2f235b9-2c53-46aa-8e18-3cae36f12185\")>,\n",
       " <selenium.webdriver.remote.webelement.WebElement (session=\"b7932ea1c2260de25fe7bddf906f5172\", element=\"c1b1edbe-06c7-4fe7-bfbc-9a077cb18c87\")>,\n",
       " <selenium.webdriver.remote.webelement.WebElement (session=\"b7932ea1c2260de25fe7bddf906f5172\", element=\"605b71de-9307-4a12-a01b-4e39ac237036\")>,\n",
       " <selenium.webdriver.remote.webelement.WebElement (session=\"b7932ea1c2260de25fe7bddf906f5172\", element=\"65eef103-f921-42e9-a8e0-a1fa0ac52cee\")>,\n",
       " <selenium.webdriver.remote.webelement.WebElement (session=\"b7932ea1c2260de25fe7bddf906f5172\", element=\"9330914e-c1e8-4319-bee6-19626a048aed\")>,\n",
       " <selenium.webdriver.remote.webelement.WebElement (session=\"b7932ea1c2260de25fe7bddf906f5172\", element=\"ad5d1b8f-5859-40ca-93e0-85623440dbb6\")>,\n",
       " <selenium.webdriver.remote.webelement.WebElement (session=\"b7932ea1c2260de25fe7bddf906f5172\", element=\"ad73a932-ef7c-4614-bf61-d1f72cc75fa1\")>,\n",
       " <selenium.webdriver.remote.webelement.WebElement (session=\"b7932ea1c2260de25fe7bddf906f5172\", element=\"b92f1bfb-0a2d-456e-ba85-3b9aa3864eb3\")>,\n",
       " <selenium.webdriver.remote.webelement.WebElement (session=\"b7932ea1c2260de25fe7bddf906f5172\", element=\"2cb9b187-d19f-4707-aeec-038678dc69a6\")>,\n",
       " <selenium.webdriver.remote.webelement.WebElement (session=\"b7932ea1c2260de25fe7bddf906f5172\", element=\"205ac891-aff3-450e-9f6a-922a72d0168e\")>,\n",
       " <selenium.webdriver.remote.webelement.WebElement (session=\"b7932ea1c2260de25fe7bddf906f5172\", element=\"9c221ec3-34b7-4439-9cc4-844c7889f172\")>,\n",
       " <selenium.webdriver.remote.webelement.WebElement (session=\"b7932ea1c2260de25fe7bddf906f5172\", element=\"bd9e94a0-f69a-454e-a324-76abd57f6371\")>,\n",
       " <selenium.webdriver.remote.webelement.WebElement (session=\"b7932ea1c2260de25fe7bddf906f5172\", element=\"61e3aba4-4f1b-4bdd-9f3f-245414bc74b8\")>]"
      ]
     },
     "execution_count": 399,
     "metadata": {},
     "output_type": "execute_result"
    }
   ],
   "source": [
    "title_tags=driver.find_elements_by_xpath(\"//div[@class='_2WkVRV']\")\n",
    "title_tags[0:40]"
   ]
  },
  {
   "cell_type": "code",
   "execution_count": 400,
   "id": "fd24bb25",
   "metadata": {},
   "outputs": [
    {
     "data": {
      "text/plain": [
       "['ROZZETTA CRAFT',\n",
       " 'VINCENT CHASE',\n",
       " 'SRPM',\n",
       " 'PIRASO',\n",
       " 'PIRASO',\n",
       " 'Elligator',\n",
       " 'kingsunglasses',\n",
       " 'LOUIS KOUROS',\n",
       " 'Fastrack',\n",
       " 'kingsunglasses',\n",
       " 'New Specs',\n",
       " 'VINCENT CHASE',\n",
       " 'ROZZETTA CRAFT',\n",
       " 'ROZZETTA CRAFT',\n",
       " 'PIRASO',\n",
       " 'Sewell',\n",
       " 'ROYAL SON',\n",
       " 'Rich Club',\n",
       " 'SUNBEE',\n",
       " 'Anemone',\n",
       " 'kingsunglasses',\n",
       " 'PIRASO',\n",
       " 'PHENOMENAL',\n",
       " 'Anemone',\n",
       " 'ROYAL SON',\n",
       " 'Rich Club',\n",
       " 'hipe',\n",
       " 'VINCENT CHASE',\n",
       " 'Rich Club',\n",
       " 'agera',\n",
       " 'New Specs',\n",
       " 'Singco India',\n",
       " 'PIRASO',\n",
       " 'Singco India',\n",
       " 'PHENOMENAL',\n",
       " 'VINCENT CHASE',\n",
       " 'Fastrack',\n",
       " 'PHENOMENAL',\n",
       " 'kingsunglasses',\n",
       " 'VINCENT CHASE']"
      ]
     },
     "execution_count": 400,
     "metadata": {},
     "output_type": "execute_result"
    }
   ],
   "source": [
    "for i in title_tags:\n",
    "    title=i.text\n",
    "    brand.append(title)\n",
    "brand[0:40]"
   ]
  },
  {
   "cell_type": "code",
   "execution_count": 403,
   "id": "a51206a4",
   "metadata": {},
   "outputs": [
    {
     "data": {
      "text/plain": [
       "[<selenium.webdriver.remote.webelement.WebElement (session=\"b7932ea1c2260de25fe7bddf906f5172\", element=\"ccf0407b-877a-45a6-8b5b-1b6ccb4cb8b6\")>,\n",
       " <selenium.webdriver.remote.webelement.WebElement (session=\"b7932ea1c2260de25fe7bddf906f5172\", element=\"fc442d7a-8d84-46ce-bd88-9de05abffe3a\")>,\n",
       " <selenium.webdriver.remote.webelement.WebElement (session=\"b7932ea1c2260de25fe7bddf906f5172\", element=\"f753c570-5bfe-41d2-88cd-ee7ee7530f64\")>,\n",
       " <selenium.webdriver.remote.webelement.WebElement (session=\"b7932ea1c2260de25fe7bddf906f5172\", element=\"0675adf7-9736-457b-a405-1fb326bb7284\")>,\n",
       " <selenium.webdriver.remote.webelement.WebElement (session=\"b7932ea1c2260de25fe7bddf906f5172\", element=\"d00fec5e-f176-41fa-9c1a-e676e92580cc\")>,\n",
       " <selenium.webdriver.remote.webelement.WebElement (session=\"b7932ea1c2260de25fe7bddf906f5172\", element=\"3a1e2550-4518-49c9-8615-b30cb2950d91\")>,\n",
       " <selenium.webdriver.remote.webelement.WebElement (session=\"b7932ea1c2260de25fe7bddf906f5172\", element=\"1b1cf27d-5467-43c3-8d4e-670df283d14e\")>,\n",
       " <selenium.webdriver.remote.webelement.WebElement (session=\"b7932ea1c2260de25fe7bddf906f5172\", element=\"abee65e9-8c33-4334-b9a9-2cab65156967\")>,\n",
       " <selenium.webdriver.remote.webelement.WebElement (session=\"b7932ea1c2260de25fe7bddf906f5172\", element=\"842bdff7-9a23-49ee-8f58-864a4d37754f\")>,\n",
       " <selenium.webdriver.remote.webelement.WebElement (session=\"b7932ea1c2260de25fe7bddf906f5172\", element=\"916bf6a4-97fa-4ecd-ab66-72474dbe5879\")>]"
      ]
     },
     "execution_count": 403,
     "metadata": {},
     "output_type": "execute_result"
    }
   ],
   "source": [
    "title_tags=driver.find_elements_by_xpath(\"//div[@class='_13oc-S _1t9ceu']\")\n",
    "title_tags[0:20]"
   ]
  },
  {
   "cell_type": "code",
   "execution_count": 404,
   "id": "f029bf3d",
   "metadata": {},
   "outputs": [
    {
     "data": {
      "text/plain": [
       "['ROZZETTA CRAFT',\n",
       " 'VINCENT CHASE',\n",
       " 'SRPM',\n",
       " 'PIRASO',\n",
       " 'PIRASO',\n",
       " 'Elligator',\n",
       " 'kingsunglasses',\n",
       " 'LOUIS KOUROS',\n",
       " 'Fastrack',\n",
       " 'kingsunglasses',\n",
       " 'New Specs',\n",
       " 'VINCENT CHASE',\n",
       " 'ROZZETTA CRAFT',\n",
       " 'ROZZETTA CRAFT',\n",
       " 'PIRASO',\n",
       " 'Sewell',\n",
       " 'ROYAL SON',\n",
       " 'Rich Club',\n",
       " 'SUNBEE',\n",
       " 'Anemone']"
      ]
     },
     "execution_count": 404,
     "metadata": {},
     "output_type": "execute_result"
    }
   ],
   "source": [
    "for i in title_tags:\n",
    "    title=i.text\n",
    "    brand.append(title)\n",
    "brand[0:20]"
   ]
  },
  {
   "cell_type": "code",
   "execution_count": 406,
   "id": "ef202972",
   "metadata": {},
   "outputs": [
    {
     "data": {
      "text/plain": [
       "[<selenium.webdriver.remote.webelement.WebElement (session=\"b7932ea1c2260de25fe7bddf906f5172\", element=\"0f2b5a50-83b9-4e92-aea1-78706a85a562\")>,\n",
       " <selenium.webdriver.remote.webelement.WebElement (session=\"b7932ea1c2260de25fe7bddf906f5172\", element=\"77120027-4585-4b3c-b69c-fd0914904baa\")>,\n",
       " <selenium.webdriver.remote.webelement.WebElement (session=\"b7932ea1c2260de25fe7bddf906f5172\", element=\"49637353-287a-4077-8217-b9e71911cc8c\")>,\n",
       " <selenium.webdriver.remote.webelement.WebElement (session=\"b7932ea1c2260de25fe7bddf906f5172\", element=\"170e0285-4b00-48fe-abdb-31c0167ffb87\")>,\n",
       " <selenium.webdriver.remote.webelement.WebElement (session=\"b7932ea1c2260de25fe7bddf906f5172\", element=\"40533f5b-afc5-4d5f-b6a4-c40d7086ffb7\")>,\n",
       " <selenium.webdriver.remote.webelement.WebElement (session=\"b7932ea1c2260de25fe7bddf906f5172\", element=\"a275fbff-f321-43b3-b471-1a1360254ea4\")>,\n",
       " <selenium.webdriver.remote.webelement.WebElement (session=\"b7932ea1c2260de25fe7bddf906f5172\", element=\"7989eea8-4846-4cba-a6cc-36d4aa7d158f\")>,\n",
       " <selenium.webdriver.remote.webelement.WebElement (session=\"b7932ea1c2260de25fe7bddf906f5172\", element=\"d7af35a4-3ab3-499a-9c10-4f13964bc1b7\")>,\n",
       " <selenium.webdriver.remote.webelement.WebElement (session=\"b7932ea1c2260de25fe7bddf906f5172\", element=\"1c9a0eba-c83c-43ba-bd25-d58104936691\")>,\n",
       " <selenium.webdriver.remote.webelement.WebElement (session=\"b7932ea1c2260de25fe7bddf906f5172\", element=\"c221ef74-c46d-4afb-822a-608fb8098603\")>,\n",
       " <selenium.webdriver.remote.webelement.WebElement (session=\"b7932ea1c2260de25fe7bddf906f5172\", element=\"2be93f1b-603a-49bc-8677-436e4513b7d8\")>,\n",
       " <selenium.webdriver.remote.webelement.WebElement (session=\"b7932ea1c2260de25fe7bddf906f5172\", element=\"7d2e511c-0960-4f57-bc2f-341bceca7295\")>,\n",
       " <selenium.webdriver.remote.webelement.WebElement (session=\"b7932ea1c2260de25fe7bddf906f5172\", element=\"6cdd141e-e42b-426d-8eca-af63d2d50bdf\")>,\n",
       " <selenium.webdriver.remote.webelement.WebElement (session=\"b7932ea1c2260de25fe7bddf906f5172\", element=\"d27fd650-0f6a-42ba-a180-36eaa0303dae\")>,\n",
       " <selenium.webdriver.remote.webelement.WebElement (session=\"b7932ea1c2260de25fe7bddf906f5172\", element=\"b6de2c08-8c85-46c6-9e23-81cb7551f655\")>,\n",
       " <selenium.webdriver.remote.webelement.WebElement (session=\"b7932ea1c2260de25fe7bddf906f5172\", element=\"f62af549-a3d7-47ba-af3c-624020807b32\")>,\n",
       " <selenium.webdriver.remote.webelement.WebElement (session=\"b7932ea1c2260de25fe7bddf906f5172\", element=\"9051625e-ced5-4c3d-8a70-e26b5fdf44d1\")>,\n",
       " <selenium.webdriver.remote.webelement.WebElement (session=\"b7932ea1c2260de25fe7bddf906f5172\", element=\"a2e7c4aa-f35a-4ced-8812-89aff824dca8\")>,\n",
       " <selenium.webdriver.remote.webelement.WebElement (session=\"b7932ea1c2260de25fe7bddf906f5172\", element=\"550933e7-3fb5-4fd8-8a44-7e2817e2d9fd\")>,\n",
       " <selenium.webdriver.remote.webelement.WebElement (session=\"b7932ea1c2260de25fe7bddf906f5172\", element=\"0a608042-2241-4aa6-afc9-ff94420e4a81\")>,\n",
       " <selenium.webdriver.remote.webelement.WebElement (session=\"b7932ea1c2260de25fe7bddf906f5172\", element=\"6dfb0411-b0a4-4a42-841b-5873deb8896e\")>,\n",
       " <selenium.webdriver.remote.webelement.WebElement (session=\"b7932ea1c2260de25fe7bddf906f5172\", element=\"3c431858-5397-4f04-87cd-3c37add0e9c9\")>,\n",
       " <selenium.webdriver.remote.webelement.WebElement (session=\"b7932ea1c2260de25fe7bddf906f5172\", element=\"c255501c-b6b1-4a07-8f4f-e4c94fe50047\")>,\n",
       " <selenium.webdriver.remote.webelement.WebElement (session=\"b7932ea1c2260de25fe7bddf906f5172\", element=\"892dcfe5-2b69-4c35-850d-6836dbede150\")>,\n",
       " <selenium.webdriver.remote.webelement.WebElement (session=\"b7932ea1c2260de25fe7bddf906f5172\", element=\"683116c1-594a-43bc-86d0-6f1762d878a6\")>,\n",
       " <selenium.webdriver.remote.webelement.WebElement (session=\"b7932ea1c2260de25fe7bddf906f5172\", element=\"ac90e857-c7ee-4551-a185-a9c36b77cf29\")>,\n",
       " <selenium.webdriver.remote.webelement.WebElement (session=\"b7932ea1c2260de25fe7bddf906f5172\", element=\"7bdfad4d-6f22-4b74-95ce-f874416f8090\")>,\n",
       " <selenium.webdriver.remote.webelement.WebElement (session=\"b7932ea1c2260de25fe7bddf906f5172\", element=\"2373fa3b-9e3e-4920-a67e-d76ac23721f7\")>,\n",
       " <selenium.webdriver.remote.webelement.WebElement (session=\"b7932ea1c2260de25fe7bddf906f5172\", element=\"367d4440-2061-4a51-ba4d-559748edbca5\")>,\n",
       " <selenium.webdriver.remote.webelement.WebElement (session=\"b7932ea1c2260de25fe7bddf906f5172\", element=\"c47caa57-a24b-4e9a-b764-f935aabeef3b\")>,\n",
       " <selenium.webdriver.remote.webelement.WebElement (session=\"b7932ea1c2260de25fe7bddf906f5172\", element=\"38f280ba-bc67-41a5-8fe3-0f95d8928eb6\")>,\n",
       " <selenium.webdriver.remote.webelement.WebElement (session=\"b7932ea1c2260de25fe7bddf906f5172\", element=\"f3b7c02c-d1ce-48fa-bc92-db83cb1c0560\")>,\n",
       " <selenium.webdriver.remote.webelement.WebElement (session=\"b7932ea1c2260de25fe7bddf906f5172\", element=\"ef956b83-68be-452e-a7d9-ab8238e5dcc9\")>,\n",
       " <selenium.webdriver.remote.webelement.WebElement (session=\"b7932ea1c2260de25fe7bddf906f5172\", element=\"79a42ece-2dc1-4dd7-ab21-4f25b8a78b00\")>,\n",
       " <selenium.webdriver.remote.webelement.WebElement (session=\"b7932ea1c2260de25fe7bddf906f5172\", element=\"a71e9a10-b34b-4317-932e-db92a2957a26\")>,\n",
       " <selenium.webdriver.remote.webelement.WebElement (session=\"b7932ea1c2260de25fe7bddf906f5172\", element=\"d4e851d5-f0e1-4670-b606-92d0225884a5\")>,\n",
       " <selenium.webdriver.remote.webelement.WebElement (session=\"b7932ea1c2260de25fe7bddf906f5172\", element=\"e5240338-a4b0-4abe-87a2-597259af4b42\")>,\n",
       " <selenium.webdriver.remote.webelement.WebElement (session=\"b7932ea1c2260de25fe7bddf906f5172\", element=\"7d4d0e9c-2b2e-4b09-975d-ca55a8dad8f9\")>,\n",
       " <selenium.webdriver.remote.webelement.WebElement (session=\"b7932ea1c2260de25fe7bddf906f5172\", element=\"005803ea-aac7-4790-a4fe-d152fe4a8a31\")>,\n",
       " <selenium.webdriver.remote.webelement.WebElement (session=\"b7932ea1c2260de25fe7bddf906f5172\", element=\"5834ee14-f893-4c69-9be7-f0dc85361ce3\")>]"
      ]
     },
     "execution_count": 406,
     "metadata": {},
     "output_type": "execute_result"
    }
   ],
   "source": [
    "description_tags=driver.find_elements_by_xpath(\"//a[@class='IRpwTa']\")\n",
    "description_tags[0:40]"
   ]
  },
  {
   "cell_type": "code",
   "execution_count": 407,
   "id": "df6ef46c",
   "metadata": {},
   "outputs": [
    {
     "data": {
      "text/plain": [
       "['by Lenskart UV Protection Aviator Sunglasses (53)',\n",
       " 'by Lenskart Polarized, UV Protection Wayfarer Sunglasse...',\n",
       " 'UV Protection Wayfarer Sunglasses (56)',\n",
       " 'UV Protection Aviator Sunglasses (54)',\n",
       " 'UV Protection Aviator Sunglasses (54)',\n",
       " 'UV Protection Round Sunglasses (54)',\n",
       " 'Mirrored, UV Protection Wayfarer Sunglasses (53)',\n",
       " 'UV Protection Aviator Sunglasses (Free Size)',\n",
       " 'UV Protection Wayfarer Sunglasses (Free Size)',\n",
       " 'UV Protection Round Sunglasses (54)',\n",
       " 'UV Protection Rectangular Sunglasses (Free Size)',\n",
       " 'UV Protection, Others Rectangular Sunglasses (50)',\n",
       " 'UV Protection Retro Square Sunglasses (Free Size)',\n",
       " 'UV Protection Aviator Sunglasses (54)',\n",
       " 'UV Protection, Gradient Rectangular Sunglasses (Free Si...',\n",
       " 'by Lenskart UV Protection Aviator Sunglasses (Free Size...',\n",
       " 'Mirrored Aviator Sunglasses (55)',\n",
       " 'UV Protection, Polarized, Mirrored Round Sunglasses (Fr...',\n",
       " 'Polarized Round Sunglasses (48)',\n",
       " 'by Lenskart UV Protection Aviator Sunglasses (Free Size...',\n",
       " 'UV Protection, Riding Glasses, Mirrored Wayfarer Sungla...',\n",
       " 'UV Protection Rectangular Sunglasses (58)',\n",
       " 'UV Protection Wayfarer Sunglasses (32)',\n",
       " 'by Lenskart UV Protection Aviator Sunglasses (53)',\n",
       " 'UV Protection, Mirrored Retro Square Sunglasses (53)',\n",
       " 'Polarized Round Sunglasses (48)',\n",
       " 'UV Protection, Others Round Sunglasses (48)',\n",
       " 'by Lenskart Polarized, UV Protection Wayfarer Sunglasse...',\n",
       " 'Gradient Aviator Sunglasses (55)',\n",
       " 'UV Protection Sports Sunglasses (Free Size)',\n",
       " 'UV Protection Round Sunglasses (48)',\n",
       " 'Toughened Glass Lens, UV Protection Aviator Sunglasses ...',\n",
       " 'Mirrored, UV Protection, Riding Glasses, Others Round S...',\n",
       " 'Mirrored, Riding Glasses, Others Sports Sunglasses (50)',\n",
       " 'UV Protection Aviator Sunglasses (55)',\n",
       " 'UV Protection Aviator Sunglasses (Free Size)',\n",
       " 'UV Protection Clubmaster Sunglasses (Free Size)',\n",
       " 'UV Protection, Polarized, Mirrored Rectangular Sunglass...',\n",
       " 'Mirrored, UV Protection Wayfarer Sunglasses (Free Size)',\n",
       " 'UV Protection, Riding Glasses Retro Square, Spectacle ...']"
      ]
     },
     "execution_count": 407,
     "metadata": {},
     "output_type": "execute_result"
    }
   ],
   "source": [
    "for i in description_tags:\n",
    "    description=i.text\n",
    "    product_description.append(description)\n",
    "product_description[0:40]"
   ]
  },
  {
   "cell_type": "code",
   "execution_count": 408,
   "id": "b2439ff3",
   "metadata": {},
   "outputs": [
    {
     "data": {
      "text/plain": [
       "[<selenium.webdriver.remote.webelement.WebElement (session=\"b7932ea1c2260de25fe7bddf906f5172\", element=\"96451432-5443-4603-8cc1-50ef623a9eeb\")>,\n",
       " <selenium.webdriver.remote.webelement.WebElement (session=\"b7932ea1c2260de25fe7bddf906f5172\", element=\"ae84ab94-e354-4ea7-bdb4-92a10aade090\")>,\n",
       " <selenium.webdriver.remote.webelement.WebElement (session=\"b7932ea1c2260de25fe7bddf906f5172\", element=\"d009f59f-b24e-4631-9d42-c212eb13ef61\")>,\n",
       " <selenium.webdriver.remote.webelement.WebElement (session=\"b7932ea1c2260de25fe7bddf906f5172\", element=\"d62c96fd-cb46-4041-afb4-edcb0207beb3\")>,\n",
       " <selenium.webdriver.remote.webelement.WebElement (session=\"b7932ea1c2260de25fe7bddf906f5172\", element=\"be334dd7-93e2-40e9-810d-9b9f7fa89ad8\")>,\n",
       " <selenium.webdriver.remote.webelement.WebElement (session=\"b7932ea1c2260de25fe7bddf906f5172\", element=\"4cf8c469-be65-43b7-9f51-7be84b1eb26e\")>,\n",
       " <selenium.webdriver.remote.webelement.WebElement (session=\"b7932ea1c2260de25fe7bddf906f5172\", element=\"43e1d376-386e-45ee-ad40-f985f532aa60\")>,\n",
       " <selenium.webdriver.remote.webelement.WebElement (session=\"b7932ea1c2260de25fe7bddf906f5172\", element=\"a31fea8c-2a98-412c-a340-35ea12d3c911\")>,\n",
       " <selenium.webdriver.remote.webelement.WebElement (session=\"b7932ea1c2260de25fe7bddf906f5172\", element=\"67abc1b5-add0-4820-adfe-f9de156825ee\")>,\n",
       " <selenium.webdriver.remote.webelement.WebElement (session=\"b7932ea1c2260de25fe7bddf906f5172\", element=\"0ed5e683-49d7-43ca-aa7a-68122a5748b9\")>,\n",
       " <selenium.webdriver.remote.webelement.WebElement (session=\"b7932ea1c2260de25fe7bddf906f5172\", element=\"d0368616-cd0f-4267-a1fa-077898057e18\")>,\n",
       " <selenium.webdriver.remote.webelement.WebElement (session=\"b7932ea1c2260de25fe7bddf906f5172\", element=\"64608be2-0831-4858-bc4c-274443f21528\")>,\n",
       " <selenium.webdriver.remote.webelement.WebElement (session=\"b7932ea1c2260de25fe7bddf906f5172\", element=\"27338f6d-697c-4344-a41f-4d651c4d428f\")>,\n",
       " <selenium.webdriver.remote.webelement.WebElement (session=\"b7932ea1c2260de25fe7bddf906f5172\", element=\"743417df-cf13-4d94-8532-cbf5a80b6ecf\")>,\n",
       " <selenium.webdriver.remote.webelement.WebElement (session=\"b7932ea1c2260de25fe7bddf906f5172\", element=\"955ccf1c-670d-47c8-9d75-e80b12754e43\")>,\n",
       " <selenium.webdriver.remote.webelement.WebElement (session=\"b7932ea1c2260de25fe7bddf906f5172\", element=\"a7efdc59-e570-45b4-80b4-c4e431ed3c93\")>,\n",
       " <selenium.webdriver.remote.webelement.WebElement (session=\"b7932ea1c2260de25fe7bddf906f5172\", element=\"6491a935-1b27-40e8-b696-1dc64b56a9bc\")>,\n",
       " <selenium.webdriver.remote.webelement.WebElement (session=\"b7932ea1c2260de25fe7bddf906f5172\", element=\"8ca29447-51d8-4367-b9ee-32f8402844b2\")>,\n",
       " <selenium.webdriver.remote.webelement.WebElement (session=\"b7932ea1c2260de25fe7bddf906f5172\", element=\"3c1d2640-545d-40a9-b9f2-4fb6328ffe7f\")>,\n",
       " <selenium.webdriver.remote.webelement.WebElement (session=\"b7932ea1c2260de25fe7bddf906f5172\", element=\"2fa9a384-bd08-4897-b636-91b8fdabf339\")>,\n",
       " <selenium.webdriver.remote.webelement.WebElement (session=\"b7932ea1c2260de25fe7bddf906f5172\", element=\"ccf559e1-4f9e-4244-bf74-8525f53e5416\")>,\n",
       " <selenium.webdriver.remote.webelement.WebElement (session=\"b7932ea1c2260de25fe7bddf906f5172\", element=\"bb8ed158-f347-4ad0-83cc-22288973d988\")>,\n",
       " <selenium.webdriver.remote.webelement.WebElement (session=\"b7932ea1c2260de25fe7bddf906f5172\", element=\"e6678237-a040-4869-a6b3-341dd51d0003\")>,\n",
       " <selenium.webdriver.remote.webelement.WebElement (session=\"b7932ea1c2260de25fe7bddf906f5172\", element=\"fccf0306-5476-4b3c-82ba-6f81afadd859\")>,\n",
       " <selenium.webdriver.remote.webelement.WebElement (session=\"b7932ea1c2260de25fe7bddf906f5172\", element=\"d238ba9c-d929-4a20-b737-f7c176fe1bb3\")>,\n",
       " <selenium.webdriver.remote.webelement.WebElement (session=\"b7932ea1c2260de25fe7bddf906f5172\", element=\"e617ef96-4def-47f7-9c79-067562d86772\")>,\n",
       " <selenium.webdriver.remote.webelement.WebElement (session=\"b7932ea1c2260de25fe7bddf906f5172\", element=\"8eb8db81-949a-47e9-ba9d-5f0587645250\")>,\n",
       " <selenium.webdriver.remote.webelement.WebElement (session=\"b7932ea1c2260de25fe7bddf906f5172\", element=\"b13ab35c-fa5d-4b81-a69a-dcd4204cd4ff\")>,\n",
       " <selenium.webdriver.remote.webelement.WebElement (session=\"b7932ea1c2260de25fe7bddf906f5172\", element=\"9b25f251-e79f-4f7c-af52-0944f04a2eae\")>,\n",
       " <selenium.webdriver.remote.webelement.WebElement (session=\"b7932ea1c2260de25fe7bddf906f5172\", element=\"e8b08570-dcf0-4155-9131-3d4cb2adade1\")>,\n",
       " <selenium.webdriver.remote.webelement.WebElement (session=\"b7932ea1c2260de25fe7bddf906f5172\", element=\"46b9e068-1b16-4be4-9380-5c6b33992841\")>,\n",
       " <selenium.webdriver.remote.webelement.WebElement (session=\"b7932ea1c2260de25fe7bddf906f5172\", element=\"6cf3da39-c5e8-4654-8c73-4c157b0edf0b\")>,\n",
       " <selenium.webdriver.remote.webelement.WebElement (session=\"b7932ea1c2260de25fe7bddf906f5172\", element=\"7e79b8ac-343b-4470-9cc6-e30eafa9a076\")>,\n",
       " <selenium.webdriver.remote.webelement.WebElement (session=\"b7932ea1c2260de25fe7bddf906f5172\", element=\"66edcb79-0d2f-42c4-ada3-cc8d59f765fb\")>,\n",
       " <selenium.webdriver.remote.webelement.WebElement (session=\"b7932ea1c2260de25fe7bddf906f5172\", element=\"6be2fc10-c478-44bd-a3d5-8eb699041fa5\")>,\n",
       " <selenium.webdriver.remote.webelement.WebElement (session=\"b7932ea1c2260de25fe7bddf906f5172\", element=\"154f5ca6-2cec-40d1-8bba-1061eec39195\")>,\n",
       " <selenium.webdriver.remote.webelement.WebElement (session=\"b7932ea1c2260de25fe7bddf906f5172\", element=\"8a4ed62c-d12f-46c4-8b14-e63e66bd850b\")>,\n",
       " <selenium.webdriver.remote.webelement.WebElement (session=\"b7932ea1c2260de25fe7bddf906f5172\", element=\"6445e49b-0b58-4ca8-a005-113f114ca770\")>]"
      ]
     },
     "execution_count": 408,
     "metadata": {},
     "output_type": "execute_result"
    }
   ],
   "source": [
    "description_tags=driver.find_elements_by_xpath(\"//a[@class='IRpwTa']\")\n",
    "description_tags[0:40]"
   ]
  },
  {
   "cell_type": "code",
   "execution_count": 409,
   "id": "6559c9c7",
   "metadata": {},
   "outputs": [
    {
     "data": {
      "text/plain": [
       "['by Lenskart UV Protection Aviator Sunglasses (53)',\n",
       " 'by Lenskart Polarized, UV Protection Wayfarer Sunglasse...',\n",
       " 'UV Protection Wayfarer Sunglasses (56)',\n",
       " 'UV Protection Aviator Sunglasses (54)',\n",
       " 'UV Protection Aviator Sunglasses (54)',\n",
       " 'UV Protection Round Sunglasses (54)',\n",
       " 'Mirrored, UV Protection Wayfarer Sunglasses (53)',\n",
       " 'UV Protection Aviator Sunglasses (Free Size)',\n",
       " 'UV Protection Wayfarer Sunglasses (Free Size)',\n",
       " 'UV Protection Round Sunglasses (54)',\n",
       " 'UV Protection Rectangular Sunglasses (Free Size)',\n",
       " 'UV Protection, Others Rectangular Sunglasses (50)',\n",
       " 'UV Protection Retro Square Sunglasses (Free Size)',\n",
       " 'UV Protection Aviator Sunglasses (54)',\n",
       " 'UV Protection, Gradient Rectangular Sunglasses (Free Si...',\n",
       " 'by Lenskart UV Protection Aviator Sunglasses (Free Size...',\n",
       " 'Mirrored Aviator Sunglasses (55)',\n",
       " 'UV Protection, Polarized, Mirrored Round Sunglasses (Fr...',\n",
       " 'Polarized Round Sunglasses (48)',\n",
       " 'by Lenskart UV Protection Aviator Sunglasses (Free Size...',\n",
       " 'UV Protection, Riding Glasses, Mirrored Wayfarer Sungla...',\n",
       " 'UV Protection Rectangular Sunglasses (58)',\n",
       " 'UV Protection Wayfarer Sunglasses (32)',\n",
       " 'by Lenskart UV Protection Aviator Sunglasses (53)',\n",
       " 'UV Protection, Mirrored Retro Square Sunglasses (53)',\n",
       " 'Polarized Round Sunglasses (48)',\n",
       " 'UV Protection, Others Round Sunglasses (48)',\n",
       " 'by Lenskart Polarized, UV Protection Wayfarer Sunglasse...',\n",
       " 'Gradient Aviator Sunglasses (55)',\n",
       " 'UV Protection Sports Sunglasses (Free Size)',\n",
       " 'UV Protection Round Sunglasses (48)',\n",
       " 'Toughened Glass Lens, UV Protection Aviator Sunglasses ...',\n",
       " 'Mirrored, UV Protection, Riding Glasses, Others Round S...',\n",
       " 'Mirrored, Riding Glasses, Others Sports Sunglasses (50)',\n",
       " 'UV Protection Aviator Sunglasses (55)',\n",
       " 'UV Protection Aviator Sunglasses (Free Size)',\n",
       " 'UV Protection Clubmaster Sunglasses (Free Size)',\n",
       " 'UV Protection, Polarized, Mirrored Rectangular Sunglass...',\n",
       " 'Mirrored, UV Protection Wayfarer Sunglasses (Free Size)',\n",
       " 'UV Protection, Riding Glasses Retro Square, Spectacle ...']"
      ]
     },
     "execution_count": 409,
     "metadata": {},
     "output_type": "execute_result"
    }
   ],
   "source": [
    "for i in description_tags:\n",
    "    description=i.text\n",
    "    product_description.append(description)\n",
    "product_description[0:40]"
   ]
  },
  {
   "cell_type": "code",
   "execution_count": 411,
   "id": "8c95f5f8",
   "metadata": {},
   "outputs": [
    {
     "data": {
      "text/plain": [
       "[<selenium.webdriver.remote.webelement.WebElement (session=\"b7932ea1c2260de25fe7bddf906f5172\", element=\"05bf4e75-23dc-44c4-8068-16bae892b0ea\")>,\n",
       " <selenium.webdriver.remote.webelement.WebElement (session=\"b7932ea1c2260de25fe7bddf906f5172\", element=\"1167dae1-d4c3-4e4d-a6c8-e7c6d0494b1a\")>,\n",
       " <selenium.webdriver.remote.webelement.WebElement (session=\"b7932ea1c2260de25fe7bddf906f5172\", element=\"44fa4d9b-db55-4a84-a2a3-2cdfe28a4e70\")>,\n",
       " <selenium.webdriver.remote.webelement.WebElement (session=\"b7932ea1c2260de25fe7bddf906f5172\", element=\"3140c6b1-269a-4532-8a13-e900d123fd94\")>,\n",
       " <selenium.webdriver.remote.webelement.WebElement (session=\"b7932ea1c2260de25fe7bddf906f5172\", element=\"bf99c339-b1d6-4f2d-8dd9-9daee78117c5\")>,\n",
       " <selenium.webdriver.remote.webelement.WebElement (session=\"b7932ea1c2260de25fe7bddf906f5172\", element=\"4e786d79-417a-4135-934d-c6ca5c7fa4bf\")>,\n",
       " <selenium.webdriver.remote.webelement.WebElement (session=\"b7932ea1c2260de25fe7bddf906f5172\", element=\"af23f996-6b34-408b-b7ca-873da9023662\")>,\n",
       " <selenium.webdriver.remote.webelement.WebElement (session=\"b7932ea1c2260de25fe7bddf906f5172\", element=\"6a981e37-0f01-4100-8aa7-3bc144f60606\")>,\n",
       " <selenium.webdriver.remote.webelement.WebElement (session=\"b7932ea1c2260de25fe7bddf906f5172\", element=\"f4a0a597-6797-4d9f-abf2-e3306f017965\")>,\n",
       " <selenium.webdriver.remote.webelement.WebElement (session=\"b7932ea1c2260de25fe7bddf906f5172\", element=\"a80dfe7d-b70b-4e5e-86da-f5b677823a83\")>,\n",
       " <selenium.webdriver.remote.webelement.WebElement (session=\"b7932ea1c2260de25fe7bddf906f5172\", element=\"beeb70de-edd0-4a42-8ce9-25612bddb82f\")>,\n",
       " <selenium.webdriver.remote.webelement.WebElement (session=\"b7932ea1c2260de25fe7bddf906f5172\", element=\"c8a8dd9b-b927-45de-bfcb-ecc236b3ce7b\")>,\n",
       " <selenium.webdriver.remote.webelement.WebElement (session=\"b7932ea1c2260de25fe7bddf906f5172\", element=\"6980eb52-3a27-42e2-8dd7-fede0dd87ebd\")>,\n",
       " <selenium.webdriver.remote.webelement.WebElement (session=\"b7932ea1c2260de25fe7bddf906f5172\", element=\"55e1a157-a33d-480b-bb8a-6c80fceb20e8\")>,\n",
       " <selenium.webdriver.remote.webelement.WebElement (session=\"b7932ea1c2260de25fe7bddf906f5172\", element=\"cccdf46d-05d4-48fa-a9a9-b50d5973421b\")>,\n",
       " <selenium.webdriver.remote.webelement.WebElement (session=\"b7932ea1c2260de25fe7bddf906f5172\", element=\"da37a95c-3b22-43ab-8838-1475a56a984b\")>,\n",
       " <selenium.webdriver.remote.webelement.WebElement (session=\"b7932ea1c2260de25fe7bddf906f5172\", element=\"48280634-3b59-48bf-941f-0af886dfa7cf\")>,\n",
       " <selenium.webdriver.remote.webelement.WebElement (session=\"b7932ea1c2260de25fe7bddf906f5172\", element=\"78fd19f2-a428-4401-bb66-6236f8e9543c\")>,\n",
       " <selenium.webdriver.remote.webelement.WebElement (session=\"b7932ea1c2260de25fe7bddf906f5172\", element=\"0804848a-2bb5-4dfa-af72-04481f821eca\")>,\n",
       " <selenium.webdriver.remote.webelement.WebElement (session=\"b7932ea1c2260de25fe7bddf906f5172\", element=\"cf627669-9247-43f2-a8d0-349c4df9e7d8\")>]"
      ]
     },
     "execution_count": 411,
     "metadata": {},
     "output_type": "execute_result"
    }
   ],
   "source": [
    "description_tags=driver.find_elements_by_xpath(\"//a[@class='IRpwTa']\")\n",
    "description_tags[0:20]"
   ]
  },
  {
   "cell_type": "code",
   "execution_count": 412,
   "id": "d40d2199",
   "metadata": {},
   "outputs": [
    {
     "data": {
      "text/plain": [
       "['by Lenskart UV Protection Aviator Sunglasses (53)',\n",
       " 'by Lenskart Polarized, UV Protection Wayfarer Sunglasse...',\n",
       " 'UV Protection Wayfarer Sunglasses (56)',\n",
       " 'UV Protection Aviator Sunglasses (54)',\n",
       " 'UV Protection Aviator Sunglasses (54)',\n",
       " 'UV Protection Round Sunglasses (54)',\n",
       " 'Mirrored, UV Protection Wayfarer Sunglasses (53)',\n",
       " 'UV Protection Aviator Sunglasses (Free Size)',\n",
       " 'UV Protection Wayfarer Sunglasses (Free Size)',\n",
       " 'UV Protection Round Sunglasses (54)',\n",
       " 'UV Protection Rectangular Sunglasses (Free Size)',\n",
       " 'UV Protection, Others Rectangular Sunglasses (50)',\n",
       " 'UV Protection Retro Square Sunglasses (Free Size)',\n",
       " 'UV Protection Aviator Sunglasses (54)',\n",
       " 'UV Protection, Gradient Rectangular Sunglasses (Free Si...',\n",
       " 'by Lenskart UV Protection Aviator Sunglasses (Free Size...',\n",
       " 'Mirrored Aviator Sunglasses (55)',\n",
       " 'UV Protection, Polarized, Mirrored Round Sunglasses (Fr...',\n",
       " 'Polarized Round Sunglasses (48)',\n",
       " 'by Lenskart UV Protection Aviator Sunglasses (Free Size...']"
      ]
     },
     "execution_count": 412,
     "metadata": {},
     "output_type": "execute_result"
    }
   ],
   "source": [
    "for i in description_tags:\n",
    "    description=i.text\n",
    "    product_description.append(description)\n",
    "product_description[0:20]"
   ]
  },
  {
   "cell_type": "code",
   "execution_count": 690,
   "id": "d1948ee1",
   "metadata": {},
   "outputs": [
    {
     "data": {
      "text/plain": [
       "[<selenium.webdriver.remote.webelement.WebElement (session=\"d20b3f3e5f18c10e910a5a694e5837cb\", element=\"20186ee0-2b1e-426c-9aed-4ec261f579a8\")>,\n",
       " <selenium.webdriver.remote.webelement.WebElement (session=\"d20b3f3e5f18c10e910a5a694e5837cb\", element=\"8979d31a-0b23-4a51-8d5e-ee88df137046\")>,\n",
       " <selenium.webdriver.remote.webelement.WebElement (session=\"d20b3f3e5f18c10e910a5a694e5837cb\", element=\"85fb809c-fdfb-4ec6-b448-553bcbaf0060\")>,\n",
       " <selenium.webdriver.remote.webelement.WebElement (session=\"d20b3f3e5f18c10e910a5a694e5837cb\", element=\"56e9309f-7846-4dc4-acbf-bab58b62bf52\")>,\n",
       " <selenium.webdriver.remote.webelement.WebElement (session=\"d20b3f3e5f18c10e910a5a694e5837cb\", element=\"603642ce-6160-40c8-9d29-1b0b95ca9a72\")>,\n",
       " <selenium.webdriver.remote.webelement.WebElement (session=\"d20b3f3e5f18c10e910a5a694e5837cb\", element=\"6a684163-adb0-4699-8716-35b092c8b6aa\")>,\n",
       " <selenium.webdriver.remote.webelement.WebElement (session=\"d20b3f3e5f18c10e910a5a694e5837cb\", element=\"669bdda5-b5b1-4928-a372-7628c2a02d71\")>,\n",
       " <selenium.webdriver.remote.webelement.WebElement (session=\"d20b3f3e5f18c10e910a5a694e5837cb\", element=\"a315d6f2-ed40-4ac0-a242-2a289cbe134c\")>,\n",
       " <selenium.webdriver.remote.webelement.WebElement (session=\"d20b3f3e5f18c10e910a5a694e5837cb\", element=\"09e60e92-7206-4ed2-9902-6953655f31be\")>,\n",
       " <selenium.webdriver.remote.webelement.WebElement (session=\"d20b3f3e5f18c10e910a5a694e5837cb\", element=\"2cfb9913-5cb8-41f0-8c09-b79840c11c0c\")>,\n",
       " <selenium.webdriver.remote.webelement.WebElement (session=\"d20b3f3e5f18c10e910a5a694e5837cb\", element=\"d776cbbc-09cd-4493-bb79-46138aff6b28\")>,\n",
       " <selenium.webdriver.remote.webelement.WebElement (session=\"d20b3f3e5f18c10e910a5a694e5837cb\", element=\"aaed9b88-e2aa-4846-a7ef-4e6e54ec0d32\")>,\n",
       " <selenium.webdriver.remote.webelement.WebElement (session=\"d20b3f3e5f18c10e910a5a694e5837cb\", element=\"b765150e-70f1-457b-9543-52cf1de17f56\")>,\n",
       " <selenium.webdriver.remote.webelement.WebElement (session=\"d20b3f3e5f18c10e910a5a694e5837cb\", element=\"f3b55b56-0065-4b97-821e-0ab470c2ef14\")>,\n",
       " <selenium.webdriver.remote.webelement.WebElement (session=\"d20b3f3e5f18c10e910a5a694e5837cb\", element=\"672157d9-a443-44f1-82ee-7add4bfd384b\")>,\n",
       " <selenium.webdriver.remote.webelement.WebElement (session=\"d20b3f3e5f18c10e910a5a694e5837cb\", element=\"7e297241-16a8-4351-88b9-a336c2fc7589\")>,\n",
       " <selenium.webdriver.remote.webelement.WebElement (session=\"d20b3f3e5f18c10e910a5a694e5837cb\", element=\"93bf0dbe-203e-476a-bfac-4da8054113b5\")>,\n",
       " <selenium.webdriver.remote.webelement.WebElement (session=\"d20b3f3e5f18c10e910a5a694e5837cb\", element=\"6baeccb5-4bad-4ef4-bf99-de5f061359fc\")>,\n",
       " <selenium.webdriver.remote.webelement.WebElement (session=\"d20b3f3e5f18c10e910a5a694e5837cb\", element=\"84220e16-afcb-4e88-8629-54d983b54f2d\")>,\n",
       " <selenium.webdriver.remote.webelement.WebElement (session=\"d20b3f3e5f18c10e910a5a694e5837cb\", element=\"336f777f-eb9f-47f4-a37f-d7ff0b201b52\")>,\n",
       " <selenium.webdriver.remote.webelement.WebElement (session=\"d20b3f3e5f18c10e910a5a694e5837cb\", element=\"e0b5f59a-d3d0-4fc4-87e8-9937fd3c4d35\")>,\n",
       " <selenium.webdriver.remote.webelement.WebElement (session=\"d20b3f3e5f18c10e910a5a694e5837cb\", element=\"b3009353-14cd-4e7e-a3b9-5d3fa5e3a435\")>,\n",
       " <selenium.webdriver.remote.webelement.WebElement (session=\"d20b3f3e5f18c10e910a5a694e5837cb\", element=\"4df2756b-9b32-4e9b-8553-76b274b2fd5e\")>,\n",
       " <selenium.webdriver.remote.webelement.WebElement (session=\"d20b3f3e5f18c10e910a5a694e5837cb\", element=\"feb86c72-869f-4313-b768-7277e52b2060\")>,\n",
       " <selenium.webdriver.remote.webelement.WebElement (session=\"d20b3f3e5f18c10e910a5a694e5837cb\", element=\"a7539825-51cd-48f3-89ed-7ac52aef12ed\")>,\n",
       " <selenium.webdriver.remote.webelement.WebElement (session=\"d20b3f3e5f18c10e910a5a694e5837cb\", element=\"b9598d36-b0ea-4ea2-8f33-4f21ec1d3512\")>,\n",
       " <selenium.webdriver.remote.webelement.WebElement (session=\"d20b3f3e5f18c10e910a5a694e5837cb\", element=\"ecb8a98c-c6f5-4019-8210-9203cfce7c4e\")>,\n",
       " <selenium.webdriver.remote.webelement.WebElement (session=\"d20b3f3e5f18c10e910a5a694e5837cb\", element=\"c2d49097-0d42-4e47-961b-cd80c4402f76\")>,\n",
       " <selenium.webdriver.remote.webelement.WebElement (session=\"d20b3f3e5f18c10e910a5a694e5837cb\", element=\"0eea2ae2-a198-49df-a5ba-f8df8b8ac55c\")>,\n",
       " <selenium.webdriver.remote.webelement.WebElement (session=\"d20b3f3e5f18c10e910a5a694e5837cb\", element=\"017b3c66-8462-4053-8943-75131827d735\")>,\n",
       " <selenium.webdriver.remote.webelement.WebElement (session=\"d20b3f3e5f18c10e910a5a694e5837cb\", element=\"9e0134e4-d1f7-42c4-885f-67bcb9037994\")>,\n",
       " <selenium.webdriver.remote.webelement.WebElement (session=\"d20b3f3e5f18c10e910a5a694e5837cb\", element=\"11cfab37-07c2-4fb9-aec4-3826c1f99abd\")>,\n",
       " <selenium.webdriver.remote.webelement.WebElement (session=\"d20b3f3e5f18c10e910a5a694e5837cb\", element=\"18a36f90-5f79-46f5-b33e-a34aa9a7f48f\")>,\n",
       " <selenium.webdriver.remote.webelement.WebElement (session=\"d20b3f3e5f18c10e910a5a694e5837cb\", element=\"782bdfb6-e7f8-4e1a-9b4e-7cb200623380\")>,\n",
       " <selenium.webdriver.remote.webelement.WebElement (session=\"d20b3f3e5f18c10e910a5a694e5837cb\", element=\"fc157a6c-75aa-415f-a6de-ca6a2a00f4ac\")>,\n",
       " <selenium.webdriver.remote.webelement.WebElement (session=\"d20b3f3e5f18c10e910a5a694e5837cb\", element=\"67adabde-f8a8-4bdf-8ee5-6f6a3375e2d2\")>,\n",
       " <selenium.webdriver.remote.webelement.WebElement (session=\"d20b3f3e5f18c10e910a5a694e5837cb\", element=\"61378ec6-ecce-45b9-aa26-0b984f971cee\")>,\n",
       " <selenium.webdriver.remote.webelement.WebElement (session=\"d20b3f3e5f18c10e910a5a694e5837cb\", element=\"d3a5b6ca-006e-42e4-8876-e4b28fff176a\")>,\n",
       " <selenium.webdriver.remote.webelement.WebElement (session=\"d20b3f3e5f18c10e910a5a694e5837cb\", element=\"beb106cb-c5f0-4d76-83aa-bcb164bc207d\")>,\n",
       " <selenium.webdriver.remote.webelement.WebElement (session=\"d20b3f3e5f18c10e910a5a694e5837cb\", element=\"4236da40-4e57-420f-af47-42f9373328e7\")>]"
      ]
     },
     "execution_count": 690,
     "metadata": {},
     "output_type": "execute_result"
    }
   ],
   "source": [
    "price_tags=driver.find_elements_by_xpath(\"//div[@class='_30jeq3']\")\n",
    "price_tags[0:40]"
   ]
  },
  {
   "cell_type": "code",
   "execution_count": 691,
   "id": "b4d0b0fe",
   "metadata": {},
   "outputs": [
    {
     "data": {
      "text/plain": [
       "['₹165',\n",
       " '₹165',\n",
       " '₹165',\n",
       " '₹151',\n",
       " '₹188',\n",
       " '₹248',\n",
       " '₹699',\n",
       " '₹383',\n",
       " '₹187',\n",
       " '₹1,499',\n",
       " '₹474',\n",
       " '₹449',\n",
       " '₹359',\n",
       " '₹999',\n",
       " '₹187',\n",
       " '₹599',\n",
       " '₹319',\n",
       " '₹699',\n",
       " '₹359',\n",
       " '₹299',\n",
       " '₹360',\n",
       " '₹664',\n",
       " '₹639',\n",
       " '₹287',\n",
       " '₹196',\n",
       " '₹759',\n",
       " '₹189',\n",
       " '₹649',\n",
       " '₹287',\n",
       " '₹296',\n",
       " '₹199',\n",
       " '₹239',\n",
       " '₹209',\n",
       " '₹699',\n",
       " '₹359',\n",
       " '₹359',\n",
       " '₹299',\n",
       " '₹664',\n",
       " '₹209',\n",
       " '₹172']"
      ]
     },
     "execution_count": 691,
     "metadata": {},
     "output_type": "execute_result"
    }
   ],
   "source": [
    "for i in price_tags:\n",
    "    price1=i.text\n",
    "    price.append(price1)\n",
    "price[0:40]"
   ]
  },
  {
   "cell_type": "code",
   "execution_count": 431,
   "id": "cfde934b",
   "metadata": {},
   "outputs": [
    {
     "data": {
      "text/plain": [
       "[<selenium.webdriver.remote.webelement.WebElement (session=\"b7932ea1c2260de25fe7bddf906f5172\", element=\"684c916c-b71b-4b82-ba5e-c14c21b70a1d\")>,\n",
       " <selenium.webdriver.remote.webelement.WebElement (session=\"b7932ea1c2260de25fe7bddf906f5172\", element=\"05ee1598-3021-4687-8196-7425460d91b8\")>,\n",
       " <selenium.webdriver.remote.webelement.WebElement (session=\"b7932ea1c2260de25fe7bddf906f5172\", element=\"335b3e43-7d4a-4c5d-8826-c2565ab72d5a\")>,\n",
       " <selenium.webdriver.remote.webelement.WebElement (session=\"b7932ea1c2260de25fe7bddf906f5172\", element=\"3e4f5efb-a7bf-429f-a347-1fee491f3d29\")>,\n",
       " <selenium.webdriver.remote.webelement.WebElement (session=\"b7932ea1c2260de25fe7bddf906f5172\", element=\"35391115-acfa-441e-a0c1-0d150384e287\")>,\n",
       " <selenium.webdriver.remote.webelement.WebElement (session=\"b7932ea1c2260de25fe7bddf906f5172\", element=\"a287022f-4c6a-4bce-819a-7722acfc9c53\")>,\n",
       " <selenium.webdriver.remote.webelement.WebElement (session=\"b7932ea1c2260de25fe7bddf906f5172\", element=\"633986eb-2537-4f55-b706-c76b115d53be\")>,\n",
       " <selenium.webdriver.remote.webelement.WebElement (session=\"b7932ea1c2260de25fe7bddf906f5172\", element=\"f77effb5-95be-4be9-9d44-db1f2c4ad0da\")>,\n",
       " <selenium.webdriver.remote.webelement.WebElement (session=\"b7932ea1c2260de25fe7bddf906f5172\", element=\"2803c4e3-2710-4aff-98ce-78a6cc7364f8\")>,\n",
       " <selenium.webdriver.remote.webelement.WebElement (session=\"b7932ea1c2260de25fe7bddf906f5172\", element=\"3e30b848-117d-47cb-8f92-1db2c7409db6\")>,\n",
       " <selenium.webdriver.remote.webelement.WebElement (session=\"b7932ea1c2260de25fe7bddf906f5172\", element=\"1df0893d-147e-4d07-befa-1d6e06b1ea90\")>,\n",
       " <selenium.webdriver.remote.webelement.WebElement (session=\"b7932ea1c2260de25fe7bddf906f5172\", element=\"3c0d7901-9d65-4f8d-a8d3-38fb025a74d3\")>,\n",
       " <selenium.webdriver.remote.webelement.WebElement (session=\"b7932ea1c2260de25fe7bddf906f5172\", element=\"154e33c3-70ae-4f00-83b4-b2ea3ac8315d\")>,\n",
       " <selenium.webdriver.remote.webelement.WebElement (session=\"b7932ea1c2260de25fe7bddf906f5172\", element=\"5476d2b7-32cd-49e0-83f8-eaf334ccff9f\")>,\n",
       " <selenium.webdriver.remote.webelement.WebElement (session=\"b7932ea1c2260de25fe7bddf906f5172\", element=\"a2335601-0e2f-479f-b160-138e7022bf36\")>,\n",
       " <selenium.webdriver.remote.webelement.WebElement (session=\"b7932ea1c2260de25fe7bddf906f5172\", element=\"340a7296-091f-48e6-a266-8ed25430ed44\")>,\n",
       " <selenium.webdriver.remote.webelement.WebElement (session=\"b7932ea1c2260de25fe7bddf906f5172\", element=\"210990a2-c847-4431-8b61-810ef0ac26c5\")>,\n",
       " <selenium.webdriver.remote.webelement.WebElement (session=\"b7932ea1c2260de25fe7bddf906f5172\", element=\"5070628a-056f-4b1f-b96f-9f363c94d683\")>,\n",
       " <selenium.webdriver.remote.webelement.WebElement (session=\"b7932ea1c2260de25fe7bddf906f5172\", element=\"b7610927-672f-4760-b51d-bb9de578f98c\")>,\n",
       " <selenium.webdriver.remote.webelement.WebElement (session=\"b7932ea1c2260de25fe7bddf906f5172\", element=\"740d44ca-df57-489c-baf2-ea71a10fcd51\")>,\n",
       " <selenium.webdriver.remote.webelement.WebElement (session=\"b7932ea1c2260de25fe7bddf906f5172\", element=\"18589854-a780-4118-bc9d-6d877a9a5a2f\")>,\n",
       " <selenium.webdriver.remote.webelement.WebElement (session=\"b7932ea1c2260de25fe7bddf906f5172\", element=\"b034ce91-fb4f-4e16-ab43-8fb4cbdca4d2\")>,\n",
       " <selenium.webdriver.remote.webelement.WebElement (session=\"b7932ea1c2260de25fe7bddf906f5172\", element=\"6292c5bf-3b96-4daf-b1e4-98d00301aa39\")>,\n",
       " <selenium.webdriver.remote.webelement.WebElement (session=\"b7932ea1c2260de25fe7bddf906f5172\", element=\"f3afd90a-6e89-4f02-bcee-0711f705d6a3\")>,\n",
       " <selenium.webdriver.remote.webelement.WebElement (session=\"b7932ea1c2260de25fe7bddf906f5172\", element=\"dfc0fd8f-ce90-4ad5-b79f-3f95d04768b2\")>,\n",
       " <selenium.webdriver.remote.webelement.WebElement (session=\"b7932ea1c2260de25fe7bddf906f5172\", element=\"74fd8952-b638-4454-945b-413c0d11588e\")>,\n",
       " <selenium.webdriver.remote.webelement.WebElement (session=\"b7932ea1c2260de25fe7bddf906f5172\", element=\"ba1121c8-079c-4b13-868e-231c95c071bd\")>,\n",
       " <selenium.webdriver.remote.webelement.WebElement (session=\"b7932ea1c2260de25fe7bddf906f5172\", element=\"5c16a322-a9f4-442c-8373-3a9475f63d08\")>,\n",
       " <selenium.webdriver.remote.webelement.WebElement (session=\"b7932ea1c2260de25fe7bddf906f5172\", element=\"5ec19db2-227b-4918-a799-b72a723c322f\")>,\n",
       " <selenium.webdriver.remote.webelement.WebElement (session=\"b7932ea1c2260de25fe7bddf906f5172\", element=\"6cfd9f07-4e65-4d16-a32f-7f5343f8735a\")>,\n",
       " <selenium.webdriver.remote.webelement.WebElement (session=\"b7932ea1c2260de25fe7bddf906f5172\", element=\"7fda4435-e7e6-4fbc-9291-a5805d1e1a65\")>,\n",
       " <selenium.webdriver.remote.webelement.WebElement (session=\"b7932ea1c2260de25fe7bddf906f5172\", element=\"5defed9f-f9f8-40c4-8bbe-1a7110f8aab1\")>,\n",
       " <selenium.webdriver.remote.webelement.WebElement (session=\"b7932ea1c2260de25fe7bddf906f5172\", element=\"320c6e3f-0d0d-4241-a6af-1559f60a2c41\")>,\n",
       " <selenium.webdriver.remote.webelement.WebElement (session=\"b7932ea1c2260de25fe7bddf906f5172\", element=\"86edc4ea-7cfd-48a8-9bc3-621858f84da6\")>,\n",
       " <selenium.webdriver.remote.webelement.WebElement (session=\"b7932ea1c2260de25fe7bddf906f5172\", element=\"e22ce1c8-6877-4b0f-bed2-02272eaf40a6\")>,\n",
       " <selenium.webdriver.remote.webelement.WebElement (session=\"b7932ea1c2260de25fe7bddf906f5172\", element=\"f84885ef-8c40-4801-8e95-793b2a18b5af\")>,\n",
       " <selenium.webdriver.remote.webelement.WebElement (session=\"b7932ea1c2260de25fe7bddf906f5172\", element=\"c130901c-d0f2-4d60-9cab-c5e7894163d9\")>,\n",
       " <selenium.webdriver.remote.webelement.WebElement (session=\"b7932ea1c2260de25fe7bddf906f5172\", element=\"4a8d9450-aa02-4227-ad0b-bcc81c5c5e4d\")>,\n",
       " <selenium.webdriver.remote.webelement.WebElement (session=\"b7932ea1c2260de25fe7bddf906f5172\", element=\"d5552e08-2342-4b59-8b17-2214c22ca291\")>,\n",
       " <selenium.webdriver.remote.webelement.WebElement (session=\"b7932ea1c2260de25fe7bddf906f5172\", element=\"7cd342f4-a76b-4470-bb0c-476609495f21\")>]"
      ]
     },
     "execution_count": 431,
     "metadata": {},
     "output_type": "execute_result"
    }
   ],
   "source": [
    "discount_tags=driver.find_elements_by_xpath(\"//div[@class='_3Ay6Sb']\")\n",
    "discount_tags[0:40]"
   ]
  },
  {
   "cell_type": "code",
   "execution_count": 432,
   "id": "b527cfdb",
   "metadata": {},
   "outputs": [
    {
     "data": {
      "text/plain": [
       "['50% off',\n",
       " '50% off',\n",
       " '85% off',\n",
       " '87% off',\n",
       " '88% off',\n",
       " '90% off',\n",
       " '86% off',\n",
       " '70% off',\n",
       " '22% off',\n",
       " '82% off',\n",
       " '87% off',\n",
       " '75% off',\n",
       " '78% off',\n",
       " '88% off',\n",
       " '80% off',\n",
       " '50% off',\n",
       " '76% off',\n",
       " '84% off',\n",
       " '64% off',\n",
       " '50% off',\n",
       " '84% off',\n",
       " '70% off',\n",
       " '88% off',\n",
       " '29% off',\n",
       " '85% off',\n",
       " '64% off',\n",
       " '69% off',\n",
       " '81% off',\n",
       " '82% off',\n",
       " '84% off',\n",
       " '64% off',\n",
       " '50% off',\n",
       " '81% off',\n",
       " '87% off',\n",
       " '88% off',\n",
       " '73% off',\n",
       " '85% off',\n",
       " '81% off',\n",
       " '87% off',\n",
       " '50% off']"
      ]
     },
     "execution_count": 432,
     "metadata": {},
     "output_type": "execute_result"
    }
   ],
   "source": [
    "for i in discount_tags:\n",
    "    discounts=i.text\n",
    "    discount.append(discounts)\n",
    "discount[0:40]"
   ]
  },
  {
   "cell_type": "code",
   "execution_count": 433,
   "id": "3e6d4493",
   "metadata": {},
   "outputs": [
    {
     "data": {
      "text/plain": [
       "[<selenium.webdriver.remote.webelement.WebElement (session=\"b7932ea1c2260de25fe7bddf906f5172\", element=\"d08582c9-176c-4c63-9c25-9b2d63b7acc8\")>,\n",
       " <selenium.webdriver.remote.webelement.WebElement (session=\"b7932ea1c2260de25fe7bddf906f5172\", element=\"d9664e52-145c-4665-8e71-863d57f4fbb8\")>,\n",
       " <selenium.webdriver.remote.webelement.WebElement (session=\"b7932ea1c2260de25fe7bddf906f5172\", element=\"a653f1b3-db79-4419-a7fa-e4378a1cafa3\")>,\n",
       " <selenium.webdriver.remote.webelement.WebElement (session=\"b7932ea1c2260de25fe7bddf906f5172\", element=\"85836248-16d1-4ca1-8254-70424f4b286e\")>,\n",
       " <selenium.webdriver.remote.webelement.WebElement (session=\"b7932ea1c2260de25fe7bddf906f5172\", element=\"c51793e6-92fc-4fca-a558-6d9125b901f5\")>,\n",
       " <selenium.webdriver.remote.webelement.WebElement (session=\"b7932ea1c2260de25fe7bddf906f5172\", element=\"00f382a2-0350-4ff0-950c-727cdbae6bdd\")>,\n",
       " <selenium.webdriver.remote.webelement.WebElement (session=\"b7932ea1c2260de25fe7bddf906f5172\", element=\"43d21667-2258-4ebf-a2e0-a862459489ec\")>,\n",
       " <selenium.webdriver.remote.webelement.WebElement (session=\"b7932ea1c2260de25fe7bddf906f5172\", element=\"37ff0590-8037-435c-87ba-a1ef741c6f12\")>,\n",
       " <selenium.webdriver.remote.webelement.WebElement (session=\"b7932ea1c2260de25fe7bddf906f5172\", element=\"d019b125-3c50-461d-a262-d1e6f7bc4f89\")>,\n",
       " <selenium.webdriver.remote.webelement.WebElement (session=\"b7932ea1c2260de25fe7bddf906f5172\", element=\"7bdae78f-1056-42ba-a92c-7824ebc38e64\")>,\n",
       " <selenium.webdriver.remote.webelement.WebElement (session=\"b7932ea1c2260de25fe7bddf906f5172\", element=\"0edf9e1f-1a4e-4084-be0b-5f221705f26f\")>,\n",
       " <selenium.webdriver.remote.webelement.WebElement (session=\"b7932ea1c2260de25fe7bddf906f5172\", element=\"654bd542-f4bd-446d-ad29-595b7bf7ddec\")>,\n",
       " <selenium.webdriver.remote.webelement.WebElement (session=\"b7932ea1c2260de25fe7bddf906f5172\", element=\"f9d2b620-3c5e-4f47-8959-7a76c02f05dd\")>,\n",
       " <selenium.webdriver.remote.webelement.WebElement (session=\"b7932ea1c2260de25fe7bddf906f5172\", element=\"3144ef1e-04e9-485a-8e0e-b21383f39b18\")>,\n",
       " <selenium.webdriver.remote.webelement.WebElement (session=\"b7932ea1c2260de25fe7bddf906f5172\", element=\"470df002-4b0c-4725-9430-a750ff21cb8f\")>,\n",
       " <selenium.webdriver.remote.webelement.WebElement (session=\"b7932ea1c2260de25fe7bddf906f5172\", element=\"04d4c5ef-5153-48b8-b003-aed9f3428032\")>,\n",
       " <selenium.webdriver.remote.webelement.WebElement (session=\"b7932ea1c2260de25fe7bddf906f5172\", element=\"450d3870-c94f-4435-9863-c88f0af2bcb9\")>,\n",
       " <selenium.webdriver.remote.webelement.WebElement (session=\"b7932ea1c2260de25fe7bddf906f5172\", element=\"0fb3c132-7e80-493e-a736-deb692352159\")>,\n",
       " <selenium.webdriver.remote.webelement.WebElement (session=\"b7932ea1c2260de25fe7bddf906f5172\", element=\"5d872b76-cabf-431d-aa04-c6da6a6306c1\")>,\n",
       " <selenium.webdriver.remote.webelement.WebElement (session=\"b7932ea1c2260de25fe7bddf906f5172\", element=\"cc9509e2-03c7-42a9-9940-13d93b431776\")>,\n",
       " <selenium.webdriver.remote.webelement.WebElement (session=\"b7932ea1c2260de25fe7bddf906f5172\", element=\"c2040186-67ee-4666-8e9a-dbee75d2cb1d\")>,\n",
       " <selenium.webdriver.remote.webelement.WebElement (session=\"b7932ea1c2260de25fe7bddf906f5172\", element=\"5c38dde9-089a-4ad6-ba50-c316bcff9772\")>,\n",
       " <selenium.webdriver.remote.webelement.WebElement (session=\"b7932ea1c2260de25fe7bddf906f5172\", element=\"42ef47ad-cba1-4c1d-a3c9-76fb7b4c5c45\")>,\n",
       " <selenium.webdriver.remote.webelement.WebElement (session=\"b7932ea1c2260de25fe7bddf906f5172\", element=\"7412b44a-2485-4d86-9185-7c9ffc5ee4d0\")>,\n",
       " <selenium.webdriver.remote.webelement.WebElement (session=\"b7932ea1c2260de25fe7bddf906f5172\", element=\"35ac3fd3-a6de-4c5f-821c-936c44d17f1c\")>,\n",
       " <selenium.webdriver.remote.webelement.WebElement (session=\"b7932ea1c2260de25fe7bddf906f5172\", element=\"64d5c825-4a16-4e73-9184-8472da9e2727\")>,\n",
       " <selenium.webdriver.remote.webelement.WebElement (session=\"b7932ea1c2260de25fe7bddf906f5172\", element=\"563785a2-1d2c-4cf5-a261-0bca90850d94\")>,\n",
       " <selenium.webdriver.remote.webelement.WebElement (session=\"b7932ea1c2260de25fe7bddf906f5172\", element=\"5f295db2-4248-4b9c-b3ce-598e2ca0a7af\")>,\n",
       " <selenium.webdriver.remote.webelement.WebElement (session=\"b7932ea1c2260de25fe7bddf906f5172\", element=\"5011260c-ac87-4785-afeb-f528c84cbb5f\")>,\n",
       " <selenium.webdriver.remote.webelement.WebElement (session=\"b7932ea1c2260de25fe7bddf906f5172\", element=\"5f46f8b1-7ed0-4227-9b53-2176f3777239\")>,\n",
       " <selenium.webdriver.remote.webelement.WebElement (session=\"b7932ea1c2260de25fe7bddf906f5172\", element=\"3186bbfa-f873-4175-a2d1-c4942722f90d\")>,\n",
       " <selenium.webdriver.remote.webelement.WebElement (session=\"b7932ea1c2260de25fe7bddf906f5172\", element=\"beb634f4-afd0-4c4d-94d1-6d4bcca6f3ca\")>,\n",
       " <selenium.webdriver.remote.webelement.WebElement (session=\"b7932ea1c2260de25fe7bddf906f5172\", element=\"4cd448c6-cb9f-4910-931a-e2d107c40e35\")>,\n",
       " <selenium.webdriver.remote.webelement.WebElement (session=\"b7932ea1c2260de25fe7bddf906f5172\", element=\"a70ff910-da63-412b-a5a2-b3349c5a1499\")>,\n",
       " <selenium.webdriver.remote.webelement.WebElement (session=\"b7932ea1c2260de25fe7bddf906f5172\", element=\"a13498b4-a983-48c4-9a99-83e2c30d27be\")>,\n",
       " <selenium.webdriver.remote.webelement.WebElement (session=\"b7932ea1c2260de25fe7bddf906f5172\", element=\"99f1a4fa-4eb0-46aa-a4c6-c53c739d4835\")>,\n",
       " <selenium.webdriver.remote.webelement.WebElement (session=\"b7932ea1c2260de25fe7bddf906f5172\", element=\"81457b67-7148-40f7-a4af-4a6376d0398e\")>,\n",
       " <selenium.webdriver.remote.webelement.WebElement (session=\"b7932ea1c2260de25fe7bddf906f5172\", element=\"553d791a-f9e6-42f5-b0d4-34673193e16a\")>,\n",
       " <selenium.webdriver.remote.webelement.WebElement (session=\"b7932ea1c2260de25fe7bddf906f5172\", element=\"4ed27040-793b-4cbb-b9e1-ab79b8e1c460\")>,\n",
       " <selenium.webdriver.remote.webelement.WebElement (session=\"b7932ea1c2260de25fe7bddf906f5172\", element=\"e84deaed-f489-4acc-8f6d-82c26bbb3e80\")>]"
      ]
     },
     "execution_count": 433,
     "metadata": {},
     "output_type": "execute_result"
    }
   ],
   "source": [
    "discount_tags=driver.find_elements_by_xpath(\"//div[@class='_3Ay6Sb']\")\n",
    "discount_tags[0:40]"
   ]
  },
  {
   "cell_type": "code",
   "execution_count": 434,
   "id": "063fd127",
   "metadata": {},
   "outputs": [
    {
     "data": {
      "text/plain": [
       "['50% off',\n",
       " '50% off',\n",
       " '85% off',\n",
       " '87% off',\n",
       " '88% off',\n",
       " '90% off',\n",
       " '86% off',\n",
       " '70% off',\n",
       " '22% off',\n",
       " '82% off',\n",
       " '87% off',\n",
       " '75% off',\n",
       " '78% off',\n",
       " '88% off',\n",
       " '80% off',\n",
       " '50% off',\n",
       " '76% off',\n",
       " '84% off',\n",
       " '64% off',\n",
       " '50% off',\n",
       " '84% off',\n",
       " '70% off',\n",
       " '88% off',\n",
       " '29% off',\n",
       " '85% off',\n",
       " '64% off',\n",
       " '69% off',\n",
       " '81% off',\n",
       " '82% off',\n",
       " '84% off',\n",
       " '64% off',\n",
       " '50% off',\n",
       " '81% off',\n",
       " '87% off',\n",
       " '88% off',\n",
       " '73% off',\n",
       " '85% off',\n",
       " '81% off',\n",
       " '87% off',\n",
       " '50% off']"
      ]
     },
     "execution_count": 434,
     "metadata": {},
     "output_type": "execute_result"
    }
   ],
   "source": [
    "for i in discount_tags:\n",
    "    discounts=i.text\n",
    "    discount.append(discounts)\n",
    "discount[0:40]"
   ]
  },
  {
   "cell_type": "code",
   "execution_count": 435,
   "id": "eb6a858f",
   "metadata": {},
   "outputs": [
    {
     "data": {
      "text/plain": [
       "[<selenium.webdriver.remote.webelement.WebElement (session=\"b7932ea1c2260de25fe7bddf906f5172\", element=\"16fe7b75-353d-4d66-acb4-dc3697d3eaaf\")>,\n",
       " <selenium.webdriver.remote.webelement.WebElement (session=\"b7932ea1c2260de25fe7bddf906f5172\", element=\"2105ac39-fbf4-4f45-ab99-f36ca3ea5f97\")>,\n",
       " <selenium.webdriver.remote.webelement.WebElement (session=\"b7932ea1c2260de25fe7bddf906f5172\", element=\"b7082b4d-308f-427c-9572-d40bf8483a7e\")>,\n",
       " <selenium.webdriver.remote.webelement.WebElement (session=\"b7932ea1c2260de25fe7bddf906f5172\", element=\"c0cd2209-2075-443f-a5f8-d8c872173e75\")>,\n",
       " <selenium.webdriver.remote.webelement.WebElement (session=\"b7932ea1c2260de25fe7bddf906f5172\", element=\"b2cc5694-2a13-4f61-b0a0-56e606ea7e46\")>,\n",
       " <selenium.webdriver.remote.webelement.WebElement (session=\"b7932ea1c2260de25fe7bddf906f5172\", element=\"e617fa3a-adac-4db6-bd5a-be544853e338\")>,\n",
       " <selenium.webdriver.remote.webelement.WebElement (session=\"b7932ea1c2260de25fe7bddf906f5172\", element=\"d6be5d88-66df-4b3e-a24c-2540cc5266c7\")>,\n",
       " <selenium.webdriver.remote.webelement.WebElement (session=\"b7932ea1c2260de25fe7bddf906f5172\", element=\"5dd6179b-7fe2-4e5b-abb8-a59af00649f1\")>,\n",
       " <selenium.webdriver.remote.webelement.WebElement (session=\"b7932ea1c2260de25fe7bddf906f5172\", element=\"9cdefa51-97cc-4468-b6c5-c874f3388e23\")>,\n",
       " <selenium.webdriver.remote.webelement.WebElement (session=\"b7932ea1c2260de25fe7bddf906f5172\", element=\"67c97455-4148-46f2-b954-4f8ec47aeaf0\")>,\n",
       " <selenium.webdriver.remote.webelement.WebElement (session=\"b7932ea1c2260de25fe7bddf906f5172\", element=\"f09fa1ad-48b7-48a0-aff2-4d916379c2a3\")>,\n",
       " <selenium.webdriver.remote.webelement.WebElement (session=\"b7932ea1c2260de25fe7bddf906f5172\", element=\"47fb088e-fe33-4232-9c29-8bf1ee7430ce\")>,\n",
       " <selenium.webdriver.remote.webelement.WebElement (session=\"b7932ea1c2260de25fe7bddf906f5172\", element=\"49783adf-c6fd-4aad-a867-1e7b0d9a788e\")>,\n",
       " <selenium.webdriver.remote.webelement.WebElement (session=\"b7932ea1c2260de25fe7bddf906f5172\", element=\"90abe2c3-955b-42c8-ac21-b0aa54984bcd\")>,\n",
       " <selenium.webdriver.remote.webelement.WebElement (session=\"b7932ea1c2260de25fe7bddf906f5172\", element=\"605e5e2b-5c10-4eb9-9af5-b2265938a79e\")>,\n",
       " <selenium.webdriver.remote.webelement.WebElement (session=\"b7932ea1c2260de25fe7bddf906f5172\", element=\"eaec6684-63ed-48c6-9611-3ee60e766811\")>,\n",
       " <selenium.webdriver.remote.webelement.WebElement (session=\"b7932ea1c2260de25fe7bddf906f5172\", element=\"98ac9b34-9b58-4b2d-a0c3-c5631b293000\")>,\n",
       " <selenium.webdriver.remote.webelement.WebElement (session=\"b7932ea1c2260de25fe7bddf906f5172\", element=\"573efe4a-d11a-44f6-9c66-22e0dc04a8e2\")>,\n",
       " <selenium.webdriver.remote.webelement.WebElement (session=\"b7932ea1c2260de25fe7bddf906f5172\", element=\"2264a8d8-4337-45c8-ae85-15285958595c\")>,\n",
       " <selenium.webdriver.remote.webelement.WebElement (session=\"b7932ea1c2260de25fe7bddf906f5172\", element=\"e80abe9e-8634-4a0a-a0f8-78d752fc02b2\")>]"
      ]
     },
     "execution_count": 435,
     "metadata": {},
     "output_type": "execute_result"
    }
   ],
   "source": [
    "discount_tags=driver.find_elements_by_xpath(\"//div[@class='_3Ay6Sb']\")\n",
    "discount_tags[0:20]"
   ]
  },
  {
   "cell_type": "code",
   "execution_count": 436,
   "id": "7497ca17",
   "metadata": {},
   "outputs": [
    {
     "data": {
      "text/plain": [
       "['50% off',\n",
       " '50% off',\n",
       " '85% off',\n",
       " '87% off',\n",
       " '88% off',\n",
       " '90% off',\n",
       " '86% off',\n",
       " '70% off',\n",
       " '22% off',\n",
       " '82% off',\n",
       " '87% off',\n",
       " '75% off',\n",
       " '78% off',\n",
       " '88% off',\n",
       " '80% off',\n",
       " '50% off',\n",
       " '76% off',\n",
       " '84% off',\n",
       " '64% off',\n",
       " '50% off']"
      ]
     },
     "execution_count": 436,
     "metadata": {},
     "output_type": "execute_result"
    }
   ],
   "source": [
    "for i in discount_tags:\n",
    "    discounts=i.text\n",
    "    discount.append(discounts)\n",
    "discount[0:20]"
   ]
  },
  {
   "cell_type": "code",
   "execution_count": null,
   "id": "1e2bc2dd",
   "metadata": {},
   "outputs": [],
   "source": [
    "#5th program"
   ]
  },
  {
   "cell_type": "code",
   "execution_count": 440,
   "id": "e55d0791",
   "metadata": {},
   "outputs": [],
   "source": [
    "url=\"https://www.flipkart.com/apple-iphone-11-black-64-gb-includes-%20earpods-poweradapter/p/itm0f37c2240b217?pid=MOBFKCTSVZAXUHGR&lid=LSTMOBFKC%20TSVZAXUHGREPBFGI&marketplace.\""
   ]
  },
  {
   "cell_type": "code",
   "execution_count": 441,
   "id": "c9640862",
   "metadata": {},
   "outputs": [],
   "source": [
    "driver.get(url)"
   ]
  },
  {
   "cell_type": "code",
   "execution_count": 449,
   "id": "a38257af",
   "metadata": {},
   "outputs": [],
   "source": [
    "rating=[]\n",
    "review_summary=[]\n",
    "full_review=[]"
   ]
  },
  {
   "cell_type": "code",
   "execution_count": 450,
   "id": "38b5d753",
   "metadata": {},
   "outputs": [
    {
     "data": {
      "text/plain": [
       "[<selenium.webdriver.remote.webelement.WebElement (session=\"b7932ea1c2260de25fe7bddf906f5172\", element=\"f4ce92b5-444f-47fb-b6b7-4979286d7692\")>,\n",
       " <selenium.webdriver.remote.webelement.WebElement (session=\"b7932ea1c2260de25fe7bddf906f5172\", element=\"059a5414-e290-4b47-ae6b-e48bd955e75a\")>,\n",
       " <selenium.webdriver.remote.webelement.WebElement (session=\"b7932ea1c2260de25fe7bddf906f5172\", element=\"c2fc2b8e-4b76-4b84-9b57-fb8145c64be1\")>,\n",
       " <selenium.webdriver.remote.webelement.WebElement (session=\"b7932ea1c2260de25fe7bddf906f5172\", element=\"888599ee-5e94-4dea-8168-93c8c6068a32\")>,\n",
       " <selenium.webdriver.remote.webelement.WebElement (session=\"b7932ea1c2260de25fe7bddf906f5172\", element=\"9103fe06-0d4f-4649-98c1-10eec0361d9b\")>,\n",
       " <selenium.webdriver.remote.webelement.WebElement (session=\"b7932ea1c2260de25fe7bddf906f5172\", element=\"4ce2f688-d8c0-4b93-a104-942b3add27e1\")>,\n",
       " <selenium.webdriver.remote.webelement.WebElement (session=\"b7932ea1c2260de25fe7bddf906f5172\", element=\"ee9d1c9c-12e0-440c-ba1a-25cb5ce072df\")>,\n",
       " <selenium.webdriver.remote.webelement.WebElement (session=\"b7932ea1c2260de25fe7bddf906f5172\", element=\"b6835303-d210-47cc-8e90-7f54c646e525\")>,\n",
       " <selenium.webdriver.remote.webelement.WebElement (session=\"b7932ea1c2260de25fe7bddf906f5172\", element=\"f3225934-266a-466b-b4f4-f41872b7e85f\")>,\n",
       " <selenium.webdriver.remote.webelement.WebElement (session=\"b7932ea1c2260de25fe7bddf906f5172\", element=\"1c54d55b-49b6-4517-9126-7be14c38eb6e\")>]"
      ]
     },
     "execution_count": 450,
     "metadata": {},
     "output_type": "execute_result"
    }
   ],
   "source": [
    "rating_tags=driver.find_elements_by_xpath(\"//div[@class='_3LWZlK _1BLPMq']\")\n",
    "rating_tags[0:10]"
   ]
  },
  {
   "cell_type": "code",
   "execution_count": 451,
   "id": "5fc7b370",
   "metadata": {},
   "outputs": [
    {
     "data": {
      "text/plain": [
       "['5', '5', '5', '5', '5', '5', '5', '5', '5', '5']"
      ]
     },
     "execution_count": 451,
     "metadata": {},
     "output_type": "execute_result"
    }
   ],
   "source": [
    "for i in rating_tags:\n",
    "    ratings=i.text\n",
    "    rating.append(ratings)\n",
    "rating[0:10]"
   ]
  },
  {
   "cell_type": "code",
   "execution_count": 454,
   "id": "345831dc",
   "metadata": {},
   "outputs": [
    {
     "data": {
      "text/plain": [
       "[<selenium.webdriver.remote.webelement.WebElement (session=\"b7932ea1c2260de25fe7bddf906f5172\", element=\"104f7d1f-d6f7-4f05-ac7d-0c7f7c427355\")>,\n",
       " <selenium.webdriver.remote.webelement.WebElement (session=\"b7932ea1c2260de25fe7bddf906f5172\", element=\"b94331b5-ea86-4518-ba6d-60c4d49d7156\")>,\n",
       " <selenium.webdriver.remote.webelement.WebElement (session=\"b7932ea1c2260de25fe7bddf906f5172\", element=\"63d62fc2-f45a-4837-a3e0-1ee074b61870\")>,\n",
       " <selenium.webdriver.remote.webelement.WebElement (session=\"b7932ea1c2260de25fe7bddf906f5172\", element=\"94cb1922-6a46-48ec-b8b1-c46d1c7f0efc\")>,\n",
       " <selenium.webdriver.remote.webelement.WebElement (session=\"b7932ea1c2260de25fe7bddf906f5172\", element=\"e47dab4d-f599-4d6d-8cad-e5f6f76016c7\")>,\n",
       " <selenium.webdriver.remote.webelement.WebElement (session=\"b7932ea1c2260de25fe7bddf906f5172\", element=\"89dbc5ec-02ba-427f-940a-c20772c95d18\")>,\n",
       " <selenium.webdriver.remote.webelement.WebElement (session=\"b7932ea1c2260de25fe7bddf906f5172\", element=\"9240ba1e-fa6f-4dd2-a53c-63f743fee8b6\")>,\n",
       " <selenium.webdriver.remote.webelement.WebElement (session=\"b7932ea1c2260de25fe7bddf906f5172\", element=\"24eaa581-be8f-4353-bfe7-0f08cae48c4c\")>,\n",
       " <selenium.webdriver.remote.webelement.WebElement (session=\"b7932ea1c2260de25fe7bddf906f5172\", element=\"e7dbd6be-a4f6-4fa1-80d5-296dca4649bd\")>,\n",
       " <selenium.webdriver.remote.webelement.WebElement (session=\"b7932ea1c2260de25fe7bddf906f5172\", element=\"f8b113da-0891-4f34-bb2f-dab553bfd02a\")>]"
      ]
     },
     "execution_count": 454,
     "metadata": {},
     "output_type": "execute_result"
    }
   ],
   "source": [
    "rating_tags=driver.find_elements_by_xpath(\"//div[@class='col _2wzgFH K0kLPL']\")\n",
    "rating_tags[0:100]"
   ]
  },
  {
   "cell_type": "code",
   "execution_count": 455,
   "id": "31fa7d6a",
   "metadata": {},
   "outputs": [
    {
     "data": {
      "text/plain": [
       "['5',\n",
       " '5',\n",
       " '5',\n",
       " '5',\n",
       " '5',\n",
       " '5',\n",
       " '5',\n",
       " '5',\n",
       " '5',\n",
       " '5',\n",
       " '5\\nHighly recommended\\nWhat a camera .....just awesome ..you can feel this iPhone just awesome . Good for gaming also ...try pubg in hd it’s just wow\\nVishal Dubey\\nCertified Buyer\\nJul, 2020\\n50985',\n",
       " '5\\nPerfect product!\\nIt’s a must buy who is looking for an upgrade from previous generation of iPhones. If you are using XR then still you can hold on for sometime and upgrade to 2020 model else this phone is a must buy . Camera quality is amazing and wide angle is something to count upon. Performance wise it’s amazing and feels premium while holding in hand. So a big YES for this device. Go for 128 GB variant as the 4K videos will occupy lots of space and the storage can get over very quickly. Try to buy it with...\\nREAD MORE\\ntushar srivastava\\nCertified Buyer, Lucknow\\nMar, 2020\\n3156645',\n",
       " '5\\nPerfect product!\\nValue for money❤️❤️\\nIts awesome mobile phone in the world ...\\nDisplay was very good and bright ..\\nTrust me freinds you r never regret after Buying..\\nJust go for it....\\nI love this phone and i switch to iphone x to 11\\nFlipkart Customer\\nCertified Buyer, Jhunjhunun\\nNov, 2019\\n2822604',\n",
       " '5\\nClassy product\\nTotally in love with this ❤ the camera quality is amazing just love it 😘😘😘 itsss dammnnnnnn amazing... Must buy iPhone 11 this is my best experience ever ☀👌👌🧡🧡🧡🧡🧡 thanku apple ❤\\nPayal Singh\\nCertified Buyer, Ghaziabad\\n6 months ago\\n1050238',\n",
       " \"5\\nPerfect product!\\nIphone is just awesome.. battery backup is very very nice.. continuously for 10 hours we can use it.camera is just awesome.. display is just fab.i love it alot..i had to wait 15 days for it as i pre ordered it..overalll it's worth the price..these all images are clicked by my iPhone..and i love it.\\nRishika Agarwal\\nCertified Buyer, Tisra\\nOct, 2019\\n1629387\",\n",
       " '5\\nWorth every penny\\nBest budget Iphone till date ❤️ go for it guys without second thought. Let me explain you guys about Camera, Display, battery, and performance.\\n\\nCamera: at this price range there is no comparison of camera, you’ll love the picture quality as well as video quality. I am a Vlogger I wanted an iPhone with 4k video by front camera and I got this phone and I am more than happy 😃\\n\\nBattery: I use this phone roughly as I am active social media person and I have a youtube channel. so the battery ba...\\nREAD MORE\\nArshad Ahmed\\nCertified Buyer, New Delhi\\nJan, 2020\\n3194787',\n",
       " \"5\\nHighly recommended\\nIt's my first time to use iOS phone and I am loving my upgradation 😍😍 I love the color, I love the assebility of the phone....I need to learn more about its functionality, but as far as I have seen, it's quite easy and it has a lot of functions to work on, specially if you are a content writer or a blogger you get a lot of content creation platforms and they are really amazing.\\n\\nThis phone not only for good quality photography but a lot of other task too.😍💯\\nJimly Gogoi\\nCertified Buyer, Ahmedabad\\nMay, 2020\\n21542\",\n",
       " '5\\nSimply awesome\\nExcellent camera, good performance, no lag. The lcd display is also good.. but difference come when we watch movie in prime and Netflix, the colours are not vibrant.. as we see in amoled display.. and the charger in box is of 5 watts.. takes more than 3 hours to charge from 0 to 100.. so guys be prepare to buy 18 watts charger . Finally I am an android user, it was my first Iapple phone, I promise u guys the iOS is so smooth.. overall the phone is damn good.... close eyes to buy it.. thanks t...\\nREAD MORE\\nchaitanya kumar\\nCertified Buyer, Rajahmundry\\nJun, 2020\\n42692',\n",
       " '5\\nWorth every penny\\nIt’s been almost a month since I have been using this phone. I upgraded from an iPhone 8. The main issue with my 8 was battery and this phone is just awesome when it comes to battery. It lasts a day and a half for me with my regular use , internet connected always with 4g\\nCan’t move forward without saying this. Battery of this phone is a life saver when I am traveling or at work when I don’t get the option to charge\\nCamera is superb. Front cam selfies and back cam photos are just awesome.\\n...\\nREAD MORE\\nFlipkart Customer\\nCertified Buyer, Thiruvananthapuram\\nNov, 2019\\n2078542',\n",
       " '5\\nWorth every penny\\nSmooth like butter, camera like fantabulous, sound is crystal clear & its red color is damn attractive, i am just loving it. Must buy if you love photography.\\n\\nLucky to get it in sale, thank you Flipkart.\\nBiswa Das\\nCertified Buyer, Bilaspur\\n10 months ago\\n15731',\n",
       " '5\\nHighly recommended\\nWhat a camera .....just awesome ..you can feel this iPhone just awesome . Good for gaming also ...try pubg in hd it’s just wow\\nVishal Dubey\\nCertified Buyer\\nJul, 2020\\n50985',\n",
       " '5\\nPerfect product!\\nIt’s a must buy who is looking for an upgrade from previous generation of iPhones. If you are using XR then still you can hold on for sometime and upgrade to 2020 model else this phone is a must buy . Camera quality is amazing and wide angle is something to count upon. Performance wise it’s amazing and feels premium while holding in hand. So a big YES for this device. Go for 128 GB variant as the 4K videos will occupy lots of space and the storage can get over very quickly. Try to buy it with...\\nREAD MORE\\ntushar srivastava\\nCertified Buyer, Lucknow\\nMar, 2020\\n3156645',\n",
       " '5\\nPerfect product!\\nValue for money❤️❤️\\nIts awesome mobile phone in the world ...\\nDisplay was very good and bright ..\\nTrust me freinds you r never regret after Buying..\\nJust go for it....\\nI love this phone and i switch to iphone x to 11\\nFlipkart Customer\\nCertified Buyer, Jhunjhunun\\nNov, 2019\\n2822604',\n",
       " '5\\nClassy product\\nTotally in love with this ❤ the camera quality is amazing just love it 😘😘😘 itsss dammnnnnnn amazing... Must buy iPhone 11 this is my best experience ever ☀👌👌🧡🧡🧡🧡🧡 thanku apple ❤\\nPayal Singh\\nCertified Buyer, Ghaziabad\\n6 months ago\\n1050238',\n",
       " \"5\\nPerfect product!\\nIphone is just awesome.. battery backup is very very nice.. continuously for 10 hours we can use it.camera is just awesome.. display is just fab.i love it alot..i had to wait 15 days for it as i pre ordered it..overalll it's worth the price..these all images are clicked by my iPhone..and i love it.\\nRishika Agarwal\\nCertified Buyer, Tisra\\nOct, 2019\\n1629387\",\n",
       " '5\\nWorth every penny\\nBest budget Iphone till date ❤️ go for it guys without second thought. Let me explain you guys about Camera, Display, battery, and performance.\\n\\nCamera: at this price range there is no comparison of camera, you’ll love the picture quality as well as video quality. I am a Vlogger I wanted an iPhone with 4k video by front camera and I got this phone and I am more than happy 😃\\n\\nBattery: I use this phone roughly as I am active social media person and I have a youtube channel. so the battery ba...\\nREAD MORE\\nArshad Ahmed\\nCertified Buyer, New Delhi\\nJan, 2020\\n3194787',\n",
       " \"5\\nHighly recommended\\nIt's my first time to use iOS phone and I am loving my upgradation 😍😍 I love the color, I love the assebility of the phone....I need to learn more about its functionality, but as far as I have seen, it's quite easy and it has a lot of functions to work on, specially if you are a content writer or a blogger you get a lot of content creation platforms and they are really amazing.\\n\\nThis phone not only for good quality photography but a lot of other task too.😍💯\\nJimly Gogoi\\nCertified Buyer, Ahmedabad\\nMay, 2020\\n21542\",\n",
       " '5\\nSimply awesome\\nExcellent camera, good performance, no lag. The lcd display is also good.. but difference come when we watch movie in prime and Netflix, the colours are not vibrant.. as we see in amoled display.. and the charger in box is of 5 watts.. takes more than 3 hours to charge from 0 to 100.. so guys be prepare to buy 18 watts charger . Finally I am an android user, it was my first Iapple phone, I promise u guys the iOS is so smooth.. overall the phone is damn good.... close eyes to buy it.. thanks t...\\nREAD MORE\\nchaitanya kumar\\nCertified Buyer, Rajahmundry\\nJun, 2020\\n42692',\n",
       " '5\\nWorth every penny\\nIt’s been almost a month since I have been using this phone. I upgraded from an iPhone 8. The main issue with my 8 was battery and this phone is just awesome when it comes to battery. It lasts a day and a half for me with my regular use , internet connected always with 4g\\nCan’t move forward without saying this. Battery of this phone is a life saver when I am traveling or at work when I don’t get the option to charge\\nCamera is superb. Front cam selfies and back cam photos are just awesome.\\n...\\nREAD MORE\\nFlipkart Customer\\nCertified Buyer, Thiruvananthapuram\\nNov, 2019\\n2078542',\n",
       " '5\\nWorth every penny\\nSmooth like butter, camera like fantabulous, sound is crystal clear & its red color is damn attractive, i am just loving it. Must buy if you love photography.\\n\\nLucky to get it in sale, thank you Flipkart.\\nBiswa Das\\nCertified Buyer, Bilaspur\\n10 months ago\\n15731']"
      ]
     },
     "execution_count": 455,
     "metadata": {},
     "output_type": "execute_result"
    }
   ],
   "source": [
    "for i in rating_tags:\n",
    "    ratings=i.text\n",
    "    rating.append(ratings)\n",
    "rating[0:100]"
   ]
  },
  {
   "cell_type": "code",
   "execution_count": 456,
   "id": "64e416b7",
   "metadata": {},
   "outputs": [
    {
     "data": {
      "text/plain": [
       "[<selenium.webdriver.remote.webelement.WebElement (session=\"b7932ea1c2260de25fe7bddf906f5172\", element=\"104f7d1f-d6f7-4f05-ac7d-0c7f7c427355\")>,\n",
       " <selenium.webdriver.remote.webelement.WebElement (session=\"b7932ea1c2260de25fe7bddf906f5172\", element=\"b94331b5-ea86-4518-ba6d-60c4d49d7156\")>,\n",
       " <selenium.webdriver.remote.webelement.WebElement (session=\"b7932ea1c2260de25fe7bddf906f5172\", element=\"63d62fc2-f45a-4837-a3e0-1ee074b61870\")>,\n",
       " <selenium.webdriver.remote.webelement.WebElement (session=\"b7932ea1c2260de25fe7bddf906f5172\", element=\"94cb1922-6a46-48ec-b8b1-c46d1c7f0efc\")>,\n",
       " <selenium.webdriver.remote.webelement.WebElement (session=\"b7932ea1c2260de25fe7bddf906f5172\", element=\"e47dab4d-f599-4d6d-8cad-e5f6f76016c7\")>,\n",
       " <selenium.webdriver.remote.webelement.WebElement (session=\"b7932ea1c2260de25fe7bddf906f5172\", element=\"89dbc5ec-02ba-427f-940a-c20772c95d18\")>,\n",
       " <selenium.webdriver.remote.webelement.WebElement (session=\"b7932ea1c2260de25fe7bddf906f5172\", element=\"9240ba1e-fa6f-4dd2-a53c-63f743fee8b6\")>,\n",
       " <selenium.webdriver.remote.webelement.WebElement (session=\"b7932ea1c2260de25fe7bddf906f5172\", element=\"24eaa581-be8f-4353-bfe7-0f08cae48c4c\")>,\n",
       " <selenium.webdriver.remote.webelement.WebElement (session=\"b7932ea1c2260de25fe7bddf906f5172\", element=\"e7dbd6be-a4f6-4fa1-80d5-296dca4649bd\")>,\n",
       " <selenium.webdriver.remote.webelement.WebElement (session=\"b7932ea1c2260de25fe7bddf906f5172\", element=\"f8b113da-0891-4f34-bb2f-dab553bfd02a\")>]"
      ]
     },
     "execution_count": 456,
     "metadata": {},
     "output_type": "execute_result"
    }
   ],
   "source": [
    "review_tags=driver.find_elements_by_xpath(\"//div[@class='col _2wzgFH K0kLPL']\")\n",
    "review_tags[0:10]"
   ]
  },
  {
   "cell_type": "code",
   "execution_count": 457,
   "id": "004f5867",
   "metadata": {},
   "outputs": [
    {
     "data": {
      "text/plain": [
       "['5\\nHighly recommended\\nWhat a camera .....just awesome ..you can feel this iPhone just awesome . Good for gaming also ...try pubg in hd it’s just wow\\nVishal Dubey\\nCertified Buyer\\nJul, 2020\\n50985',\n",
       " '5\\nPerfect product!\\nIt’s a must buy who is looking for an upgrade from previous generation of iPhones. If you are using XR then still you can hold on for sometime and upgrade to 2020 model else this phone is a must buy . Camera quality is amazing and wide angle is something to count upon. Performance wise it’s amazing and feels premium while holding in hand. So a big YES for this device. Go for 128 GB variant as the 4K videos will occupy lots of space and the storage can get over very quickly. Try to buy it with...\\nREAD MORE\\ntushar srivastava\\nCertified Buyer, Lucknow\\nMar, 2020\\n3156645',\n",
       " '5\\nPerfect product!\\nValue for money❤️❤️\\nIts awesome mobile phone in the world ...\\nDisplay was very good and bright ..\\nTrust me freinds you r never regret after Buying..\\nJust go for it....\\nI love this phone and i switch to iphone x to 11\\nFlipkart Customer\\nCertified Buyer, Jhunjhunun\\nNov, 2019\\n2822604',\n",
       " '5\\nClassy product\\nTotally in love with this ❤ the camera quality is amazing just love it 😘😘😘 itsss dammnnnnnn amazing... Must buy iPhone 11 this is my best experience ever ☀👌👌🧡🧡🧡🧡🧡 thanku apple ❤\\nPayal Singh\\nCertified Buyer, Ghaziabad\\n6 months ago\\n1050238',\n",
       " \"5\\nPerfect product!\\nIphone is just awesome.. battery backup is very very nice.. continuously for 10 hours we can use it.camera is just awesome.. display is just fab.i love it alot..i had to wait 15 days for it as i pre ordered it..overalll it's worth the price..these all images are clicked by my iPhone..and i love it.\\nRishika Agarwal\\nCertified Buyer, Tisra\\nOct, 2019\\n1629387\",\n",
       " '5\\nWorth every penny\\nBest budget Iphone till date ❤️ go for it guys without second thought. Let me explain you guys about Camera, Display, battery, and performance.\\n\\nCamera: at this price range there is no comparison of camera, you’ll love the picture quality as well as video quality. I am a Vlogger I wanted an iPhone with 4k video by front camera and I got this phone and I am more than happy 😃\\n\\nBattery: I use this phone roughly as I am active social media person and I have a youtube channel. so the battery ba...\\nREAD MORE\\nArshad Ahmed\\nCertified Buyer, New Delhi\\nJan, 2020\\n3194787',\n",
       " \"5\\nHighly recommended\\nIt's my first time to use iOS phone and I am loving my upgradation 😍😍 I love the color, I love the assebility of the phone....I need to learn more about its functionality, but as far as I have seen, it's quite easy and it has a lot of functions to work on, specially if you are a content writer or a blogger you get a lot of content creation platforms and they are really amazing.\\n\\nThis phone not only for good quality photography but a lot of other task too.😍💯\\nJimly Gogoi\\nCertified Buyer, Ahmedabad\\nMay, 2020\\n21542\",\n",
       " '5\\nSimply awesome\\nExcellent camera, good performance, no lag. The lcd display is also good.. but difference come when we watch movie in prime and Netflix, the colours are not vibrant.. as we see in amoled display.. and the charger in box is of 5 watts.. takes more than 3 hours to charge from 0 to 100.. so guys be prepare to buy 18 watts charger . Finally I am an android user, it was my first Iapple phone, I promise u guys the iOS is so smooth.. overall the phone is damn good.... close eyes to buy it.. thanks t...\\nREAD MORE\\nchaitanya kumar\\nCertified Buyer, Rajahmundry\\nJun, 2020\\n42692',\n",
       " '5\\nWorth every penny\\nIt’s been almost a month since I have been using this phone. I upgraded from an iPhone 8. The main issue with my 8 was battery and this phone is just awesome when it comes to battery. It lasts a day and a half for me with my regular use , internet connected always with 4g\\nCan’t move forward without saying this. Battery of this phone is a life saver when I am traveling or at work when I don’t get the option to charge\\nCamera is superb. Front cam selfies and back cam photos are just awesome.\\n...\\nREAD MORE\\nFlipkart Customer\\nCertified Buyer, Thiruvananthapuram\\nNov, 2019\\n2078542',\n",
       " '5\\nWorth every penny\\nSmooth like butter, camera like fantabulous, sound is crystal clear & its red color is damn attractive, i am just loving it. Must buy if you love photography.\\n\\nLucky to get it in sale, thank you Flipkart.\\nBiswa Das\\nCertified Buyer, Bilaspur\\n10 months ago\\n15731']"
      ]
     },
     "execution_count": 457,
     "metadata": {},
     "output_type": "execute_result"
    }
   ],
   "source": [
    "for i in review_tags:\n",
    "    reviews=i.text\n",
    "    review_summary.append(reviews)\n",
    "review_summary[0:100]"
   ]
  },
  {
   "cell_type": "code",
   "execution_count": 458,
   "id": "1f330d68",
   "metadata": {},
   "outputs": [
    {
     "data": {
      "text/plain": [
       "[<selenium.webdriver.remote.webelement.WebElement (session=\"b7932ea1c2260de25fe7bddf906f5172\", element=\"7e67d165-337b-4399-b45f-22b121338aa7\")>,\n",
       " <selenium.webdriver.remote.webelement.WebElement (session=\"b7932ea1c2260de25fe7bddf906f5172\", element=\"c9fa043a-29bc-44cd-835b-c3719065348e\")>,\n",
       " <selenium.webdriver.remote.webelement.WebElement (session=\"b7932ea1c2260de25fe7bddf906f5172\", element=\"26546c54-933a-4d9e-a76d-3def2e525460\")>,\n",
       " <selenium.webdriver.remote.webelement.WebElement (session=\"b7932ea1c2260de25fe7bddf906f5172\", element=\"eb203c8e-a8b9-490b-b3b3-17652a070019\")>,\n",
       " <selenium.webdriver.remote.webelement.WebElement (session=\"b7932ea1c2260de25fe7bddf906f5172\", element=\"1d666c18-8f4e-4919-9367-060180e8ad11\")>,\n",
       " <selenium.webdriver.remote.webelement.WebElement (session=\"b7932ea1c2260de25fe7bddf906f5172\", element=\"6feb27e0-303d-4e5e-98fc-ba1d6fcdaf07\")>,\n",
       " <selenium.webdriver.remote.webelement.WebElement (session=\"b7932ea1c2260de25fe7bddf906f5172\", element=\"a81fbd79-d202-41bf-b3d7-4a6b1b81656e\")>,\n",
       " <selenium.webdriver.remote.webelement.WebElement (session=\"b7932ea1c2260de25fe7bddf906f5172\", element=\"de42b0de-36ab-4aff-9c8d-b0cb63f11b0e\")>,\n",
       " <selenium.webdriver.remote.webelement.WebElement (session=\"b7932ea1c2260de25fe7bddf906f5172\", element=\"5692275e-c374-4596-b9d9-1b89679163bf\")>,\n",
       " <selenium.webdriver.remote.webelement.WebElement (session=\"b7932ea1c2260de25fe7bddf906f5172\", element=\"03627074-6295-4333-af08-1361fad0aa7e\")>]"
      ]
     },
     "execution_count": 458,
     "metadata": {},
     "output_type": "execute_result"
    }
   ],
   "source": [
    "full_tags=driver.find_elements_by_xpath(\"//div[@class='t-ZTKy']\")\n",
    "full_tags[0:10]"
   ]
  },
  {
   "cell_type": "code",
   "execution_count": 459,
   "id": "eb22c831",
   "metadata": {},
   "outputs": [
    {
     "data": {
      "text/plain": [
       "['What a camera .....just awesome ..you can feel this iPhone just awesome . Good for gaming also ...try pubg in hd it’s just wow',\n",
       " 'It’s a must buy who is looking for an upgrade from previous generation of iPhones. If you are using XR then still you can hold on for sometime and upgrade to 2020 model else this phone is a must buy . Camera quality is amazing and wide angle is something to count upon. Performance wise it’s amazing and feels premium while holding in hand. So a big YES for this device. Go for 128 GB variant as the 4K videos will occupy lots of space and the storage can get over very quickly. Try to buy it with...\\nREAD MORE',\n",
       " 'Value for money❤️❤️\\nIts awesome mobile phone in the world ...\\nDisplay was very good and bright ..\\nTrust me freinds you r never regret after Buying..\\nJust go for it....\\nI love this phone and i switch to iphone x to 11',\n",
       " 'Totally in love with this ❤ the camera quality is amazing just love it 😘😘😘 itsss dammnnnnnn amazing... Must buy iPhone 11 this is my best experience ever ☀👌👌🧡🧡🧡🧡🧡 thanku apple ❤',\n",
       " \"Iphone is just awesome.. battery backup is very very nice.. continuously for 10 hours we can use it.camera is just awesome.. display is just fab.i love it alot..i had to wait 15 days for it as i pre ordered it..overalll it's worth the price..these all images are clicked by my iPhone..and i love it.\",\n",
       " 'Best budget Iphone till date ❤️ go for it guys without second thought. Let me explain you guys about Camera, Display, battery, and performance.\\n\\nCamera: at this price range there is no comparison of camera, you’ll love the picture quality as well as video quality. I am a Vlogger I wanted an iPhone with 4k video by front camera and I got this phone and I am more than happy 😃\\n\\nBattery: I use this phone roughly as I am active social media person and I have a youtube channel. so the battery ba...\\nREAD MORE',\n",
       " \"It's my first time to use iOS phone and I am loving my upgradation 😍😍 I love the color, I love the assebility of the phone....I need to learn more about its functionality, but as far as I have seen, it's quite easy and it has a lot of functions to work on, specially if you are a content writer or a blogger you get a lot of content creation platforms and they are really amazing.\\n\\nThis phone not only for good quality photography but a lot of other task too.😍💯\",\n",
       " 'Excellent camera, good performance, no lag. The lcd display is also good.. but difference come when we watch movie in prime and Netflix, the colours are not vibrant.. as we see in amoled display.. and the charger in box is of 5 watts.. takes more than 3 hours to charge from 0 to 100.. so guys be prepare to buy 18 watts charger . Finally I am an android user, it was my first Iapple phone, I promise u guys the iOS is so smooth.. overall the phone is damn good.... close eyes to buy it.. thanks t...\\nREAD MORE',\n",
       " 'It’s been almost a month since I have been using this phone. I upgraded from an iPhone 8. The main issue with my 8 was battery and this phone is just awesome when it comes to battery. It lasts a day and a half for me with my regular use , internet connected always with 4g\\nCan’t move forward without saying this. Battery of this phone is a life saver when I am traveling or at work when I don’t get the option to charge\\nCamera is superb. Front cam selfies and back cam photos are just awesome.\\n...\\nREAD MORE',\n",
       " 'Smooth like butter, camera like fantabulous, sound is crystal clear & its red color is damn attractive, i am just loving it. Must buy if you love photography.\\n\\nLucky to get it in sale, thank you Flipkart.']"
      ]
     },
     "execution_count": 459,
     "metadata": {},
     "output_type": "execute_result"
    }
   ],
   "source": [
    "for i in full_tags:\n",
    "    fullreview=i.text\n",
    "    full_review.append(fullreview)\n",
    "full_review[0:100]"
   ]
  },
  {
   "cell_type": "code",
   "execution_count": null,
   "id": "d8bd0bc2",
   "metadata": {},
   "outputs": [],
   "source": [
    "#6th program"
   ]
  },
  {
   "cell_type": "code",
   "execution_count": 460,
   "id": "36853950",
   "metadata": {},
   "outputs": [],
   "source": [
    "driver = webdriver.Chrome(r\"C:/Users/Vidhya/Downloads/chromedriver_win32/chromedriver.exe\")"
   ]
  },
  {
   "cell_type": "code",
   "execution_count": 464,
   "id": "19fa6890",
   "metadata": {},
   "outputs": [],
   "source": [
    "url=\"https://www.flipkart.com/search?q=sneakers&otracker=search&otracker1=search&marketplace=FLIPKART&as-show=on&as=off\""
   ]
  },
  {
   "cell_type": "code",
   "execution_count": 466,
   "id": "2507dc74",
   "metadata": {},
   "outputs": [],
   "source": [
    "driver.get(url)"
   ]
  },
  {
   "cell_type": "code",
   "execution_count": 467,
   "id": "28deba7e",
   "metadata": {},
   "outputs": [],
   "source": [
    "brand=[]\n",
    "product_description=[]\n",
    "price=[]\n",
    "discount=[]"
   ]
  },
  {
   "cell_type": "code",
   "execution_count": 468,
   "id": "f6a3ab3b",
   "metadata": {},
   "outputs": [
    {
     "data": {
      "text/plain": [
       "[<selenium.webdriver.remote.webelement.WebElement (session=\"53914d893783f66eab9a93d35dde27e4\", element=\"25a2b7fc-564f-4c7a-8694-7c145c0eaea9\")>,\n",
       " <selenium.webdriver.remote.webelement.WebElement (session=\"53914d893783f66eab9a93d35dde27e4\", element=\"e3f75dfc-d617-4326-a692-d0ebb416bb23\")>,\n",
       " <selenium.webdriver.remote.webelement.WebElement (session=\"53914d893783f66eab9a93d35dde27e4\", element=\"53f4a579-0d49-4eeb-9d06-6608b1e857f6\")>,\n",
       " <selenium.webdriver.remote.webelement.WebElement (session=\"53914d893783f66eab9a93d35dde27e4\", element=\"f38c640f-37c0-44b5-b2b6-a35fc51a96e0\")>,\n",
       " <selenium.webdriver.remote.webelement.WebElement (session=\"53914d893783f66eab9a93d35dde27e4\", element=\"1c284dcb-78d1-43e4-bb13-f00e4529adff\")>,\n",
       " <selenium.webdriver.remote.webelement.WebElement (session=\"53914d893783f66eab9a93d35dde27e4\", element=\"70361a0a-a80e-4074-9e13-8dcb9dd1d823\")>,\n",
       " <selenium.webdriver.remote.webelement.WebElement (session=\"53914d893783f66eab9a93d35dde27e4\", element=\"d1d8397b-830f-4ff7-8803-f1c7de951cba\")>,\n",
       " <selenium.webdriver.remote.webelement.WebElement (session=\"53914d893783f66eab9a93d35dde27e4\", element=\"f8c3d20a-d088-4cad-97f6-587d9ee4dce1\")>,\n",
       " <selenium.webdriver.remote.webelement.WebElement (session=\"53914d893783f66eab9a93d35dde27e4\", element=\"65018c49-9314-4b1a-a7f4-2967d6789d85\")>,\n",
       " <selenium.webdriver.remote.webelement.WebElement (session=\"53914d893783f66eab9a93d35dde27e4\", element=\"ed14b355-7cdd-49bd-b140-c50965149423\")>,\n",
       " <selenium.webdriver.remote.webelement.WebElement (session=\"53914d893783f66eab9a93d35dde27e4\", element=\"123436dd-e87a-4da6-af0e-3db0b35b124f\")>,\n",
       " <selenium.webdriver.remote.webelement.WebElement (session=\"53914d893783f66eab9a93d35dde27e4\", element=\"e3357f3f-7ea8-4d07-8fc2-41403337f365\")>,\n",
       " <selenium.webdriver.remote.webelement.WebElement (session=\"53914d893783f66eab9a93d35dde27e4\", element=\"1674dabd-d7a4-4297-bf5c-1be7ba8e85d2\")>,\n",
       " <selenium.webdriver.remote.webelement.WebElement (session=\"53914d893783f66eab9a93d35dde27e4\", element=\"b43d5ed0-9018-4801-8065-d0b65c4d4b93\")>,\n",
       " <selenium.webdriver.remote.webelement.WebElement (session=\"53914d893783f66eab9a93d35dde27e4\", element=\"f1287385-e933-4f8c-baf4-03f6d9ba7914\")>,\n",
       " <selenium.webdriver.remote.webelement.WebElement (session=\"53914d893783f66eab9a93d35dde27e4\", element=\"f4528958-1b65-4c37-8363-bee522416fa8\")>,\n",
       " <selenium.webdriver.remote.webelement.WebElement (session=\"53914d893783f66eab9a93d35dde27e4\", element=\"63c3d009-55c4-43d0-ae4a-636f60a7c0bc\")>,\n",
       " <selenium.webdriver.remote.webelement.WebElement (session=\"53914d893783f66eab9a93d35dde27e4\", element=\"a7003c0e-7699-4a85-96b4-5655665c968c\")>,\n",
       " <selenium.webdriver.remote.webelement.WebElement (session=\"53914d893783f66eab9a93d35dde27e4\", element=\"ab6dc057-1577-43de-b8c7-ab39e6d240cd\")>,\n",
       " <selenium.webdriver.remote.webelement.WebElement (session=\"53914d893783f66eab9a93d35dde27e4\", element=\"58a907d2-f3b9-441e-9256-20256e743dae\")>,\n",
       " <selenium.webdriver.remote.webelement.WebElement (session=\"53914d893783f66eab9a93d35dde27e4\", element=\"7ffe61b5-f098-4a8a-aa08-2e87ccfe7638\")>,\n",
       " <selenium.webdriver.remote.webelement.WebElement (session=\"53914d893783f66eab9a93d35dde27e4\", element=\"fc2491b1-8bd4-4510-bd0d-94538d8ee52a\")>,\n",
       " <selenium.webdriver.remote.webelement.WebElement (session=\"53914d893783f66eab9a93d35dde27e4\", element=\"493d11c6-6fc0-43ef-9132-936f7cc1bb47\")>,\n",
       " <selenium.webdriver.remote.webelement.WebElement (session=\"53914d893783f66eab9a93d35dde27e4\", element=\"c76db407-bfb4-4f7d-a2f9-ce4174190267\")>,\n",
       " <selenium.webdriver.remote.webelement.WebElement (session=\"53914d893783f66eab9a93d35dde27e4\", element=\"6a8391c3-19a1-4598-a85c-f6167a717210\")>,\n",
       " <selenium.webdriver.remote.webelement.WebElement (session=\"53914d893783f66eab9a93d35dde27e4\", element=\"34330eba-3199-447a-aebc-fff01d350857\")>,\n",
       " <selenium.webdriver.remote.webelement.WebElement (session=\"53914d893783f66eab9a93d35dde27e4\", element=\"bed349b9-545d-477a-b145-36968b252878\")>,\n",
       " <selenium.webdriver.remote.webelement.WebElement (session=\"53914d893783f66eab9a93d35dde27e4\", element=\"2b06deaf-a0cb-43f8-8597-da34f064d31d\")>,\n",
       " <selenium.webdriver.remote.webelement.WebElement (session=\"53914d893783f66eab9a93d35dde27e4\", element=\"e9409f35-bf3f-49e2-ae3a-6ac3f1c1b172\")>,\n",
       " <selenium.webdriver.remote.webelement.WebElement (session=\"53914d893783f66eab9a93d35dde27e4\", element=\"75a568bf-42ec-4e87-987c-395d45b4a8af\")>,\n",
       " <selenium.webdriver.remote.webelement.WebElement (session=\"53914d893783f66eab9a93d35dde27e4\", element=\"b305c0fc-a7a3-42f3-abb8-1d218ffd230d\")>,\n",
       " <selenium.webdriver.remote.webelement.WebElement (session=\"53914d893783f66eab9a93d35dde27e4\", element=\"069f1c46-dc6a-465c-81f8-8d9a6ea7c1e0\")>,\n",
       " <selenium.webdriver.remote.webelement.WebElement (session=\"53914d893783f66eab9a93d35dde27e4\", element=\"e258c615-ba69-48df-8186-38f9157bdb9a\")>,\n",
       " <selenium.webdriver.remote.webelement.WebElement (session=\"53914d893783f66eab9a93d35dde27e4\", element=\"f2662db3-7252-4c38-bfa7-764862f0f48b\")>,\n",
       " <selenium.webdriver.remote.webelement.WebElement (session=\"53914d893783f66eab9a93d35dde27e4\", element=\"a9a6e236-74c5-4eb9-bf0f-167d208fdfc5\")>,\n",
       " <selenium.webdriver.remote.webelement.WebElement (session=\"53914d893783f66eab9a93d35dde27e4\", element=\"77bc9fee-8984-477e-bdf7-41a882794304\")>,\n",
       " <selenium.webdriver.remote.webelement.WebElement (session=\"53914d893783f66eab9a93d35dde27e4\", element=\"575b3092-9859-442d-a6a7-b01344c81e3e\")>,\n",
       " <selenium.webdriver.remote.webelement.WebElement (session=\"53914d893783f66eab9a93d35dde27e4\", element=\"41c1643d-1d54-422f-b699-b1a277d39b90\")>,\n",
       " <selenium.webdriver.remote.webelement.WebElement (session=\"53914d893783f66eab9a93d35dde27e4\", element=\"8ecd87ff-b93d-4207-8d68-05199abf8a53\")>,\n",
       " <selenium.webdriver.remote.webelement.WebElement (session=\"53914d893783f66eab9a93d35dde27e4\", element=\"acd78dd9-47ea-4d95-b5df-7a044ff8af50\")>]"
      ]
     },
     "execution_count": 468,
     "metadata": {},
     "output_type": "execute_result"
    }
   ],
   "source": [
    "brand_tags=driver.find_elements_by_xpath(\"//div[@class='_2WkVRV']\")\n",
    "brand_tags[0:40]"
   ]
  },
  {
   "cell_type": "code",
   "execution_count": 471,
   "id": "d9ac865f",
   "metadata": {},
   "outputs": [
    {
     "data": {
      "text/plain": [
       "['ALICON',\n",
       " 'Echor',\n",
       " 'BIRDE',\n",
       " 'URBANBOX',\n",
       " 'BRUTON',\n",
       " 'Edoeviv',\n",
       " 'RapidBox',\n",
       " 'SneakerVilla',\n",
       " 'Chevit',\n",
       " 'Rzisbo',\n",
       " 'T-ROCK',\n",
       " 'gargcreation',\n",
       " 'Magnolia',\n",
       " 'Numenzo',\n",
       " 'Shoes Bank',\n",
       " 'Baogi',\n",
       " 'ganpati traders',\n",
       " 'SCATCHITE',\n",
       " 'Numenzo',\n",
       " 'Echor',\n",
       " 'URBANBOX',\n",
       " 'Chevit',\n",
       " 'Clymb',\n",
       " 'Bonexy',\n",
       " 'Kraasa',\n",
       " 'PACIFIER',\n",
       " 'Robbie jones',\n",
       " 'Vedboy',\n",
       " 'BIRDE',\n",
       " 'Chevit',\n",
       " 'BIRDE',\n",
       " 'PUMA',\n",
       " 'HOTSTYLE',\n",
       " 'Chevit',\n",
       " 'ASTEROID',\n",
       " 'ROCKFIELD',\n",
       " 'Extoes',\n",
       " 'RODDICK SHOES',\n",
       " 'Zsyto',\n",
       " 'Clymb',\n",
       " 'ALICON',\n",
       " 'Echor',\n",
       " 'BIRDE',\n",
       " 'URBANBOX',\n",
       " 'BRUTON',\n",
       " 'Edoeviv',\n",
       " 'RapidBox',\n",
       " 'SneakerVilla',\n",
       " 'Chevit',\n",
       " 'Rzisbo',\n",
       " 'T-ROCK',\n",
       " 'gargcreation',\n",
       " 'Magnolia',\n",
       " 'Numenzo',\n",
       " 'Shoes Bank',\n",
       " 'Baogi',\n",
       " 'ganpati traders',\n",
       " 'SCATCHITE',\n",
       " 'Numenzo',\n",
       " 'Echor',\n",
       " 'URBANBOX',\n",
       " 'Chevit',\n",
       " 'Clymb',\n",
       " 'Bonexy',\n",
       " 'Kraasa',\n",
       " 'PACIFIER',\n",
       " 'Robbie jones',\n",
       " 'Vedboy',\n",
       " 'BIRDE',\n",
       " 'Chevit',\n",
       " 'BIRDE',\n",
       " 'PUMA',\n",
       " 'HOTSTYLE',\n",
       " 'Chevit',\n",
       " 'ASTEROID',\n",
       " 'ROCKFIELD',\n",
       " 'Extoes',\n",
       " 'RODDICK SHOES',\n",
       " 'Zsyto',\n",
       " 'Clymb',\n",
       " 'ALICON',\n",
       " 'Echor',\n",
       " 'BIRDE',\n",
       " 'URBANBOX',\n",
       " 'BRUTON',\n",
       " 'Edoeviv',\n",
       " 'RapidBox',\n",
       " 'SneakerVilla',\n",
       " 'Chevit',\n",
       " 'Rzisbo',\n",
       " 'T-ROCK',\n",
       " 'gargcreation',\n",
       " 'Magnolia',\n",
       " 'Numenzo',\n",
       " 'Shoes Bank',\n",
       " 'Baogi',\n",
       " 'ganpati traders',\n",
       " 'SCATCHITE',\n",
       " 'Numenzo',\n",
       " 'Echor']"
      ]
     },
     "execution_count": 471,
     "metadata": {},
     "output_type": "execute_result"
    }
   ],
   "source": [
    "for i in brand_tags:\n",
    "    brands=i.text\n",
    "    brand.append(brands)\n",
    "brand[0:100]"
   ]
  },
  {
   "cell_type": "code",
   "execution_count": 479,
   "id": "bd311f22",
   "metadata": {},
   "outputs": [
    {
     "data": {
      "text/plain": [
       "[<selenium.webdriver.remote.webelement.WebElement (session=\"53914d893783f66eab9a93d35dde27e4\", element=\"024b96fd-e222-4fb2-af55-4e273f3be7e3\")>,\n",
       " <selenium.webdriver.remote.webelement.WebElement (session=\"53914d893783f66eab9a93d35dde27e4\", element=\"25a04655-f9f8-444f-bfb9-6561e62af2ce\")>,\n",
       " <selenium.webdriver.remote.webelement.WebElement (session=\"53914d893783f66eab9a93d35dde27e4\", element=\"a8266f87-7931-4399-88c5-9cb0c1a92ce4\")>,\n",
       " <selenium.webdriver.remote.webelement.WebElement (session=\"53914d893783f66eab9a93d35dde27e4\", element=\"09cd37c5-f596-4a9a-921d-6575adb61a34\")>,\n",
       " <selenium.webdriver.remote.webelement.WebElement (session=\"53914d893783f66eab9a93d35dde27e4\", element=\"b28612bf-be77-4dea-9426-4bae894e96bd\")>,\n",
       " <selenium.webdriver.remote.webelement.WebElement (session=\"53914d893783f66eab9a93d35dde27e4\", element=\"f5808e9e-d1b6-4952-bd33-b2ceedf7faac\")>,\n",
       " <selenium.webdriver.remote.webelement.WebElement (session=\"53914d893783f66eab9a93d35dde27e4\", element=\"fd930cf6-26c6-4538-9a34-7b0f51c45fec\")>,\n",
       " <selenium.webdriver.remote.webelement.WebElement (session=\"53914d893783f66eab9a93d35dde27e4\", element=\"1841c99f-bf33-4016-9472-d9914de52b56\")>]"
      ]
     },
     "execution_count": 479,
     "metadata": {},
     "output_type": "execute_result"
    }
   ],
   "source": [
    "description_tags=driver.find_elements_by_xpath(\"//a[@class='IRpwTa _2-ICcC']\")\n",
    "description_tags[0:40]"
   ]
  },
  {
   "cell_type": "code",
   "execution_count": 481,
   "id": "f6b3e6c1",
   "metadata": {},
   "outputs": [
    {
     "data": {
      "text/plain": [
       "['Sneakers For Men',\n",
       " 'Sneakers Sneakers For Men',\n",
       " 'Sneakers For Men',\n",
       " 'Sneakers For Men',\n",
       " 'Sneakers For Men',\n",
       " 'STYLISH-WHITE-9 Sneakers For Men',\n",
       " 'Sneakers For Men',\n",
       " 'Sneakers For Men',\n",
       " 'Sneakers For Men',\n",
       " 'Sneakers Sneakers For Men',\n",
       " 'Sneakers For Men',\n",
       " 'Sneakers For Men',\n",
       " 'Sneakers For Men',\n",
       " 'STYLISH-WHITE-9 Sneakers For Men',\n",
       " 'Sneakers For Men',\n",
       " 'Sneakers For Men',\n",
       " 'Sneakers For Men',\n",
       " 'Sneakers Sneakers For Men',\n",
       " 'Sneakers For Men',\n",
       " 'Sneakers For Men',\n",
       " 'Sneakers For Men',\n",
       " 'STYLISH-WHITE-9 Sneakers For Men',\n",
       " 'Sneakers For Men',\n",
       " 'Sneakers For Men',\n",
       " 'Sneakers For Men',\n",
       " 'Sneakers Sneakers For Men',\n",
       " 'Sneakers For Men',\n",
       " 'Sneakers For Men',\n",
       " 'Sneakers For Men',\n",
       " 'STYLISH-WHITE-9 Sneakers For Men',\n",
       " 'Sneakers For Men',\n",
       " 'Sneakers For Men',\n",
       " 'Sneakers For Men',\n",
       " 'Sneakers Sneakers For Men',\n",
       " 'Sneakers For Men',\n",
       " 'Sneakers For Men',\n",
       " 'Sneakers For Men',\n",
       " 'STYLISH-WHITE-9 Sneakers For Men',\n",
       " 'Sneakers For Men',\n",
       " 'Sneakers For Men',\n",
       " 'Sneakers For Men',\n",
       " 'Sneakers Sneakers For Men',\n",
       " 'Sneakers For Men',\n",
       " 'Sneakers For Men',\n",
       " 'Sneakers For Men',\n",
       " 'STYLISH-WHITE-9 Sneakers For Men',\n",
       " 'Sneakers For Men',\n",
       " 'Sneakers For Men']"
      ]
     },
     "execution_count": 481,
     "metadata": {},
     "output_type": "execute_result"
    }
   ],
   "source": [
    "for i in description_tags:\n",
    "    descriptions=i.text\n",
    "    product_description.append(descriptions)\n",
    "product_description[0:100]"
   ]
  },
  {
   "cell_type": "code",
   "execution_count": 482,
   "id": "a452740f",
   "metadata": {
    "scrolled": true
   },
   "outputs": [
    {
     "data": {
      "text/plain": [
       "[<selenium.webdriver.remote.webelement.WebElement (session=\"53914d893783f66eab9a93d35dde27e4\", element=\"111af025-3574-4fb6-8f23-bc52b2ecc3d3\")>,\n",
       " <selenium.webdriver.remote.webelement.WebElement (session=\"53914d893783f66eab9a93d35dde27e4\", element=\"782e333c-a6cb-4ebd-bba3-7f6ffc4b3c87\")>,\n",
       " <selenium.webdriver.remote.webelement.WebElement (session=\"53914d893783f66eab9a93d35dde27e4\", element=\"11480f8f-924a-4a97-a4e7-1f7c540ba9c9\")>,\n",
       " <selenium.webdriver.remote.webelement.WebElement (session=\"53914d893783f66eab9a93d35dde27e4\", element=\"470e32d2-9f94-4d2f-a28e-6ae867ebaf52\")>,\n",
       " <selenium.webdriver.remote.webelement.WebElement (session=\"53914d893783f66eab9a93d35dde27e4\", element=\"3f166b69-dcf5-44f5-8394-efaee1e16d23\")>,\n",
       " <selenium.webdriver.remote.webelement.WebElement (session=\"53914d893783f66eab9a93d35dde27e4\", element=\"e716f035-ee85-449b-868a-117dcd783fb2\")>,\n",
       " <selenium.webdriver.remote.webelement.WebElement (session=\"53914d893783f66eab9a93d35dde27e4\", element=\"44086daf-1ce9-4e24-a41e-b68b69026ccd\")>,\n",
       " <selenium.webdriver.remote.webelement.WebElement (session=\"53914d893783f66eab9a93d35dde27e4\", element=\"4bdb8312-4d13-4d88-94db-0162a21dccaf\")>,\n",
       " <selenium.webdriver.remote.webelement.WebElement (session=\"53914d893783f66eab9a93d35dde27e4\", element=\"11a60545-9ada-4b99-87b2-7fcc500252ae\")>,\n",
       " <selenium.webdriver.remote.webelement.WebElement (session=\"53914d893783f66eab9a93d35dde27e4\", element=\"4b018b75-d570-4dec-961f-234e09fabe73\")>,\n",
       " <selenium.webdriver.remote.webelement.WebElement (session=\"53914d893783f66eab9a93d35dde27e4\", element=\"061d79a8-cea7-428a-aca3-0631a2f4ec42\")>,\n",
       " <selenium.webdriver.remote.webelement.WebElement (session=\"53914d893783f66eab9a93d35dde27e4\", element=\"75fea8db-3560-4e37-b43e-694d83d02d2f\")>,\n",
       " <selenium.webdriver.remote.webelement.WebElement (session=\"53914d893783f66eab9a93d35dde27e4\", element=\"d8bc1f7b-1f96-42b3-8f56-c8cbafcbfd14\")>,\n",
       " <selenium.webdriver.remote.webelement.WebElement (session=\"53914d893783f66eab9a93d35dde27e4\", element=\"29a321f1-ccd4-4d46-a94f-33d6dc4ddbcb\")>,\n",
       " <selenium.webdriver.remote.webelement.WebElement (session=\"53914d893783f66eab9a93d35dde27e4\", element=\"9cdbe942-594b-461b-9ed5-2de3d24f1f0a\")>,\n",
       " <selenium.webdriver.remote.webelement.WebElement (session=\"53914d893783f66eab9a93d35dde27e4\", element=\"4af04064-3a7e-4783-94ac-8cf74537c535\")>,\n",
       " <selenium.webdriver.remote.webelement.WebElement (session=\"53914d893783f66eab9a93d35dde27e4\", element=\"5bb34884-0099-4750-bbb4-434e5de7f4a5\")>,\n",
       " <selenium.webdriver.remote.webelement.WebElement (session=\"53914d893783f66eab9a93d35dde27e4\", element=\"fd086542-efe1-4909-99d1-07adf51b3934\")>,\n",
       " <selenium.webdriver.remote.webelement.WebElement (session=\"53914d893783f66eab9a93d35dde27e4\", element=\"63d60520-fa5e-4e8f-972a-7451c8020de6\")>,\n",
       " <selenium.webdriver.remote.webelement.WebElement (session=\"53914d893783f66eab9a93d35dde27e4\", element=\"291686b4-5de5-4294-aeac-6b0a2b46ef72\")>,\n",
       " <selenium.webdriver.remote.webelement.WebElement (session=\"53914d893783f66eab9a93d35dde27e4\", element=\"99d49831-e828-4a50-893c-8295fd6e06e1\")>,\n",
       " <selenium.webdriver.remote.webelement.WebElement (session=\"53914d893783f66eab9a93d35dde27e4\", element=\"fb61b278-0f9e-4bc7-871b-fcaa3b6915d8\")>,\n",
       " <selenium.webdriver.remote.webelement.WebElement (session=\"53914d893783f66eab9a93d35dde27e4\", element=\"7fe011ad-3305-4750-be73-b515e25bb152\")>,\n",
       " <selenium.webdriver.remote.webelement.WebElement (session=\"53914d893783f66eab9a93d35dde27e4\", element=\"c9d6b872-611b-4cb6-95fd-2ae13cfc6066\")>,\n",
       " <selenium.webdriver.remote.webelement.WebElement (session=\"53914d893783f66eab9a93d35dde27e4\", element=\"6468a261-caa4-48fb-809d-68ca861cff0d\")>,\n",
       " <selenium.webdriver.remote.webelement.WebElement (session=\"53914d893783f66eab9a93d35dde27e4\", element=\"455fd461-d47d-4014-9741-357ae90ca99c\")>,\n",
       " <selenium.webdriver.remote.webelement.WebElement (session=\"53914d893783f66eab9a93d35dde27e4\", element=\"b7a6b0cc-6bbd-4d3a-96ae-4d9e431318a5\")>,\n",
       " <selenium.webdriver.remote.webelement.WebElement (session=\"53914d893783f66eab9a93d35dde27e4\", element=\"553f3e41-7f0b-439a-b444-a0cc72aed4a6\")>,\n",
       " <selenium.webdriver.remote.webelement.WebElement (session=\"53914d893783f66eab9a93d35dde27e4\", element=\"4e29db2e-9606-4ba7-b4ac-afabb9aae9d7\")>,\n",
       " <selenium.webdriver.remote.webelement.WebElement (session=\"53914d893783f66eab9a93d35dde27e4\", element=\"8d93b552-13e2-4005-b9d4-f750a21a9fb6\")>,\n",
       " <selenium.webdriver.remote.webelement.WebElement (session=\"53914d893783f66eab9a93d35dde27e4\", element=\"5866826a-4e50-4543-9170-83db34b28ec5\")>,\n",
       " <selenium.webdriver.remote.webelement.WebElement (session=\"53914d893783f66eab9a93d35dde27e4\", element=\"6af56ee2-7d6c-4a59-a5f7-8f64b38b273a\")>,\n",
       " <selenium.webdriver.remote.webelement.WebElement (session=\"53914d893783f66eab9a93d35dde27e4\", element=\"44e98791-a3cd-4dbe-b6c4-bf28e256a919\")>,\n",
       " <selenium.webdriver.remote.webelement.WebElement (session=\"53914d893783f66eab9a93d35dde27e4\", element=\"f8d2e9af-dcaf-4143-9423-1bed92df6e3f\")>,\n",
       " <selenium.webdriver.remote.webelement.WebElement (session=\"53914d893783f66eab9a93d35dde27e4\", element=\"432f2d35-6997-43c8-bc47-6fd262e61326\")>,\n",
       " <selenium.webdriver.remote.webelement.WebElement (session=\"53914d893783f66eab9a93d35dde27e4\", element=\"601f2d6e-e713-49f2-8ab4-a274f589a74d\")>,\n",
       " <selenium.webdriver.remote.webelement.WebElement (session=\"53914d893783f66eab9a93d35dde27e4\", element=\"79b6e3ec-8d90-4b81-ae3d-7d79a5ada31f\")>,\n",
       " <selenium.webdriver.remote.webelement.WebElement (session=\"53914d893783f66eab9a93d35dde27e4\", element=\"cb4b1341-3fc6-4a44-8a4a-4436ffb15702\")>,\n",
       " <selenium.webdriver.remote.webelement.WebElement (session=\"53914d893783f66eab9a93d35dde27e4\", element=\"753f472c-61e8-4969-8c4a-80f20aacfcce\")>,\n",
       " <selenium.webdriver.remote.webelement.WebElement (session=\"53914d893783f66eab9a93d35dde27e4\", element=\"80c7f44b-85dc-4f1a-9bf9-d38984ff0654\")>]"
      ]
     },
     "execution_count": 482,
     "metadata": {},
     "output_type": "execute_result"
    }
   ],
   "source": [
    "price_tags=driver.find_elements_by_xpath(\"//div[@class='_30jeq3']\")\n",
    "price_tags[0:40]"
   ]
  },
  {
   "cell_type": "code",
   "execution_count": 487,
   "id": "18dce35d",
   "metadata": {},
   "outputs": [
    {
     "data": {
      "text/plain": [
       "['₹472',\n",
       " '₹499',\n",
       " '₹299',\n",
       " '₹220',\n",
       " '₹299',\n",
       " '₹499',\n",
       " '₹680',\n",
       " '₹499',\n",
       " '₹729',\n",
       " '₹549',\n",
       " '₹379',\n",
       " '₹259',\n",
       " '₹398',\n",
       " '₹479',\n",
       " '₹331',\n",
       " '₹499',\n",
       " '₹183',\n",
       " '₹398',\n",
       " '₹499',\n",
       " '₹499',\n",
       " '₹220',\n",
       " '₹769',\n",
       " '₹649',\n",
       " '₹499',\n",
       " '₹444',\n",
       " '₹499',\n",
       " '₹451',\n",
       " '₹449',\n",
       " '₹422',\n",
       " '₹299',\n",
       " '₹311',\n",
       " '₹1,600',\n",
       " '₹198',\n",
       " '₹509',\n",
       " '₹474',\n",
       " '₹499',\n",
       " '₹898',\n",
       " '₹499',\n",
       " '₹418',\n",
       " '₹259',\n",
       " '₹472',\n",
       " '₹499',\n",
       " '₹299',\n",
       " '₹220',\n",
       " '₹299',\n",
       " '₹499',\n",
       " '₹680',\n",
       " '₹499',\n",
       " '₹729',\n",
       " '₹549',\n",
       " '₹379',\n",
       " '₹259',\n",
       " '₹398',\n",
       " '₹479',\n",
       " '₹331',\n",
       " '₹499',\n",
       " '₹183',\n",
       " '₹398',\n",
       " '₹499',\n",
       " '₹499',\n",
       " '₹220',\n",
       " '₹769',\n",
       " '₹649',\n",
       " '₹499',\n",
       " '₹444',\n",
       " '₹499',\n",
       " '₹451',\n",
       " '₹449',\n",
       " '₹422',\n",
       " '₹299',\n",
       " '₹311',\n",
       " '₹1,600',\n",
       " '₹198',\n",
       " '₹509',\n",
       " '₹474',\n",
       " '₹499',\n",
       " '₹898',\n",
       " '₹499',\n",
       " '₹418',\n",
       " '₹259']"
      ]
     },
     "execution_count": 487,
     "metadata": {},
     "output_type": "execute_result"
    }
   ],
   "source": [
    "for i in price_tags:\n",
    "    prices=i.text\n",
    "    price.append(prices)\n",
    "price[0:100]"
   ]
  },
  {
   "cell_type": "code",
   "execution_count": 484,
   "id": "f72e0e96",
   "metadata": {},
   "outputs": [
    {
     "data": {
      "text/plain": [
       "[<selenium.webdriver.remote.webelement.WebElement (session=\"53914d893783f66eab9a93d35dde27e4\", element=\"87794f06-17cb-4cb3-9054-83797014a210\")>,\n",
       " <selenium.webdriver.remote.webelement.WebElement (session=\"53914d893783f66eab9a93d35dde27e4\", element=\"a7dfdeaa-f0e0-4229-8a20-6f7e66dcde39\")>,\n",
       " <selenium.webdriver.remote.webelement.WebElement (session=\"53914d893783f66eab9a93d35dde27e4\", element=\"d3651a27-dc1a-46ca-a9f2-87d94ac187e9\")>,\n",
       " <selenium.webdriver.remote.webelement.WebElement (session=\"53914d893783f66eab9a93d35dde27e4\", element=\"c15ad2ac-7f04-4983-8f59-3877038758c8\")>,\n",
       " <selenium.webdriver.remote.webelement.WebElement (session=\"53914d893783f66eab9a93d35dde27e4\", element=\"107a00ed-5736-4df8-b64a-f314e543a06c\")>,\n",
       " <selenium.webdriver.remote.webelement.WebElement (session=\"53914d893783f66eab9a93d35dde27e4\", element=\"cc64b888-e2f7-4845-8731-83faa43ee1e8\")>,\n",
       " <selenium.webdriver.remote.webelement.WebElement (session=\"53914d893783f66eab9a93d35dde27e4\", element=\"63849a2f-0a5e-4352-ba51-415bd3746fee\")>,\n",
       " <selenium.webdriver.remote.webelement.WebElement (session=\"53914d893783f66eab9a93d35dde27e4\", element=\"8282c613-cbaf-4f91-af24-f39de66682c0\")>,\n",
       " <selenium.webdriver.remote.webelement.WebElement (session=\"53914d893783f66eab9a93d35dde27e4\", element=\"c7b48e93-ce46-4eff-8c82-5c05efae646a\")>,\n",
       " <selenium.webdriver.remote.webelement.WebElement (session=\"53914d893783f66eab9a93d35dde27e4\", element=\"c5f039a3-33e0-43e0-a35c-c2303059fcfc\")>,\n",
       " <selenium.webdriver.remote.webelement.WebElement (session=\"53914d893783f66eab9a93d35dde27e4\", element=\"d787e23c-515c-401f-8242-e20d1b85fd53\")>,\n",
       " <selenium.webdriver.remote.webelement.WebElement (session=\"53914d893783f66eab9a93d35dde27e4\", element=\"50b15c47-14ce-4e63-8d87-f7927af9466b\")>,\n",
       " <selenium.webdriver.remote.webelement.WebElement (session=\"53914d893783f66eab9a93d35dde27e4\", element=\"7aa0d2ff-251c-4287-89fc-32039a2eb2b4\")>,\n",
       " <selenium.webdriver.remote.webelement.WebElement (session=\"53914d893783f66eab9a93d35dde27e4\", element=\"f97f0a3b-0ed9-4c9c-a373-1cd066dca8c9\")>,\n",
       " <selenium.webdriver.remote.webelement.WebElement (session=\"53914d893783f66eab9a93d35dde27e4\", element=\"402af823-d9bd-4a83-8493-9127c520ed87\")>,\n",
       " <selenium.webdriver.remote.webelement.WebElement (session=\"53914d893783f66eab9a93d35dde27e4\", element=\"fdd4fab6-4be9-449e-851f-10ef9fc5a847\")>,\n",
       " <selenium.webdriver.remote.webelement.WebElement (session=\"53914d893783f66eab9a93d35dde27e4\", element=\"34e892b3-24e6-46d8-a65c-7f152832bdd4\")>,\n",
       " <selenium.webdriver.remote.webelement.WebElement (session=\"53914d893783f66eab9a93d35dde27e4\", element=\"f3197671-fcd9-44bd-8f38-470a77463a4f\")>,\n",
       " <selenium.webdriver.remote.webelement.WebElement (session=\"53914d893783f66eab9a93d35dde27e4\", element=\"124621d2-2093-4df7-b681-87805b45602b\")>,\n",
       " <selenium.webdriver.remote.webelement.WebElement (session=\"53914d893783f66eab9a93d35dde27e4\", element=\"bf6d996f-3a77-450b-b026-7f519d82ecb7\")>,\n",
       " <selenium.webdriver.remote.webelement.WebElement (session=\"53914d893783f66eab9a93d35dde27e4\", element=\"b130415e-55c7-478e-8b2c-00c21ead053d\")>,\n",
       " <selenium.webdriver.remote.webelement.WebElement (session=\"53914d893783f66eab9a93d35dde27e4\", element=\"340bd9de-dafd-4ceb-a3ad-cb8112cdd4b3\")>,\n",
       " <selenium.webdriver.remote.webelement.WebElement (session=\"53914d893783f66eab9a93d35dde27e4\", element=\"d3de04c0-24a8-40fa-a6f3-2be7d854a3c5\")>,\n",
       " <selenium.webdriver.remote.webelement.WebElement (session=\"53914d893783f66eab9a93d35dde27e4\", element=\"29a7cb62-ee8f-4fe9-baf1-4790ef0ec603\")>,\n",
       " <selenium.webdriver.remote.webelement.WebElement (session=\"53914d893783f66eab9a93d35dde27e4\", element=\"4d908cde-e13c-4fbd-93d4-ccc8621bd5aa\")>,\n",
       " <selenium.webdriver.remote.webelement.WebElement (session=\"53914d893783f66eab9a93d35dde27e4\", element=\"0695956b-cdbf-49ac-9cbb-58a6c9bcd57a\")>,\n",
       " <selenium.webdriver.remote.webelement.WebElement (session=\"53914d893783f66eab9a93d35dde27e4\", element=\"91a581d2-7d22-4652-b69e-3ec98501acc1\")>,\n",
       " <selenium.webdriver.remote.webelement.WebElement (session=\"53914d893783f66eab9a93d35dde27e4\", element=\"372298f4-cd1b-46f9-986b-e77ec48b90c5\")>,\n",
       " <selenium.webdriver.remote.webelement.WebElement (session=\"53914d893783f66eab9a93d35dde27e4\", element=\"72fc0ed9-63b5-4ece-b643-1f78d878d4a1\")>,\n",
       " <selenium.webdriver.remote.webelement.WebElement (session=\"53914d893783f66eab9a93d35dde27e4\", element=\"c73f9037-06ed-4064-b530-31657762afe6\")>,\n",
       " <selenium.webdriver.remote.webelement.WebElement (session=\"53914d893783f66eab9a93d35dde27e4\", element=\"2d00543c-20e2-4e1e-b1d3-b56246a33e90\")>,\n",
       " <selenium.webdriver.remote.webelement.WebElement (session=\"53914d893783f66eab9a93d35dde27e4\", element=\"4b585a29-2358-4b47-8ca3-974477217d64\")>,\n",
       " <selenium.webdriver.remote.webelement.WebElement (session=\"53914d893783f66eab9a93d35dde27e4\", element=\"b6c57a21-57e4-4635-b8bf-e1b868b6e4a4\")>,\n",
       " <selenium.webdriver.remote.webelement.WebElement (session=\"53914d893783f66eab9a93d35dde27e4\", element=\"7f6d97fe-8a98-4a02-b958-fea61f2aeb65\")>,\n",
       " <selenium.webdriver.remote.webelement.WebElement (session=\"53914d893783f66eab9a93d35dde27e4\", element=\"8a789146-4d29-4186-8d11-4b0159a672ba\")>,\n",
       " <selenium.webdriver.remote.webelement.WebElement (session=\"53914d893783f66eab9a93d35dde27e4\", element=\"497d9e3d-019e-4e40-b168-feb963dde2ea\")>,\n",
       " <selenium.webdriver.remote.webelement.WebElement (session=\"53914d893783f66eab9a93d35dde27e4\", element=\"a7e4c038-0c3f-4e1e-9f63-786e3c25139f\")>,\n",
       " <selenium.webdriver.remote.webelement.WebElement (session=\"53914d893783f66eab9a93d35dde27e4\", element=\"c668f871-84ab-478f-ab7d-cee8a5ab1541\")>,\n",
       " <selenium.webdriver.remote.webelement.WebElement (session=\"53914d893783f66eab9a93d35dde27e4\", element=\"02d71ceb-947c-4e84-b7df-a049f3873cb5\")>,\n",
       " <selenium.webdriver.remote.webelement.WebElement (session=\"53914d893783f66eab9a93d35dde27e4\", element=\"5a77a6bb-0748-4aef-bcdc-33272213bc6c\")>]"
      ]
     },
     "execution_count": 484,
     "metadata": {},
     "output_type": "execute_result"
    }
   ],
   "source": [
    "discount_tags=driver.find_elements_by_xpath(\"//div[@class='_3Ay6Sb']\")\n",
    "discount_tags[0:40]"
   ]
  },
  {
   "cell_type": "code",
   "execution_count": 486,
   "id": "1b318fea",
   "metadata": {},
   "outputs": [
    {
     "data": {
      "text/plain": [
       "['68% off',\n",
       " '66% off',\n",
       " '40% off',\n",
       " '77% off',\n",
       " '76% off',\n",
       " '37% off',\n",
       " '31% off',\n",
       " '58% off',\n",
       " '54% off',\n",
       " '45% off',\n",
       " '62% off',\n",
       " '56% off',\n",
       " '60% off',\n",
       " '63% off',\n",
       " '66% off',\n",
       " '66% off',\n",
       " '63% off',\n",
       " '60% off',\n",
       " '75% off',\n",
       " '66% off',\n",
       " '55% off',\n",
       " '61% off',\n",
       " '56% off',\n",
       " '50% off',\n",
       " '55% off',\n",
       " '57% off',\n",
       " '54% off',\n",
       " '35% off',\n",
       " '57% off',\n",
       " '62% off',\n",
       " '68% off',\n",
       " '59% off',\n",
       " '60% off',\n",
       " '66% off',\n",
       " '76% off',\n",
       " '50% off',\n",
       " '40% off',\n",
       " '50% off',\n",
       " '58% off',\n",
       " '74% off',\n",
       " '68% off',\n",
       " '66% off',\n",
       " '40% off',\n",
       " '77% off',\n",
       " '76% off',\n",
       " '37% off',\n",
       " '31% off',\n",
       " '58% off',\n",
       " '54% off',\n",
       " '45% off',\n",
       " '62% off',\n",
       " '56% off',\n",
       " '60% off',\n",
       " '63% off',\n",
       " '66% off',\n",
       " '66% off',\n",
       " '63% off',\n",
       " '60% off',\n",
       " '75% off',\n",
       " '66% off',\n",
       " '55% off',\n",
       " '61% off',\n",
       " '56% off',\n",
       " '50% off',\n",
       " '55% off',\n",
       " '57% off',\n",
       " '54% off',\n",
       " '35% off',\n",
       " '57% off',\n",
       " '62% off',\n",
       " '68% off',\n",
       " '59% off',\n",
       " '60% off',\n",
       " '66% off',\n",
       " '76% off',\n",
       " '50% off',\n",
       " '40% off',\n",
       " '50% off',\n",
       " '58% off',\n",
       " '74% off']"
      ]
     },
     "execution_count": 486,
     "metadata": {},
     "output_type": "execute_result"
    }
   ],
   "source": [
    "for i in discount_tags:\n",
    "    discounts=i.text\n",
    "    discount.append(discounts)\n",
    "discount[0:100]"
   ]
  },
  {
   "cell_type": "code",
   "execution_count": null,
   "id": "74f16e8f",
   "metadata": {},
   "outputs": [],
   "source": [
    "#7th program"
   ]
  },
  {
   "cell_type": "code",
   "execution_count": 697,
   "id": "418be2c0",
   "metadata": {},
   "outputs": [],
   "source": [
    "driver = webdriver.Chrome(r\"C:/Users/Vidhya/Downloads/chromedriver_win32/chromedriver.exe\")"
   ]
  },
  {
   "cell_type": "code",
   "execution_count": 698,
   "id": "66adb36e",
   "metadata": {},
   "outputs": [],
   "source": [
    "url=\"https://www.myntra.com/shoes\""
   ]
  },
  {
   "cell_type": "code",
   "execution_count": 699,
   "id": "af9f8e59",
   "metadata": {},
   "outputs": [],
   "source": [
    "driver.get(url)"
   ]
  },
  {
   "cell_type": "code",
   "execution_count": 701,
   "id": "f633a4a8",
   "metadata": {},
   "outputs": [],
   "source": [
    "filter_sneakers=driver.find_elements_by_xpath(\"/html/body/div[2]/div/div[1]/main/div[3]/div[1]/section/div/div[5]/ul/li[2]/label\")\n",
    "#filter_sneakers.send_keys(\"Rs.6099 to Rs.11999\")\n",
    "filter_sneakers=driver.find_elements_by_xpath(\"/html/body/div[2]/div/div[1]/main/div[3]/div[1]/section/div/div[6]/ul/li[1]/label\")\n",
    "#filter_sneakers.send_keys(\"Black\")"
   ]
  },
  {
   "cell_type": "code",
   "execution_count": 498,
   "id": "5d5c1120",
   "metadata": {},
   "outputs": [],
   "source": [
    "price=[]\n",
    "color=[]"
   ]
  },
  {
   "cell_type": "code",
   "execution_count": 703,
   "id": "d466b1c3",
   "metadata": {},
   "outputs": [
    {
     "data": {
      "text/plain": [
       "[<selenium.webdriver.remote.webelement.WebElement (session=\"d9471d54785a31be37915f516a63528e\", element=\"7816fa1f-9cfe-46dc-8b1b-aafecf26888a\")>,\n",
       " <selenium.webdriver.remote.webelement.WebElement (session=\"d9471d54785a31be37915f516a63528e\", element=\"bb1b01c4-442c-4a81-8735-e3adb4ee412c\")>,\n",
       " <selenium.webdriver.remote.webelement.WebElement (session=\"d9471d54785a31be37915f516a63528e\", element=\"d3b255cc-1f90-4007-868d-9085296bc878\")>,\n",
       " <selenium.webdriver.remote.webelement.WebElement (session=\"d9471d54785a31be37915f516a63528e\", element=\"62efa5c7-0913-4d56-999d-e0d00e13bcfe\")>,\n",
       " <selenium.webdriver.remote.webelement.WebElement (session=\"d9471d54785a31be37915f516a63528e\", element=\"ac7181c9-021f-4362-b321-6724bee51809\")>,\n",
       " <selenium.webdriver.remote.webelement.WebElement (session=\"d9471d54785a31be37915f516a63528e\", element=\"8e401f57-a170-460d-b2ed-c99fa4a45aab\")>,\n",
       " <selenium.webdriver.remote.webelement.WebElement (session=\"d9471d54785a31be37915f516a63528e\", element=\"5e644f38-e75f-42bc-be52-14e46b3c498d\")>]"
      ]
     },
     "execution_count": 703,
     "metadata": {},
     "output_type": "execute_result"
    }
   ],
   "source": [
    "color_tags=driver.find_elements_by_xpath(\"//li[@class='colour-listItem']\")\n",
    "color_tags[0:40]"
   ]
  },
  {
   "cell_type": "code",
   "execution_count": 704,
   "id": "8a5df575",
   "metadata": {},
   "outputs": [
    {
     "data": {
      "text/plain": [
       "['Black (17517)',\n",
       " 'Brown (5757)',\n",
       " 'White (4924)',\n",
       " 'Grey (4884)',\n",
       " 'Navy Blue (4529)',\n",
       " 'Tan (4168)',\n",
       " 'Blue (4082)',\n",
       " 'Black (17517)',\n",
       " 'Brown (5757)',\n",
       " 'White (4924)',\n",
       " 'Grey (4884)',\n",
       " 'Navy Blue (4529)',\n",
       " 'Tan (4168)',\n",
       " 'Blue (4082)',\n",
       " 'Black (17517)',\n",
       " 'Brown (5757)',\n",
       " 'White (4924)',\n",
       " 'Grey (4884)',\n",
       " 'Navy Blue (4529)',\n",
       " 'Tan (4168)',\n",
       " 'Blue (4082)',\n",
       " 'Black (17517)',\n",
       " 'Brown (5757)',\n",
       " 'White (4924)',\n",
       " 'Grey (4884)',\n",
       " 'Navy Blue (4529)',\n",
       " 'Tan (4168)',\n",
       " 'Blue (4082)',\n",
       " 'Black (17517)',\n",
       " 'Brown (5757)',\n",
       " 'White (4924)',\n",
       " 'Grey (4884)',\n",
       " 'Navy Blue (4529)',\n",
       " 'Tan (4168)',\n",
       " 'Blue (4082)',\n",
       " 'Black (17517)',\n",
       " 'Brown (5757)',\n",
       " 'White (4924)',\n",
       " 'Grey (4884)',\n",
       " 'Navy Blue (4529)',\n",
       " 'Tan (4168)',\n",
       " 'Blue (4082)',\n",
       " 'Black (17517)',\n",
       " 'Brown (5757)',\n",
       " 'White (4924)',\n",
       " 'Grey (4884)',\n",
       " 'Navy Blue (4529)',\n",
       " 'Tan (4168)',\n",
       " 'Blue (4082)',\n",
       " 'Black (17517)',\n",
       " 'Brown (5757)',\n",
       " 'White (4924)',\n",
       " 'Grey (4884)',\n",
       " 'Navy Blue (4529)',\n",
       " 'Tan (4168)',\n",
       " 'Blue (4082)',\n",
       " 'Black (17517)',\n",
       " 'Brown (5757)',\n",
       " 'White (4924)',\n",
       " 'Grey (4884)',\n",
       " 'Navy Blue (4529)',\n",
       " 'Tan (4168)',\n",
       " 'Blue (4082)',\n",
       " 'Black (592)',\n",
       " 'White (215)',\n",
       " 'Brown (203)',\n",
       " 'Grey (122)',\n",
       " 'Blue (100)',\n",
       " 'Tan (96)',\n",
       " 'Navy Blue (87)']"
      ]
     },
     "execution_count": 704,
     "metadata": {},
     "output_type": "execute_result"
    }
   ],
   "source": [
    "for i in color_tags:\n",
    "    colors=i.text\n",
    "    color.append(colors)\n",
    "color[0:100]"
   ]
  },
  {
   "cell_type": "code",
   "execution_count": 705,
   "id": "5aa1c9bd",
   "metadata": {},
   "outputs": [
    {
     "data": {
      "text/plain": [
       "[]"
      ]
     },
     "execution_count": 705,
     "metadata": {},
     "output_type": "execute_result"
    }
   ],
   "source": [
    "brand_tags=driver.find_elements_by_xpath(\"//div[@class='_3LWZlK _1BLPMq']\")\n",
    "brand_tags[0:40]"
   ]
  },
  {
   "cell_type": "code",
   "execution_count": null,
   "id": "2d5b4aee",
   "metadata": {},
   "outputs": [],
   "source": []
  },
  {
   "cell_type": "code",
   "execution_count": null,
   "id": "3bfca653",
   "metadata": {},
   "outputs": [],
   "source": []
  },
  {
   "cell_type": "code",
   "execution_count": null,
   "id": "b94496f6",
   "metadata": {},
   "outputs": [],
   "source": []
  },
  {
   "cell_type": "code",
   "execution_count": null,
   "id": "852ff243",
   "metadata": {},
   "outputs": [],
   "source": [
    "#8th program"
   ]
  },
  {
   "cell_type": "code",
   "execution_count": 706,
   "id": "d69a873c",
   "metadata": {},
   "outputs": [],
   "source": [
    "driver = webdriver.Chrome(r\"C:/Users/Vidhya/Downloads/chromedriver_win32/chromedriver.exe\")"
   ]
  },
  {
   "cell_type": "code",
   "execution_count": 707,
   "id": "65dbe59b",
   "metadata": {},
   "outputs": [],
   "source": [
    "url='https://www.amazon.in/'"
   ]
  },
  {
   "cell_type": "code",
   "execution_count": 708,
   "id": "dbe5ece9",
   "metadata": {},
   "outputs": [],
   "source": [
    "driver.get(url)"
   ]
  },
  {
   "cell_type": "code",
   "execution_count": 715,
   "id": "88e5108a",
   "metadata": {},
   "outputs": [],
   "source": [
    "filters1=[]\n",
    "filters2=[]"
   ]
  },
  {
   "cell_type": "code",
   "execution_count": 709,
   "id": "e7cb2868",
   "metadata": {},
   "outputs": [],
   "source": [
    "search_laptop=driver.find_element_by_id('twotabsearchtextbox')\n",
    "search_laptop.send_keys(\"Laptop\")"
   ]
  },
  {
   "cell_type": "code",
   "execution_count": 712,
   "id": "3025516b",
   "metadata": {},
   "outputs": [],
   "source": [
    "search_btn=driver.find_element_by_xpath(\"/html/body/div[1]/header/div/div[1]/div[2]/div/form/div[3]/div/span/input\")\n",
    "search_btn.click()"
   ]
  },
  {
   "cell_type": "code",
   "execution_count": 721,
   "id": "4a9fadda",
   "metadata": {},
   "outputs": [
    {
     "data": {
      "text/plain": [
       "[<selenium.webdriver.remote.webelement.WebElement (session=\"510435650c6fb00efb00001a6d327caf\", element=\"ffcc57b1-1a30-4e8f-9c11-c13008535d98\")>]"
      ]
     },
     "execution_count": 721,
     "metadata": {},
     "output_type": "execute_result"
    }
   ],
   "source": [
    "filter1_tags=driver.find_elements_by_xpath(\"/html/body/div[1]/div[2]/div[1]/div[2]/div/div[3]/span/div[1]/span/div/div/div[6]/ul[5]/li[12]\")\n",
    "filter1_tags[0:10]"
   ]
  },
  {
   "cell_type": "code",
   "execution_count": 716,
   "id": "33e1e2a1",
   "metadata": {},
   "outputs": [
    {
     "data": {
      "text/plain": [
       "['Intel Core i7']"
      ]
     },
     "execution_count": 716,
     "metadata": {},
     "output_type": "execute_result"
    }
   ],
   "source": [
    "for i in filter1_tags:\n",
    "    filter1=i.text\n",
    "    filters1.append(filter1)\n",
    "filters1[0:10]"
   ]
  },
  {
   "cell_type": "code",
   "execution_count": 722,
   "id": "3872084c",
   "metadata": {},
   "outputs": [],
   "source": [
    "search_btn=driver.find_element_by_xpath(\"/html/body/div[1]/div[2]/div[1]/div[2]/div/div[3]/span/div[1]/span/div/div/div[6]/ul[5]/li[11]/span/a/div/label/i\")\n",
    "search_btn.click()"
   ]
  },
  {
   "cell_type": "code",
   "execution_count": 723,
   "id": "6b69d2e5",
   "metadata": {},
   "outputs": [],
   "source": [
    "Title=[]\n",
    "Ratings=[]\n",
    "Price=[]"
   ]
  },
  {
   "cell_type": "code",
   "execution_count": 726,
   "id": "adc618c3",
   "metadata": {},
   "outputs": [
    {
     "data": {
      "text/plain": [
       "[<selenium.webdriver.remote.webelement.WebElement (session=\"510435650c6fb00efb00001a6d327caf\", element=\"1822a0f3-8a4c-4f49-84a1-129c7ff256b2\")>,\n",
       " <selenium.webdriver.remote.webelement.WebElement (session=\"510435650c6fb00efb00001a6d327caf\", element=\"37eed14c-52a3-4508-9283-8232556ad405\")>,\n",
       " <selenium.webdriver.remote.webelement.WebElement (session=\"510435650c6fb00efb00001a6d327caf\", element=\"2abbaa3a-e15f-40d3-b18c-1e10c996f530\")>,\n",
       " <selenium.webdriver.remote.webelement.WebElement (session=\"510435650c6fb00efb00001a6d327caf\", element=\"e47972b3-18fe-4074-aad3-fa09b799d5fc\")>,\n",
       " <selenium.webdriver.remote.webelement.WebElement (session=\"510435650c6fb00efb00001a6d327caf\", element=\"ae36b2a8-b5ea-422d-b920-fec290903545\")>,\n",
       " <selenium.webdriver.remote.webelement.WebElement (session=\"510435650c6fb00efb00001a6d327caf\", element=\"3370ab6b-1b79-4a99-8ec4-72ed7d48cbda\")>,\n",
       " <selenium.webdriver.remote.webelement.WebElement (session=\"510435650c6fb00efb00001a6d327caf\", element=\"efa043e5-68b0-4c0d-9c44-e1e5be396ce3\")>,\n",
       " <selenium.webdriver.remote.webelement.WebElement (session=\"510435650c6fb00efb00001a6d327caf\", element=\"ec2bff33-e87e-48fa-b539-245e4e4d76e1\")>,\n",
       " <selenium.webdriver.remote.webelement.WebElement (session=\"510435650c6fb00efb00001a6d327caf\", element=\"fbc4204d-00eb-444a-b076-e9b3374b756e\")>,\n",
       " <selenium.webdriver.remote.webelement.WebElement (session=\"510435650c6fb00efb00001a6d327caf\", element=\"b3dbb1a6-67a0-46f9-a48e-b8168f5a6f59\")>]"
      ]
     },
     "execution_count": 726,
     "metadata": {},
     "output_type": "execute_result"
    }
   ],
   "source": [
    "title_tags=driver.find_elements_by_xpath(\"//h2[@class='a-size-mini a-spacing-none a-color-base s-line-clamp-2']\")\n",
    "title_tags[0:10]"
   ]
  },
  {
   "cell_type": "code",
   "execution_count": 727,
   "id": "5b7d006c",
   "metadata": {},
   "outputs": [
    {
     "data": {
      "text/plain": [
       "['Lenovo ThinkBook Yoga 14s Intel Core i7 11th Gen 14\"(35.56cm) FHD IPS 300 nits 100% sRGB Dolby Vision 2-in-1 Touchscreen Laptop (16GB RAM/512GB SSD/Windows 10/MS Office/Active Pen/1.50 kg) 20WEA01EIH',\n",
       " 'Fujitsu UH-X 11th Gen Intel i7 Core 13.3 inches FHD IPS 400Nits Thin and Light Business Laptop (16GB/512GB SSD/Windows 10/Office/Iris Xe Graphics/Backlit Kb/ Fingerprint Reader/Black/0.878kg), 4ZR1D67596',\n",
       " 'HP Pavilion (2021) Intel 11th Gen Core i7 14 inches FHD Screen Thin & Light Laptop, 16 GB RAM, 1TB SSD, Iris Xe Graphics, Windows 10, MS Office, Backlit Keyboard, 1.41kg (14-dv0058TU)',\n",
       " 'Lenovo ThinkBook 15 Intel 11th Gen Core i7 15.6\"(39.62 cm)FHD IPS 300 nits Antiglare 100% sRGB Thin & Light Laptop(16GB/1TB HDD+128GB SSD/Windows 10/MS Office/3 Yr Onsite Warranty/1.7 Kg) 20VEA0HBIH',\n",
       " 'ASUS TUF Dash F15 (2021) 15.6-inch (39.62 cms) FHD 144Hz, Intel Core i7-11370H 11th Gen, RTX 3060 6GB Graphics, Gaming Laptop (16GB/512GB SSD/Office 2019/Windows 10/Gray/2 Kg), FX516PM-HN175TS',\n",
       " 'Lenovo Legion 5 11th Gen Intel Core i7 15.6\"(39.62cm) FHD IPS Gaming Laptop (16GB/512GB SSD/NVIDIA RTX 3050 4GB/120Hz Refresh Rate/Windows 10/MS Office/Backlit Keyboard/Phantom Blue/2.4Kg), 82JK007WIN',\n",
       " 'Lenovo IdeaPad Gaming 3 11th Gen Intel Core i7-11370H 15.6\" (39.63cm) FHD IPS Gaming Laptop (8GB/512GB SSD/Windows 10/NVIDIA RTX 3050 4GB/120Hz Refresh Display/Shadow Black/2.25Kg), 82K1004EIN',\n",
       " 'Mi Notebook Pro QHD+ IPS Anti Glare Display Intel Core i7-11370H 11th Gen 14-inch(35.56 cms) Thin and Light Laptop (16GB/512GB SSD/Iris Xe Graphics/Win 10/Backlit KB/Fingerprint Sensor/1.4 Kg)',\n",
       " 'ASUS ZenBook 14 (2020) Intel Core i7-1165G7 11th Gen 14 inches FHD Business Laptop (16GB/512GB SSD/Office 2019/Windows 10 Home/Iris Xe Graphics/Pine Grey/1.17 kg), UX425EA-KI701TS',\n",
       " 'ASUS TUF Dash F15 (2021), 15.6-inch (39.62 cms) FHD 144Hz, Intel Core i7-11370H 11th Gen, RTX 3050 4GB Graphics Gaming Laptop (16GB RAM/512GB SSD/Windows 10/Gray/2 kg), FX516PC-HN063T']"
      ]
     },
     "execution_count": 727,
     "metadata": {},
     "output_type": "execute_result"
    }
   ],
   "source": [
    "for i in title_tags:\n",
    "    titles=i.text\n",
    "    Title.append(titles)\n",
    "Title[0:10]"
   ]
  },
  {
   "cell_type": "code",
   "execution_count": 730,
   "id": "1183d089",
   "metadata": {},
   "outputs": [
    {
     "data": {
      "text/plain": [
       "[<selenium.webdriver.remote.webelement.WebElement (session=\"510435650c6fb00efb00001a6d327caf\", element=\"0394c1f8-6da7-4d70-923a-3e3bf0bae0a9\")>,\n",
       " <selenium.webdriver.remote.webelement.WebElement (session=\"510435650c6fb00efb00001a6d327caf\", element=\"670f559f-3538-4f10-84f6-e315c46d26f2\")>,\n",
       " <selenium.webdriver.remote.webelement.WebElement (session=\"510435650c6fb00efb00001a6d327caf\", element=\"3e8755e6-8e4a-49a4-9c03-08161454f40d\")>,\n",
       " <selenium.webdriver.remote.webelement.WebElement (session=\"510435650c6fb00efb00001a6d327caf\", element=\"12be861f-287d-4be1-982c-29cc88e118e8\")>,\n",
       " <selenium.webdriver.remote.webelement.WebElement (session=\"510435650c6fb00efb00001a6d327caf\", element=\"7a898405-22a5-41d4-b889-0ddc1fa5f322\")>,\n",
       " <selenium.webdriver.remote.webelement.WebElement (session=\"510435650c6fb00efb00001a6d327caf\", element=\"90cfe660-a46b-4555-9ff0-463417a5f5cb\")>,\n",
       " <selenium.webdriver.remote.webelement.WebElement (session=\"510435650c6fb00efb00001a6d327caf\", element=\"042c015f-05c5-4870-846c-5fca90533fe3\")>,\n",
       " <selenium.webdriver.remote.webelement.WebElement (session=\"510435650c6fb00efb00001a6d327caf\", element=\"ec322db7-0405-44bb-8e21-1c7abfe11446\")>,\n",
       " <selenium.webdriver.remote.webelement.WebElement (session=\"510435650c6fb00efb00001a6d327caf\", element=\"bba28387-e463-47e0-bc40-e11c22906ee5\")>,\n",
       " <selenium.webdriver.remote.webelement.WebElement (session=\"510435650c6fb00efb00001a6d327caf\", element=\"4d13daf1-120f-480d-86fc-36c8287ab4e8\")>]"
      ]
     },
     "execution_count": 730,
     "metadata": {},
     "output_type": "execute_result"
    }
   ],
   "source": [
    "rating_tags=driver.find_elements_by_xpath(\"//a[@class='a-popover-trigger a-declarative']\")\n",
    "rating_tags[0:10]"
   ]
  },
  {
   "cell_type": "code",
   "execution_count": 731,
   "id": "bb34f166",
   "metadata": {},
   "outputs": [
    {
     "data": {
      "text/plain": [
       "['', '', '', '', '', '', '', '', '', '']"
      ]
     },
     "execution_count": 731,
     "metadata": {},
     "output_type": "execute_result"
    }
   ],
   "source": [
    "for i in rating_tags:\n",
    "    ratings=i.text\n",
    "    Ratings.append(ratings)\n",
    "Ratings[0:10]"
   ]
  },
  {
   "cell_type": "code",
   "execution_count": 732,
   "id": "51e70f81",
   "metadata": {},
   "outputs": [
    {
     "data": {
      "text/plain": [
       "[<selenium.webdriver.remote.webelement.WebElement (session=\"510435650c6fb00efb00001a6d327caf\", element=\"97cf0f3e-1605-4b20-b7af-96476233e17c\")>,\n",
       " <selenium.webdriver.remote.webelement.WebElement (session=\"510435650c6fb00efb00001a6d327caf\", element=\"3550a1c4-56b2-490c-ba98-e2d1c3097aac\")>,\n",
       " <selenium.webdriver.remote.webelement.WebElement (session=\"510435650c6fb00efb00001a6d327caf\", element=\"69109942-73a5-4f10-ad7f-3475e314ee49\")>,\n",
       " <selenium.webdriver.remote.webelement.WebElement (session=\"510435650c6fb00efb00001a6d327caf\", element=\"02ff4af1-e904-4bef-bfa4-6122d47044c2\")>,\n",
       " <selenium.webdriver.remote.webelement.WebElement (session=\"510435650c6fb00efb00001a6d327caf\", element=\"66154233-79a4-46ca-9ac0-a22fe6a2f83d\")>,\n",
       " <selenium.webdriver.remote.webelement.WebElement (session=\"510435650c6fb00efb00001a6d327caf\", element=\"0e9af36e-a721-4d47-a681-3b1215d856d1\")>,\n",
       " <selenium.webdriver.remote.webelement.WebElement (session=\"510435650c6fb00efb00001a6d327caf\", element=\"e8dd307e-c469-49a8-9232-590e2c515072\")>,\n",
       " <selenium.webdriver.remote.webelement.WebElement (session=\"510435650c6fb00efb00001a6d327caf\", element=\"abc73cd0-3812-4d4f-9c67-5c7b83f312cc\")>,\n",
       " <selenium.webdriver.remote.webelement.WebElement (session=\"510435650c6fb00efb00001a6d327caf\", element=\"be6e3b7d-3e76-47ee-8438-7979f43ff802\")>,\n",
       " <selenium.webdriver.remote.webelement.WebElement (session=\"510435650c6fb00efb00001a6d327caf\", element=\"0e5b72d6-54af-40c0-b947-0d019d39b905\")>]"
      ]
     },
     "execution_count": 732,
     "metadata": {},
     "output_type": "execute_result"
    }
   ],
   "source": [
    "Price_tags=driver.find_elements_by_xpath(\"//span[@class='a-price-whole']\")\n",
    "Price_tags[0:10]"
   ]
  },
  {
   "cell_type": "code",
   "execution_count": 733,
   "id": "f3890b26",
   "metadata": {},
   "outputs": [
    {
     "data": {
      "text/plain": [
       "['89,990',\n",
       " '92,990',\n",
       " '84,990',\n",
       " '85,990',\n",
       " '1,09,990',\n",
       " '1,00,990',\n",
       " '82,990',\n",
       " '73,999',\n",
       " '89,990',\n",
       " '89,990']"
      ]
     },
     "execution_count": 733,
     "metadata": {},
     "output_type": "execute_result"
    }
   ],
   "source": [
    "for i in Price_tags:\n",
    "    prices=i.text\n",
    "    Price.append(prices)\n",
    "Price[0:10]"
   ]
  },
  {
   "cell_type": "code",
   "execution_count": null,
   "id": "11fffd4a",
   "metadata": {},
   "outputs": [],
   "source": [
    "#9th program"
   ]
  },
  {
   "cell_type": "code",
   "execution_count": 542,
   "id": "9c6cdc69",
   "metadata": {},
   "outputs": [],
   "source": [
    "driver = webdriver.Chrome(r\"C:/Users/Vidhya/Downloads/chromedriver_win32/chromedriver.exe\")"
   ]
  },
  {
   "cell_type": "code",
   "execution_count": 543,
   "id": "5736d6ba",
   "metadata": {},
   "outputs": [],
   "source": [
    "url=\"https://www.ambitionbox.com/\""
   ]
  },
  {
   "cell_type": "code",
   "execution_count": 544,
   "id": "99c58cd3",
   "metadata": {},
   "outputs": [],
   "source": [
    "driver.get(url)"
   ]
  },
  {
   "cell_type": "code",
   "execution_count": 545,
   "id": "4999acfa",
   "metadata": {},
   "outputs": [],
   "source": [
    "search_btn=driver.find_element_by_xpath(\"//a[@class='link jobs']\")\n",
    "search_btn.click()"
   ]
  },
  {
   "cell_type": "code",
   "execution_count": 546,
   "id": "d1e708f9",
   "metadata": {},
   "outputs": [],
   "source": [
    "search_job=driver.find_element_by_xpath(\"//input[@class='input tt-input']\")\n",
    "search_job.send_keys(\"Data Scientist\")"
   ]
  },
  {
   "cell_type": "code",
   "execution_count": 563,
   "id": "2a4a68e8",
   "metadata": {},
   "outputs": [
    {
     "ename": "AttributeError",
     "evalue": "'list' object has no attribute 'click'",
     "output_type": "error",
     "traceback": [
      "\u001b[1;31m---------------------------------------------------------------------------\u001b[0m",
      "\u001b[1;31mAttributeError\u001b[0m                            Traceback (most recent call last)",
      "\u001b[1;32m<ipython-input-563-3fd8bffcd368>\u001b[0m in \u001b[0;36m<module>\u001b[1;34m\u001b[0m\n\u001b[0;32m      1\u001b[0m \u001b[0msearch_btn\u001b[0m\u001b[1;33m=\u001b[0m\u001b[0mdriver\u001b[0m\u001b[1;33m.\u001b[0m\u001b[0mfind_elements_by_xpath\u001b[0m\u001b[1;33m(\u001b[0m\u001b[1;34m\"//div[@class='ab_btn search-btn round']/button\"\u001b[0m\u001b[1;33m)\u001b[0m\u001b[1;33m\u001b[0m\u001b[1;33m\u001b[0m\u001b[0m\n\u001b[1;32m----> 2\u001b[1;33m \u001b[0msearch_btn\u001b[0m\u001b[1;33m.\u001b[0m\u001b[0mclick\u001b[0m\u001b[1;33m(\u001b[0m\u001b[1;33m)\u001b[0m\u001b[1;33m\u001b[0m\u001b[1;33m\u001b[0m\u001b[0m\n\u001b[0m",
      "\u001b[1;31mAttributeError\u001b[0m: 'list' object has no attribute 'click'"
     ]
    }
   ],
   "source": [
    "search_btn=driver.find_elements_by_xpath(\"//div[@class='ab_btn search-btn round']/button\")\n",
    "search_btn.click()"
   ]
  },
  {
   "cell_type": "code",
   "execution_count": 571,
   "id": "f76a1a3e",
   "metadata": {},
   "outputs": [],
   "source": [
    "search_btn=driver.find_element_by_xpath(\"/html/body/div/div/div/div[2]/div[2]/div[1]/div/div/div/div[2]/div[1]/p\")\n",
    "search_btn.click()"
   ]
  },
  {
   "cell_type": "code",
   "execution_count": 572,
   "id": "68b95032",
   "metadata": {},
   "outputs": [],
   "source": [
    "search_btn=driver.find_element_by_xpath(\"/html/body/div/div/div/div[2]/div[2]/div[1]/div/div/div/div[2]/div[2]/div/div[3]/div[1]/div[7]/div/label\")\n",
    "search_btn.click()"
   ]
  },
  {
   "cell_type": "code",
   "execution_count": 592,
   "id": "2ea5f4c6",
   "metadata": {},
   "outputs": [
    {
     "data": {
      "text/plain": [
       "[<selenium.webdriver.remote.webelement.WebElement (session=\"741a7cf31e9f368e4f9c355bef6faa82\", element=\"c9e2f068-12a9-481e-b838-ce96a609abaf\")>]"
      ]
     },
     "execution_count": 592,
     "metadata": {},
     "output_type": "execute_result"
    }
   ],
   "source": [
    "jobs_tags=driver.find_elements_by_xpath(\"/html/body/div/div/div/div[2]/div[2]/div[2]/div[2]/div/div[1]/div[1]\")\n",
    "jobs_tags[0:10]"
   ]
  },
  {
   "cell_type": "code",
   "execution_count": 593,
   "id": "1ccb456d",
   "metadata": {},
   "outputs": [],
   "source": [
    "job_description=[]"
   ]
  },
  {
   "cell_type": "code",
   "execution_count": 594,
   "id": "6301d7f6",
   "metadata": {},
   "outputs": [
    {
     "data": {
      "text/plain": [
       "['Data Scientist\\nLG Electronics India Pvt. Ltd.\\n4.1\\n(1.7k Reviews)\\n0-2 Yrs\\nNot Disclosed\\nFaridabad, Delhi NCR, New Delhi +2 more\\nPython, Deep Learning, NLP +6 more\\n8d ago·via naukri.com']"
      ]
     },
     "execution_count": 594,
     "metadata": {},
     "output_type": "execute_result"
    }
   ],
   "source": [
    "for i in jobs_tags:\n",
    "    job_name=i.text\n",
    "    job_description.append(job_name)\n",
    "job_description[0:10]"
   ]
  },
  {
   "cell_type": "code",
   "execution_count": 595,
   "id": "881aa38c",
   "metadata": {},
   "outputs": [
    {
     "data": {
      "text/plain": [
       "[<selenium.webdriver.remote.webelement.WebElement (session=\"741a7cf31e9f368e4f9c355bef6faa82\", element=\"f5ec8eb1-d469-40fd-9208-b60774d95c19\")>]"
      ]
     },
     "execution_count": 595,
     "metadata": {},
     "output_type": "execute_result"
    }
   ],
   "source": [
    "jobs_tags=driver.find_elements_by_xpath(\"/html/body/div/div/div/div[2]/div[2]/div[2]/div[2]/div/div[1]/div[2]\")\n",
    "jobs_tags[0:10]"
   ]
  },
  {
   "cell_type": "code",
   "execution_count": 596,
   "id": "530a0112",
   "metadata": {},
   "outputs": [
    {
     "data": {
      "text/plain": [
       "['Data Scientist\\nLG Electronics India Pvt. Ltd.\\n4.1\\n(1.7k Reviews)\\n0-2 Yrs\\nNot Disclosed\\nFaridabad, Delhi NCR, New Delhi +2 more\\nPython, Deep Learning, NLP +6 more\\n8d ago·via naukri.com',\n",
       " 'Manager - Data Scientist\\nGENPACT India Private Limited\\n4.0\\n(11.9k Reviews)\\n5-10 Yrs\\nNot Disclosed\\nNoida\\nLogistic Regression, R, Machine Learning +7 more\\n15d ago·via naukri.com']"
      ]
     },
     "execution_count": 596,
     "metadata": {},
     "output_type": "execute_result"
    }
   ],
   "source": [
    "for i in jobs_tags:\n",
    "    job_name=i.text\n",
    "    job_description.append(job_name)\n",
    "job_description[0:10]"
   ]
  },
  {
   "cell_type": "code",
   "execution_count": 597,
   "id": "53631713",
   "metadata": {},
   "outputs": [
    {
     "name": "stdout",
     "output_type": "stream",
     "text": [
      "2\n"
     ]
    }
   ],
   "source": [
    "print(len(job_description))"
   ]
  },
  {
   "cell_type": "code",
   "execution_count": 598,
   "id": "4b721117",
   "metadata": {},
   "outputs": [],
   "source": [
    "jobs=pd.DataFrame({})\n",
    "jobs[\"job details\"]=job_description"
   ]
  },
  {
   "cell_type": "code",
   "execution_count": 599,
   "id": "e1c0d068",
   "metadata": {},
   "outputs": [
    {
     "data": {
      "text/html": [
       "<div>\n",
       "<style scoped>\n",
       "    .dataframe tbody tr th:only-of-type {\n",
       "        vertical-align: middle;\n",
       "    }\n",
       "\n",
       "    .dataframe tbody tr th {\n",
       "        vertical-align: top;\n",
       "    }\n",
       "\n",
       "    .dataframe thead th {\n",
       "        text-align: right;\n",
       "    }\n",
       "</style>\n",
       "<table border=\"1\" class=\"dataframe\">\n",
       "  <thead>\n",
       "    <tr style=\"text-align: right;\">\n",
       "      <th></th>\n",
       "      <th>job details</th>\n",
       "    </tr>\n",
       "  </thead>\n",
       "  <tbody>\n",
       "    <tr>\n",
       "      <th>0</th>\n",
       "      <td>Data Scientist\\nLG Electronics India Pvt. Ltd....</td>\n",
       "    </tr>\n",
       "    <tr>\n",
       "      <th>1</th>\n",
       "      <td>Manager - Data Scientist\\nGENPACT India Privat...</td>\n",
       "    </tr>\n",
       "  </tbody>\n",
       "</table>\n",
       "</div>"
      ],
      "text/plain": [
       "                                         job details\n",
       "0  Data Scientist\\nLG Electronics India Pvt. Ltd....\n",
       "1  Manager - Data Scientist\\nGENPACT India Privat..."
      ]
     },
     "execution_count": 599,
     "metadata": {},
     "output_type": "execute_result"
    }
   ],
   "source": [
    "jobs"
   ]
  },
  {
   "cell_type": "code",
   "execution_count": null,
   "id": "a4b1269d",
   "metadata": {},
   "outputs": [],
   "source": [
    "#10th program"
   ]
  },
  {
   "cell_type": "code",
   "execution_count": 734,
   "id": "5fff2ab2",
   "metadata": {},
   "outputs": [],
   "source": [
    "driver = webdriver.Chrome(r\"C:/Users/Vidhya/Downloads/chromedriver_win32/chromedriver.exe\")"
   ]
  },
  {
   "cell_type": "code",
   "execution_count": 735,
   "id": "a1c11734",
   "metadata": {},
   "outputs": [],
   "source": [
    "driver.get('https://www.ambitionbox.com/')"
   ]
  },
  {
   "cell_type": "code",
   "execution_count": 736,
   "id": "88d108f9",
   "metadata": {},
   "outputs": [],
   "source": [
    "search_btn=driver.find_element_by_xpath(\"/html/body/div[1]/nav/nav/a[4]\")\n",
    "search_btn.click()"
   ]
  },
  {
   "cell_type": "code",
   "execution_count": 737,
   "id": "c1e88819",
   "metadata": {},
   "outputs": [],
   "source": [
    "search_job=driver.find_element_by_xpath('/html/body/div/div/div/main/section[1]/div[2]/div[1]/span/input')\n",
    "search_job.send_keys(\"Data Scientist\")"
   ]
  },
  {
   "cell_type": "code",
   "execution_count": 739,
   "id": "ff3f595b",
   "metadata": {},
   "outputs": [],
   "source": [
    "search_btn=driver.find_element_by_xpath(\"/html/body/div/div/div/div[2]/div/div/div/button/span\")\n",
    "search_btn.click()"
   ]
  },
  {
   "cell_type": "code",
   "execution_count": 647,
   "id": "7497c7e4",
   "metadata": {},
   "outputs": [],
   "source": [
    "company_name=[]\n",
    "total_salary_record=[]\n",
    "average_salary=[]\n",
    "minimum_salary=[]\n",
    "maximum_salary=[]\n",
    "experience_required=[] "
   ]
  },
  {
   "cell_type": "code",
   "execution_count": 648,
   "id": "40994759",
   "metadata": {},
   "outputs": [
    {
     "data": {
      "text/plain": [
       "[<selenium.webdriver.remote.webelement.WebElement (session=\"b7bd71b078c67f28cb30038dedc8846f\", element=\"c0ac81e2-10c0-42f3-a00f-f8184fcdd991\")>]"
      ]
     },
     "execution_count": 648,
     "metadata": {},
     "output_type": "execute_result"
    }
   ],
   "source": [
    "company_tags=driver.find_elements_by_xpath(\"/html/body/div/div/div/main/section[1]/div[2]/div[3]/div[2]/div[1]/div[1]/div/div/div[1]/a\")\n",
    "company_tags[0:10]"
   ]
  },
  {
   "cell_type": "code",
   "execution_count": 649,
   "id": "f9aa3693",
   "metadata": {},
   "outputs": [
    {
     "data": {
      "text/plain": [
       "['Ab Inbev']"
      ]
     },
     "execution_count": 649,
     "metadata": {},
     "output_type": "execute_result"
    }
   ],
   "source": [
    "for i in company_tags:\n",
    "    company=i.text\n",
    "    company_name.append(company)\n",
    "company_name[0:10]"
   ]
  },
  {
   "cell_type": "code",
   "execution_count": 650,
   "id": "ec883442",
   "metadata": {},
   "outputs": [
    {
     "data": {
      "text/plain": [
       "[<selenium.webdriver.remote.webelement.WebElement (session=\"b7bd71b078c67f28cb30038dedc8846f\", element=\"ba45ee06-3c29-46ea-be82-8f8e67eb408e\")>]"
      ]
     },
     "execution_count": 650,
     "metadata": {},
     "output_type": "execute_result"
    }
   ],
   "source": [
    "salary_tags=driver.find_elements_by_xpath(\"/html/body/div/div/div/main/section[1]/div[2]/div[3]/div[2]/div[1]/div[2]/div/div[2]/div[2]\")\n",
    "salary_tags[0:10]"
   ]
  },
  {
   "cell_type": "code",
   "execution_count": 651,
   "id": "2530fe49",
   "metadata": {},
   "outputs": [
    {
     "data": {
      "text/plain": [
       "['₹ 23.0L']"
      ]
     },
     "execution_count": 651,
     "metadata": {},
     "output_type": "execute_result"
    }
   ],
   "source": [
    "for i in salary_tags:\n",
    "    salary0=i.text\n",
    "    maximum_salary.append(salary0)\n",
    "maximum_salary[0:10]"
   ]
  },
  {
   "cell_type": "code",
   "execution_count": 652,
   "id": "0e3f436d",
   "metadata": {},
   "outputs": [
    {
     "data": {
      "text/plain": [
       "[<selenium.webdriver.remote.webelement.WebElement (session=\"b7bd71b078c67f28cb30038dedc8846f\", element=\"ca12285d-bfb4-489c-9aa5-6664b5e32080\")>]"
      ]
     },
     "execution_count": 652,
     "metadata": {},
     "output_type": "execute_result"
    }
   ],
   "source": [
    "salary1_tags=driver.find_elements_by_xpath(\"/html/body/div/div/div/main/section[1]/div[2]/div[3]/div[2]/div[1]/div[2]/div/div[1]/div/p\")\n",
    "salary1_tags[0:10]"
   ]
  },
  {
   "cell_type": "code",
   "execution_count": 653,
   "id": "0cc38751",
   "metadata": {},
   "outputs": [
    {
     "data": {
      "text/plain": [
       "['₹ 19.0L']"
      ]
     },
     "execution_count": 653,
     "metadata": {},
     "output_type": "execute_result"
    }
   ],
   "source": [
    "for i in salary1_tags:\n",
    "    salary1=i.text\n",
    "    average_salary.append(salary1)\n",
    "average_salary[0:10]"
   ]
  },
  {
   "cell_type": "code",
   "execution_count": 654,
   "id": "23903b81",
   "metadata": {},
   "outputs": [
    {
     "data": {
      "text/plain": [
       "[<selenium.webdriver.remote.webelement.WebElement (session=\"b7bd71b078c67f28cb30038dedc8846f\", element=\"702be3d0-c9dc-4c36-a3b9-ba64b6d7cdc0\")>]"
      ]
     },
     "execution_count": 654,
     "metadata": {},
     "output_type": "execute_result"
    }
   ],
   "source": [
    "salary2_tags=driver.find_elements_by_xpath(\"/html/body/div/div/div/main/section[1]/div[2]/div[3]/div[2]/div[1]/div[2]/div/div[2]/div[1]\")\n",
    "salary2_tags[0:10]"
   ]
  },
  {
   "cell_type": "code",
   "execution_count": 655,
   "id": "b6596758",
   "metadata": {},
   "outputs": [
    {
     "data": {
      "text/plain": [
       "['₹ 15.0L']"
      ]
     },
     "execution_count": 655,
     "metadata": {},
     "output_type": "execute_result"
    }
   ],
   "source": [
    "for i in salary2_tags:\n",
    "    salary2=i.text\n",
    "    minimum_salary.append(salary2)\n",
    "minimum_salary[0:10]"
   ]
  },
  {
   "cell_type": "code",
   "execution_count": 656,
   "id": "a3958a9e",
   "metadata": {},
   "outputs": [
    {
     "data": {
      "text/plain": [
       "[<selenium.webdriver.remote.webelement.WebElement (session=\"b7bd71b078c67f28cb30038dedc8846f\", element=\"80059b00-0e3b-4424-a709-9e4a9e3d41d3\")>]"
      ]
     },
     "execution_count": 656,
     "metadata": {},
     "output_type": "execute_result"
    }
   ],
   "source": [
    "salary3_tags=driver.find_elements_by_xpath(\"/html/body/div/div/div/main/section[1]/div[2]/div[3]/div[2]/div[1]/div[1]/div/div/div[1]/span\")\n",
    "salary3_tags[0:10]"
   ]
  },
  {
   "cell_type": "code",
   "execution_count": 657,
   "id": "70143f4a",
   "metadata": {},
   "outputs": [
    {
     "data": {
      "text/plain": [
       "['based on 20 salaries']"
      ]
     },
     "execution_count": 657,
     "metadata": {},
     "output_type": "execute_result"
    }
   ],
   "source": [
    "for i in salary3_tags:\n",
    "    salary3=i.text\n",
    "    total_salary_record.append(salary3)\n",
    "total_salary_record[0:10]"
   ]
  },
  {
   "cell_type": "code",
   "execution_count": 658,
   "id": "c3cf41a1",
   "metadata": {},
   "outputs": [
    {
     "data": {
      "text/plain": [
       "[<selenium.webdriver.remote.webelement.WebElement (session=\"b7bd71b078c67f28cb30038dedc8846f\", element=\"e43145f1-be8e-45c3-81a7-fd838ba90475\")>]"
      ]
     },
     "execution_count": 658,
     "metadata": {},
     "output_type": "execute_result"
    }
   ],
   "source": [
    "experience_tags=driver.find_elements_by_xpath(\"/html/body/div/div/div/main/section[1]/div[2]/div[3]/div[2]/div[1]/div[1]/div/div/div[2]\")\n",
    "experience_tags[0:10]"
   ]
  },
  {
   "cell_type": "code",
   "execution_count": 659,
   "id": "efaaab0d",
   "metadata": {},
   "outputs": [
    {
     "data": {
      "text/plain": [
       "['Data Scientist\\n . \\n3-4 yrs exp']"
      ]
     },
     "execution_count": 659,
     "metadata": {},
     "output_type": "execute_result"
    }
   ],
   "source": [
    "for i in experience_tags:\n",
    "    experience=i.text\n",
    "    experience_required.append(experience)\n",
    "experience_required[0:10]"
   ]
  },
  {
   "cell_type": "code",
   "execution_count": 660,
   "id": "99765e6b",
   "metadata": {},
   "outputs": [
    {
     "name": "stdout",
     "output_type": "stream",
     "text": [
      "1 1 1 1 1 1\n"
     ]
    }
   ],
   "source": [
    "print(len(company_name),len(total_salary_record),len(average_salary),len(minimum_salary),len(maximum_salary),len(experience_required))"
   ]
  },
  {
   "cell_type": "code",
   "execution_count": 661,
   "id": "43b5779f",
   "metadata": {},
   "outputs": [],
   "source": [
    "jobs=pd.DataFrame({})\n",
    "jobs[\"company name\"]=company_name\n",
    "jobs[\"total salary record\"]=total_salary_record\n",
    "jobs[\"average salary\"]=average_salary\n",
    "jobs[\"minimum salary\"]=minimum_salary\n",
    "jobs[\"maximum salary\"]=maximum_salary\n",
    "jobs[\"experience required\"]=experience_required"
   ]
  },
  {
   "cell_type": "code",
   "execution_count": 662,
   "id": "b6836ed0",
   "metadata": {},
   "outputs": [
    {
     "data": {
      "text/html": [
       "<div>\n",
       "<style scoped>\n",
       "    .dataframe tbody tr th:only-of-type {\n",
       "        vertical-align: middle;\n",
       "    }\n",
       "\n",
       "    .dataframe tbody tr th {\n",
       "        vertical-align: top;\n",
       "    }\n",
       "\n",
       "    .dataframe thead th {\n",
       "        text-align: right;\n",
       "    }\n",
       "</style>\n",
       "<table border=\"1\" class=\"dataframe\">\n",
       "  <thead>\n",
       "    <tr style=\"text-align: right;\">\n",
       "      <th></th>\n",
       "      <th>company name</th>\n",
       "      <th>total salary record</th>\n",
       "      <th>average salary</th>\n",
       "      <th>minimum salary</th>\n",
       "      <th>maximum salary</th>\n",
       "      <th>experience required</th>\n",
       "    </tr>\n",
       "  </thead>\n",
       "  <tbody>\n",
       "    <tr>\n",
       "      <th>0</th>\n",
       "      <td>Ab Inbev</td>\n",
       "      <td>based on 20 salaries</td>\n",
       "      <td>₹ 19.0L</td>\n",
       "      <td>₹ 15.0L</td>\n",
       "      <td>₹ 23.0L</td>\n",
       "      <td>Data Scientist\\n . \\n3-4 yrs exp</td>\n",
       "    </tr>\n",
       "  </tbody>\n",
       "</table>\n",
       "</div>"
      ],
      "text/plain": [
       "  company name   total salary record average salary minimum salary  \\\n",
       "0     Ab Inbev  based on 20 salaries        ₹ 19.0L        ₹ 15.0L   \n",
       "\n",
       "  maximum salary               experience required  \n",
       "0        ₹ 23.0L  Data Scientist\\n . \\n3-4 yrs exp  "
      ]
     },
     "execution_count": 662,
     "metadata": {},
     "output_type": "execute_result"
    }
   ],
   "source": [
    "jobs"
   ]
  },
  {
   "cell_type": "code",
   "execution_count": null,
   "id": "f05a3857",
   "metadata": {},
   "outputs": [],
   "source": []
  }
 ],
 "metadata": {
  "kernelspec": {
   "display_name": "Python 3",
   "language": "python",
   "name": "python3"
  },
  "language_info": {
   "codemirror_mode": {
    "name": "ipython",
    "version": 3
   },
   "file_extension": ".py",
   "mimetype": "text/x-python",
   "name": "python",
   "nbconvert_exporter": "python",
   "pygments_lexer": "ipython3",
   "version": "3.8.8"
  }
 },
 "nbformat": 4,
 "nbformat_minor": 5
}
